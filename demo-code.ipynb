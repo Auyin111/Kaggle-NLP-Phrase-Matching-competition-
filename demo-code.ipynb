{
 "cells": [
  {
   "cell_type": "code",
   "execution_count": 14,
   "metadata": {
    "execution": {
     "iopub.execute_input": "2022-05-11T14:28:29.657298Z",
     "iopub.status.busy": "2022-05-11T14:28:29.656876Z",
     "iopub.status.idle": "2022-05-11T14:28:29.668667Z",
     "shell.execute_reply": "2022-05-11T14:28:29.667780Z",
     "shell.execute_reply.started": "2022-05-11T14:28:29.657261Z"
    }
   },
   "outputs": [],
   "source": [
    "import scipy as sp\n",
    "import numpy as np\n",
    "import pandas as pd\n",
    "import os, random, time, math\n",
    "import torch\n",
    "import stat\n",
    "import shutil\n",
    "import wandb\n",
    "\n",
    "def rmtree(top):\n",
    "\n",
    "    for root, dirs, files in os.walk(top, topdown=False):\n",
    "        for name in files:\n",
    "            filename = os.path.join(root, name)\n",
    "            os.chmod(filename, stat.S_IWUSR)\n",
    "            os.remove(filename)\n",
    "        for name in dirs:\n",
    "            os.rmdir(os.path.join(root, name))\n",
    "    os.rmdir(top)\n",
    "\n",
    "def copy_and_overwrite(from_path, to_path):\n",
    "\n",
    "    if os.path.exists(to_path):\n",
    "        shutil.rmtree(to_path)\n",
    "    shutil.copytree(from_path, to_path)\n",
    "\n",
    "def copy_to_working_dir(source_dir, destination_dir):\n",
    "\n",
    "    # copy all folder and file in working directory\n",
    "    source_dir = '../input/patent-code/competition_patent_upload'\n",
    "    destination_dir = '../working'\n",
    "\n",
    "    for folder_or_file in os.listdir(source_dir):\n",
    "\n",
    "        path_folder_file = os.path.join(source_dir, folder_or_file)\n",
    "        path_folder_file_des = os.path.join(destination_dir, folder_or_file)\n",
    "\n",
    "        if os.path.isdir(path_folder_file):\n",
    "            copy_and_overwrite(path_folder_file, path_folder_file_des)\n",
    "        else:\n",
    "            # copying the files to the\n",
    "            # destination directory\n",
    "            shutil.copy2(path_folder_file, destination_dir)"
   ]
  },
  {
   "cell_type": "code",
   "execution_count": 15,
   "metadata": {
    "execution": {
     "iopub.execute_input": "2022-05-11T14:28:29.670728Z",
     "iopub.status.busy": "2022-05-11T14:28:29.670395Z",
     "iopub.status.idle": "2022-05-11T14:28:29.733036Z",
     "shell.execute_reply": "2022-05-11T14:28:29.732417Z",
     "shell.execute_reply.started": "2022-05-11T14:28:29.670691Z"
    }
   },
   "outputs": [],
   "source": [
    "source_dir = '../input/patent-code/competition_patent_upload'\n",
    "destination_dir = '../working'\n",
    "\n",
    "copy_to_working_dir(source_dir, destination_dir)\n",
    "os.listdir()"
   ]
  },
  {
   "cell_type": "code",
   "execution_count": 16,
   "metadata": {
    "execution": {
     "iopub.execute_input": "2022-05-11T14:28:29.735605Z",
     "iopub.status.busy": "2022-05-11T14:28:29.735420Z",
     "iopub.status.idle": "2022-05-11T14:28:49.774095Z",
     "shell.execute_reply": "2022-05-11T14:28:49.773323Z",
     "shell.execute_reply.started": "2022-05-11T14:28:29.735583Z"
    }
   },
   "outputs": [],
   "source": [
    "try:\n",
    "    from kaggle_secrets import UserSecretsClient\n",
    "    user_secrets = UserSecretsClient()\n",
    "    secret_value_0 = user_secrets.get_secret(\"wandb_api\")\n",
    "    wandb.login(key=secret_value_0)\n",
    "except:\n",
    "    print('can not connect to wandb, it may due to internet or secret problem')"
   ]
  },
  {
   "cell_type": "code",
   "execution_count": 17,
   "metadata": {
    "execution": {
     "iopub.execute_input": "2022-05-11T14:28:49.777602Z",
     "iopub.status.busy": "2022-05-11T14:28:49.777400Z",
     "iopub.status.idle": "2022-05-11T14:29:53.126622Z",
     "shell.execute_reply": "2022-05-11T14:29:53.125853Z",
     "shell.execute_reply.started": "2022-05-11T14:28:49.777576Z"
    }
   },
   "outputs": [],
   "source": [
    "from main import train_model, predict_result\n",
    "\n",
    "version = 'v2.0.10'\n",
    "# train_model(version, False)\n",
    "predict_result(version, False)"
   ]
  }
 ],
 "metadata": {
  "kernelspec": {
   "display_name": "Python 3 (ipykernel)",
   "language": "python",
   "name": "python3"
  },
  "language_info": {
   "codemirror_mode": {
    "name": "ipython",
    "version": 3
   },
   "file_extension": ".py",
   "mimetype": "text/x-python",
   "name": "python",
   "nbconvert_exporter": "python",
   "pygments_lexer": "ipython3",
   "version": "3.9.12"
  }
 },
 "nbformat": 4,
 "nbformat_minor": 4
}
