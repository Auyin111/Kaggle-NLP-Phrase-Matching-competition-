{
  "nbformat": 4,
  "nbformat_minor": 0,
  "metadata": {
    "colab": {
      "name": "pre_eda",
      "provenance": [],
      "collapsed_sections": []
    },
    "kernelspec": {
      "name": "python3",
      "display_name": "Python 3"
    },
    "language_info": {
      "name": "python"
    }
  },
  "cells": [
    {
      "cell_type": "code",
      "execution_count": null,
      "metadata": {
        "id": "hZQFNwdl02aY"
      },
      "outputs": [],
      "source": [
        "import pandas as pd\n",
        "import numpy as np\n",
        "import matplotlib.pyplot as plt\n",
        "import seaborn as sns\n",
        "from sklearn.tree import DecisionTreeClassifier"
      ]
    },
    {
      "cell_type": "code",
      "source": [
        "! pip install fuzzywuzzy"
      ],
      "metadata": {
        "colab": {
          "base_uri": "https://localhost:8080/"
        },
        "id": "OX2JFTJ7KVIi",
        "outputId": "cab9e12a-3241-4350-e81d-a7c56d12ed81"
      },
      "execution_count": null,
      "outputs": [
        {
          "output_type": "stream",
          "name": "stdout",
          "text": [
            "Looking in indexes: https://pypi.org/simple, https://us-python.pkg.dev/colab-wheels/public/simple/\n",
            "Collecting fuzzywuzzy\n",
            "  Downloading fuzzywuzzy-0.18.0-py2.py3-none-any.whl (18 kB)\n",
            "Installing collected packages: fuzzywuzzy\n",
            "Successfully installed fuzzywuzzy-0.18.0\n"
          ]
        }
      ]
    },
    {
      "cell_type": "code",
      "source": [
        "#from google.colab import drive\n",
        "#drive.mount('/content/drive')"
      ],
      "metadata": {
        "id": "ZJUaDzA71-JZ",
        "colab": {
          "base_uri": "https://localhost:8080/"
        },
        "outputId": "bc77bcab-cb26-459b-b8ad-3ebd28e9a3b9"
      },
      "execution_count": 7,
      "outputs": [
        {
          "output_type": "stream",
          "name": "stdout",
          "text": [
            "Mounted at /content/drive\n"
          ]
        }
      ]
    },
    {
      "cell_type": "code",
      "source": [
        "#! ls /content/drive/MyDrive/'ML Studies'/train.csv"
      ],
      "metadata": {
        "colab": {
          "base_uri": "https://localhost:8080/"
        },
        "id": "O4XJ26zd6pqF",
        "outputId": "2c6b12c6-bc52-430d-ee62-bd74c3ceb968"
      },
      "execution_count": 16,
      "outputs": [
        {
          "output_type": "stream",
          "name": "stdout",
          "text": [
            "'/content/drive/MyDrive/ML Studies/train.csv'\n"
          ]
        }
      ]
    },
    {
      "cell_type": "code",
      "source": [
        "#import nltk"
      ],
      "metadata": {
        "id": "fl1sWYWY1Ev2"
      },
      "execution_count": null,
      "outputs": []
    },
    {
      "cell_type": "code",
      "source": [
        "#nltk.download()"
      ],
      "metadata": {
        "id": "_0go9Fcp2VdT"
      },
      "execution_count": null,
      "outputs": []
    },
    {
      "cell_type": "code",
      "source": [
        "#from nltk.corpus import stopwords\n",
        "#from nltk.tokenize import word_tokenize, sent_tokenize\n",
        "#stop_words = set(stopwords.words('english'))"
      ],
      "metadata": {
        "id": "xwliugoLxX9f"
      },
      "execution_count": null,
      "outputs": []
    },
    {
      "cell_type": "code",
      "source": [
        "#tokenized = sent_tokenize(df[\"target\"][0])\n",
        "#tokenized"
      ],
      "metadata": {
        "id": "NE4wPy8OxYie"
      },
      "execution_count": null,
      "outputs": []
    },
    {
      "cell_type": "markdown",
      "source": [
        "**0. Input the data and basics**\n",
        "\n",
        "\n"
      ],
      "metadata": {
        "id": "XehyQrSywm5U"
      }
    },
    {
      "cell_type": "code",
      "source": [
        "df = pd.read_csv(\"/content/drive/MyDrive/ML Studies/train.csv\")\n",
        "df"
      ],
      "metadata": {
        "colab": {
          "base_uri": "https://localhost:8080/",
          "height": 424
        },
        "id": "MdBPKgz21KFS",
        "outputId": "1edd9515-6058-44e4-c90a-b57a0881ba78"
      },
      "execution_count": 21,
      "outputs": [
        {
          "output_type": "execute_result",
          "data": {
            "text/plain": [
              "                     id        anchor                  target context  score\n",
              "0      37d61fd2272659b1     abatement  abatement of pollution     A47   0.50\n",
              "1      7b9652b17b68b7a4     abatement          act of abating     A47   0.75\n",
              "2      36d72442aefd8232     abatement         active catalyst     A47   0.25\n",
              "3      5296b0c19e1ce60e     abatement     eliminating process     A47   0.50\n",
              "4      54c1e3b9184cb5b6     abatement           forest region     A47   0.00\n",
              "...                 ...           ...                     ...     ...    ...\n",
              "36468  8e1386cbefd7f245  wood article          wooden article     B44   1.00\n",
              "36469  42d9e032d1cd3242  wood article              wooden box     B44   0.50\n",
              "36470  208654ccb9e14fa3  wood article           wooden handle     B44   0.50\n",
              "36471  756ec035e694722b  wood article         wooden material     B44   0.75\n",
              "36472  8d135da0b55b8c88  wood article        wooden substrate     B44   0.50\n",
              "\n",
              "[36473 rows x 5 columns]"
            ],
            "text/html": [
              "\n",
              "  <div id=\"df-988188e7-94cd-48ff-aa6f-687df054ca97\">\n",
              "    <div class=\"colab-df-container\">\n",
              "      <div>\n",
              "<style scoped>\n",
              "    .dataframe tbody tr th:only-of-type {\n",
              "        vertical-align: middle;\n",
              "    }\n",
              "\n",
              "    .dataframe tbody tr th {\n",
              "        vertical-align: top;\n",
              "    }\n",
              "\n",
              "    .dataframe thead th {\n",
              "        text-align: right;\n",
              "    }\n",
              "</style>\n",
              "<table border=\"1\" class=\"dataframe\">\n",
              "  <thead>\n",
              "    <tr style=\"text-align: right;\">\n",
              "      <th></th>\n",
              "      <th>id</th>\n",
              "      <th>anchor</th>\n",
              "      <th>target</th>\n",
              "      <th>context</th>\n",
              "      <th>score</th>\n",
              "    </tr>\n",
              "  </thead>\n",
              "  <tbody>\n",
              "    <tr>\n",
              "      <th>0</th>\n",
              "      <td>37d61fd2272659b1</td>\n",
              "      <td>abatement</td>\n",
              "      <td>abatement of pollution</td>\n",
              "      <td>A47</td>\n",
              "      <td>0.50</td>\n",
              "    </tr>\n",
              "    <tr>\n",
              "      <th>1</th>\n",
              "      <td>7b9652b17b68b7a4</td>\n",
              "      <td>abatement</td>\n",
              "      <td>act of abating</td>\n",
              "      <td>A47</td>\n",
              "      <td>0.75</td>\n",
              "    </tr>\n",
              "    <tr>\n",
              "      <th>2</th>\n",
              "      <td>36d72442aefd8232</td>\n",
              "      <td>abatement</td>\n",
              "      <td>active catalyst</td>\n",
              "      <td>A47</td>\n",
              "      <td>0.25</td>\n",
              "    </tr>\n",
              "    <tr>\n",
              "      <th>3</th>\n",
              "      <td>5296b0c19e1ce60e</td>\n",
              "      <td>abatement</td>\n",
              "      <td>eliminating process</td>\n",
              "      <td>A47</td>\n",
              "      <td>0.50</td>\n",
              "    </tr>\n",
              "    <tr>\n",
              "      <th>4</th>\n",
              "      <td>54c1e3b9184cb5b6</td>\n",
              "      <td>abatement</td>\n",
              "      <td>forest region</td>\n",
              "      <td>A47</td>\n",
              "      <td>0.00</td>\n",
              "    </tr>\n",
              "    <tr>\n",
              "      <th>...</th>\n",
              "      <td>...</td>\n",
              "      <td>...</td>\n",
              "      <td>...</td>\n",
              "      <td>...</td>\n",
              "      <td>...</td>\n",
              "    </tr>\n",
              "    <tr>\n",
              "      <th>36468</th>\n",
              "      <td>8e1386cbefd7f245</td>\n",
              "      <td>wood article</td>\n",
              "      <td>wooden article</td>\n",
              "      <td>B44</td>\n",
              "      <td>1.00</td>\n",
              "    </tr>\n",
              "    <tr>\n",
              "      <th>36469</th>\n",
              "      <td>42d9e032d1cd3242</td>\n",
              "      <td>wood article</td>\n",
              "      <td>wooden box</td>\n",
              "      <td>B44</td>\n",
              "      <td>0.50</td>\n",
              "    </tr>\n",
              "    <tr>\n",
              "      <th>36470</th>\n",
              "      <td>208654ccb9e14fa3</td>\n",
              "      <td>wood article</td>\n",
              "      <td>wooden handle</td>\n",
              "      <td>B44</td>\n",
              "      <td>0.50</td>\n",
              "    </tr>\n",
              "    <tr>\n",
              "      <th>36471</th>\n",
              "      <td>756ec035e694722b</td>\n",
              "      <td>wood article</td>\n",
              "      <td>wooden material</td>\n",
              "      <td>B44</td>\n",
              "      <td>0.75</td>\n",
              "    </tr>\n",
              "    <tr>\n",
              "      <th>36472</th>\n",
              "      <td>8d135da0b55b8c88</td>\n",
              "      <td>wood article</td>\n",
              "      <td>wooden substrate</td>\n",
              "      <td>B44</td>\n",
              "      <td>0.50</td>\n",
              "    </tr>\n",
              "  </tbody>\n",
              "</table>\n",
              "<p>36473 rows × 5 columns</p>\n",
              "</div>\n",
              "      <button class=\"colab-df-convert\" onclick=\"convertToInteractive('df-988188e7-94cd-48ff-aa6f-687df054ca97')\"\n",
              "              title=\"Convert this dataframe to an interactive table.\"\n",
              "              style=\"display:none;\">\n",
              "        \n",
              "  <svg xmlns=\"http://www.w3.org/2000/svg\" height=\"24px\"viewBox=\"0 0 24 24\"\n",
              "       width=\"24px\">\n",
              "    <path d=\"M0 0h24v24H0V0z\" fill=\"none\"/>\n",
              "    <path d=\"M18.56 5.44l.94 2.06.94-2.06 2.06-.94-2.06-.94-.94-2.06-.94 2.06-2.06.94zm-11 1L8.5 8.5l.94-2.06 2.06-.94-2.06-.94L8.5 2.5l-.94 2.06-2.06.94zm10 10l.94 2.06.94-2.06 2.06-.94-2.06-.94-.94-2.06-.94 2.06-2.06.94z\"/><path d=\"M17.41 7.96l-1.37-1.37c-.4-.4-.92-.59-1.43-.59-.52 0-1.04.2-1.43.59L10.3 9.45l-7.72 7.72c-.78.78-.78 2.05 0 2.83L4 21.41c.39.39.9.59 1.41.59.51 0 1.02-.2 1.41-.59l7.78-7.78 2.81-2.81c.8-.78.8-2.07 0-2.86zM5.41 20L4 18.59l7.72-7.72 1.47 1.35L5.41 20z\"/>\n",
              "  </svg>\n",
              "      </button>\n",
              "      \n",
              "  <style>\n",
              "    .colab-df-container {\n",
              "      display:flex;\n",
              "      flex-wrap:wrap;\n",
              "      gap: 12px;\n",
              "    }\n",
              "\n",
              "    .colab-df-convert {\n",
              "      background-color: #E8F0FE;\n",
              "      border: none;\n",
              "      border-radius: 50%;\n",
              "      cursor: pointer;\n",
              "      display: none;\n",
              "      fill: #1967D2;\n",
              "      height: 32px;\n",
              "      padding: 0 0 0 0;\n",
              "      width: 32px;\n",
              "    }\n",
              "\n",
              "    .colab-df-convert:hover {\n",
              "      background-color: #E2EBFA;\n",
              "      box-shadow: 0px 1px 2px rgba(60, 64, 67, 0.3), 0px 1px 3px 1px rgba(60, 64, 67, 0.15);\n",
              "      fill: #174EA6;\n",
              "    }\n",
              "\n",
              "    [theme=dark] .colab-df-convert {\n",
              "      background-color: #3B4455;\n",
              "      fill: #D2E3FC;\n",
              "    }\n",
              "\n",
              "    [theme=dark] .colab-df-convert:hover {\n",
              "      background-color: #434B5C;\n",
              "      box-shadow: 0px 1px 3px 1px rgba(0, 0, 0, 0.15);\n",
              "      filter: drop-shadow(0px 1px 2px rgba(0, 0, 0, 0.3));\n",
              "      fill: #FFFFFF;\n",
              "    }\n",
              "  </style>\n",
              "\n",
              "      <script>\n",
              "        const buttonEl =\n",
              "          document.querySelector('#df-988188e7-94cd-48ff-aa6f-687df054ca97 button.colab-df-convert');\n",
              "        buttonEl.style.display =\n",
              "          google.colab.kernel.accessAllowed ? 'block' : 'none';\n",
              "\n",
              "        async function convertToInteractive(key) {\n",
              "          const element = document.querySelector('#df-988188e7-94cd-48ff-aa6f-687df054ca97');\n",
              "          const dataTable =\n",
              "            await google.colab.kernel.invokeFunction('convertToInteractive',\n",
              "                                                     [key], {});\n",
              "          if (!dataTable) return;\n",
              "\n",
              "          const docLinkHtml = 'Like what you see? Visit the ' +\n",
              "            '<a target=\"_blank\" href=https://colab.research.google.com/notebooks/data_table.ipynb>data table notebook</a>'\n",
              "            + ' to learn more about interactive tables.';\n",
              "          element.innerHTML = '';\n",
              "          dataTable['output_type'] = 'display_data';\n",
              "          await google.colab.output.renderOutput(dataTable, element);\n",
              "          const docLink = document.createElement('div');\n",
              "          docLink.innerHTML = docLinkHtml;\n",
              "          element.appendChild(docLink);\n",
              "        }\n",
              "      </script>\n",
              "    </div>\n",
              "  </div>\n",
              "  "
            ]
          },
          "metadata": {},
          "execution_count": 21
        }
      ]
    },
    {
      "cell_type": "markdown",
      "source": [
        "# New Section"
      ],
      "metadata": {
        "id": "Sv5I7lmz6IKO"
      }
    },
    {
      "cell_type": "code",
      "source": [
        "df[\"context_group\"] = df[\"context\"].str[0]\n",
        "sorted(df[\"context_group\"].unique())"
      ],
      "metadata": {
        "colab": {
          "base_uri": "https://localhost:8080/"
        },
        "id": "Glyt9jUESSrl",
        "outputId": "5cdefc25-1ce1-452c-9bf0-181f08017bcc"
      },
      "execution_count": 22,
      "outputs": [
        {
          "output_type": "execute_result",
          "data": {
            "text/plain": [
              "['A', 'B', 'C', 'D', 'E', 'F', 'G', 'H']"
            ]
          },
          "metadata": {},
          "execution_count": 22
        }
      ]
    },
    {
      "cell_type": "code",
      "source": [
        ""
      ],
      "metadata": {
        "id": "vAIuveJ7582Q"
      },
      "execution_count": 22,
      "outputs": []
    },
    {
      "cell_type": "code",
      "source": [
        "df[\"number_of_words\"] = df[\"target\"].str.split().apply(len).values\n",
        "df.head()"
      ],
      "metadata": {
        "colab": {
          "base_uri": "https://localhost:8080/",
          "height": 206
        },
        "id": "fx23Q9pl2VuC",
        "outputId": "059d1771-98a5-45d4-9daa-0b67846898ed"
      },
      "execution_count": 23,
      "outputs": [
        {
          "output_type": "execute_result",
          "data": {
            "text/plain": [
              "                 id     anchor                  target context  score  \\\n",
              "0  37d61fd2272659b1  abatement  abatement of pollution     A47   0.50   \n",
              "1  7b9652b17b68b7a4  abatement          act of abating     A47   0.75   \n",
              "2  36d72442aefd8232  abatement         active catalyst     A47   0.25   \n",
              "3  5296b0c19e1ce60e  abatement     eliminating process     A47   0.50   \n",
              "4  54c1e3b9184cb5b6  abatement           forest region     A47   0.00   \n",
              "\n",
              "  context_group  number_of_words  \n",
              "0             A                3  \n",
              "1             A                3  \n",
              "2             A                2  \n",
              "3             A                2  \n",
              "4             A                2  "
            ],
            "text/html": [
              "\n",
              "  <div id=\"df-8468b423-e109-4fce-9b00-eff7455d8370\">\n",
              "    <div class=\"colab-df-container\">\n",
              "      <div>\n",
              "<style scoped>\n",
              "    .dataframe tbody tr th:only-of-type {\n",
              "        vertical-align: middle;\n",
              "    }\n",
              "\n",
              "    .dataframe tbody tr th {\n",
              "        vertical-align: top;\n",
              "    }\n",
              "\n",
              "    .dataframe thead th {\n",
              "        text-align: right;\n",
              "    }\n",
              "</style>\n",
              "<table border=\"1\" class=\"dataframe\">\n",
              "  <thead>\n",
              "    <tr style=\"text-align: right;\">\n",
              "      <th></th>\n",
              "      <th>id</th>\n",
              "      <th>anchor</th>\n",
              "      <th>target</th>\n",
              "      <th>context</th>\n",
              "      <th>score</th>\n",
              "      <th>context_group</th>\n",
              "      <th>number_of_words</th>\n",
              "    </tr>\n",
              "  </thead>\n",
              "  <tbody>\n",
              "    <tr>\n",
              "      <th>0</th>\n",
              "      <td>37d61fd2272659b1</td>\n",
              "      <td>abatement</td>\n",
              "      <td>abatement of pollution</td>\n",
              "      <td>A47</td>\n",
              "      <td>0.50</td>\n",
              "      <td>A</td>\n",
              "      <td>3</td>\n",
              "    </tr>\n",
              "    <tr>\n",
              "      <th>1</th>\n",
              "      <td>7b9652b17b68b7a4</td>\n",
              "      <td>abatement</td>\n",
              "      <td>act of abating</td>\n",
              "      <td>A47</td>\n",
              "      <td>0.75</td>\n",
              "      <td>A</td>\n",
              "      <td>3</td>\n",
              "    </tr>\n",
              "    <tr>\n",
              "      <th>2</th>\n",
              "      <td>36d72442aefd8232</td>\n",
              "      <td>abatement</td>\n",
              "      <td>active catalyst</td>\n",
              "      <td>A47</td>\n",
              "      <td>0.25</td>\n",
              "      <td>A</td>\n",
              "      <td>2</td>\n",
              "    </tr>\n",
              "    <tr>\n",
              "      <th>3</th>\n",
              "      <td>5296b0c19e1ce60e</td>\n",
              "      <td>abatement</td>\n",
              "      <td>eliminating process</td>\n",
              "      <td>A47</td>\n",
              "      <td>0.50</td>\n",
              "      <td>A</td>\n",
              "      <td>2</td>\n",
              "    </tr>\n",
              "    <tr>\n",
              "      <th>4</th>\n",
              "      <td>54c1e3b9184cb5b6</td>\n",
              "      <td>abatement</td>\n",
              "      <td>forest region</td>\n",
              "      <td>A47</td>\n",
              "      <td>0.00</td>\n",
              "      <td>A</td>\n",
              "      <td>2</td>\n",
              "    </tr>\n",
              "  </tbody>\n",
              "</table>\n",
              "</div>\n",
              "      <button class=\"colab-df-convert\" onclick=\"convertToInteractive('df-8468b423-e109-4fce-9b00-eff7455d8370')\"\n",
              "              title=\"Convert this dataframe to an interactive table.\"\n",
              "              style=\"display:none;\">\n",
              "        \n",
              "  <svg xmlns=\"http://www.w3.org/2000/svg\" height=\"24px\"viewBox=\"0 0 24 24\"\n",
              "       width=\"24px\">\n",
              "    <path d=\"M0 0h24v24H0V0z\" fill=\"none\"/>\n",
              "    <path d=\"M18.56 5.44l.94 2.06.94-2.06 2.06-.94-2.06-.94-.94-2.06-.94 2.06-2.06.94zm-11 1L8.5 8.5l.94-2.06 2.06-.94-2.06-.94L8.5 2.5l-.94 2.06-2.06.94zm10 10l.94 2.06.94-2.06 2.06-.94-2.06-.94-.94-2.06-.94 2.06-2.06.94z\"/><path d=\"M17.41 7.96l-1.37-1.37c-.4-.4-.92-.59-1.43-.59-.52 0-1.04.2-1.43.59L10.3 9.45l-7.72 7.72c-.78.78-.78 2.05 0 2.83L4 21.41c.39.39.9.59 1.41.59.51 0 1.02-.2 1.41-.59l7.78-7.78 2.81-2.81c.8-.78.8-2.07 0-2.86zM5.41 20L4 18.59l7.72-7.72 1.47 1.35L5.41 20z\"/>\n",
              "  </svg>\n",
              "      </button>\n",
              "      \n",
              "  <style>\n",
              "    .colab-df-container {\n",
              "      display:flex;\n",
              "      flex-wrap:wrap;\n",
              "      gap: 12px;\n",
              "    }\n",
              "\n",
              "    .colab-df-convert {\n",
              "      background-color: #E8F0FE;\n",
              "      border: none;\n",
              "      border-radius: 50%;\n",
              "      cursor: pointer;\n",
              "      display: none;\n",
              "      fill: #1967D2;\n",
              "      height: 32px;\n",
              "      padding: 0 0 0 0;\n",
              "      width: 32px;\n",
              "    }\n",
              "\n",
              "    .colab-df-convert:hover {\n",
              "      background-color: #E2EBFA;\n",
              "      box-shadow: 0px 1px 2px rgba(60, 64, 67, 0.3), 0px 1px 3px 1px rgba(60, 64, 67, 0.15);\n",
              "      fill: #174EA6;\n",
              "    }\n",
              "\n",
              "    [theme=dark] .colab-df-convert {\n",
              "      background-color: #3B4455;\n",
              "      fill: #D2E3FC;\n",
              "    }\n",
              "\n",
              "    [theme=dark] .colab-df-convert:hover {\n",
              "      background-color: #434B5C;\n",
              "      box-shadow: 0px 1px 3px 1px rgba(0, 0, 0, 0.15);\n",
              "      filter: drop-shadow(0px 1px 2px rgba(0, 0, 0, 0.3));\n",
              "      fill: #FFFFFF;\n",
              "    }\n",
              "  </style>\n",
              "\n",
              "      <script>\n",
              "        const buttonEl =\n",
              "          document.querySelector('#df-8468b423-e109-4fce-9b00-eff7455d8370 button.colab-df-convert');\n",
              "        buttonEl.style.display =\n",
              "          google.colab.kernel.accessAllowed ? 'block' : 'none';\n",
              "\n",
              "        async function convertToInteractive(key) {\n",
              "          const element = document.querySelector('#df-8468b423-e109-4fce-9b00-eff7455d8370');\n",
              "          const dataTable =\n",
              "            await google.colab.kernel.invokeFunction('convertToInteractive',\n",
              "                                                     [key], {});\n",
              "          if (!dataTable) return;\n",
              "\n",
              "          const docLinkHtml = 'Like what you see? Visit the ' +\n",
              "            '<a target=\"_blank\" href=https://colab.research.google.com/notebooks/data_table.ipynb>data table notebook</a>'\n",
              "            + ' to learn more about interactive tables.';\n",
              "          element.innerHTML = '';\n",
              "          dataTable['output_type'] = 'display_data';\n",
              "          await google.colab.output.renderOutput(dataTable, element);\n",
              "          const docLink = document.createElement('div');\n",
              "          docLink.innerHTML = docLinkHtml;\n",
              "          element.appendChild(docLink);\n",
              "        }\n",
              "      </script>\n",
              "    </div>\n",
              "  </div>\n",
              "  "
            ]
          },
          "metadata": {},
          "execution_count": 23
        }
      ]
    },
    {
      "cell_type": "markdown",
      "source": [
        " **1. Counts number of words**"
      ],
      "metadata": {
        "id": "ge8cVOFnw5sD"
      }
    },
    {
      "cell_type": "code",
      "source": [
        "sns.set_theme()\n",
        "ax = sns.histplot(df[\"number_of_words\"], binwidth=1, discrete=True)"
      ],
      "metadata": {
        "colab": {
          "base_uri": "https://localhost:8080/",
          "height": 288
        },
        "id": "hWvC83tVS1i2",
        "outputId": "49366ded-2116-4e28-edaf-5eb381739977"
      },
      "execution_count": 24,
      "outputs": [
        {
          "output_type": "display_data",
          "data": {
            "text/plain": [
              "<Figure size 432x288 with 1 Axes>"
            ],
            "image/png": "[encoded data removed]"
          },
          "metadata": {}
        }
      ]
    },
    {
      "cell_type": "code",
      "source": [
        "df.groupby([\"context_group\"]).count()"
      ],
      "metadata": {
        "colab": {
          "base_uri": "https://localhost:8080/",
          "height": 332
        },
        "id": "Q-Dy8vafpXM_",
        "outputId": "78a43468-d5a9-4181-f6c9-ac46dff9d8d8"
      },
      "execution_count": 25,
      "outputs": [
        {
          "output_type": "execute_result",
          "data": {
            "text/plain": [
              "                 id  anchor  target  context  score  number_of_words\n",
              "context_group                                                       \n",
              "A              4094    4094    4094     4094   4094             4094\n",
              "B              8019    8019    8019     8019   8019             8019\n",
              "C              5288    5288    5288     5288   5288             5288\n",
              "D              1279    1279    1279     1279   1279             1279\n",
              "E              1531    1531    1531     1531   1531             1531\n",
              "F              4054    4054    4054     4054   4054             4054\n",
              "G              6013    6013    6013     6013   6013             6013\n",
              "H              6195    6195    6195     6195   6195             6195"
            ],
            "text/html": [
              "\n",
              "  <div id=\"df-23584db3-c960-47e3-aa8e-c15efd9bf463\">\n",
              "    <div class=\"colab-df-container\">\n",
              "      <div>\n",
              "<style scoped>\n",
              "    .dataframe tbody tr th:only-of-type {\n",
              "        vertical-align: middle;\n",
              "    }\n",
              "\n",
              "    .dataframe tbody tr th {\n",
              "        vertical-align: top;\n",
              "    }\n",
              "\n",
              "    .dataframe thead th {\n",
              "        text-align: right;\n",
              "    }\n",
              "</style>\n",
              "<table border=\"1\" class=\"dataframe\">\n",
              "  <thead>\n",
              "    <tr style=\"text-align: right;\">\n",
              "      <th></th>\n",
              "      <th>id</th>\n",
              "      <th>anchor</th>\n",
              "      <th>target</th>\n",
              "      <th>context</th>\n",
              "      <th>score</th>\n",
              "      <th>number_of_words</th>\n",
              "    </tr>\n",
              "    <tr>\n",
              "      <th>context_group</th>\n",
              "      <th></th>\n",
              "      <th></th>\n",
              "      <th></th>\n",
              "      <th></th>\n",
              "      <th></th>\n",
              "      <th></th>\n",
              "    </tr>\n",
              "  </thead>\n",
              "  <tbody>\n",
              "    <tr>\n",
              "      <th>A</th>\n",
              "      <td>4094</td>\n",
              "      <td>4094</td>\n",
              "      <td>4094</td>\n",
              "      <td>4094</td>\n",
              "      <td>4094</td>\n",
              "      <td>4094</td>\n",
              "    </tr>\n",
              "    <tr>\n",
              "      <th>B</th>\n",
              "      <td>8019</td>\n",
              "      <td>8019</td>\n",
              "      <td>8019</td>\n",
              "      <td>8019</td>\n",
              "      <td>8019</td>\n",
              "      <td>8019</td>\n",
              "    </tr>\n",
              "    <tr>\n",
              "      <th>C</th>\n",
              "      <td>5288</td>\n",
              "      <td>5288</td>\n",
              "      <td>5288</td>\n",
              "      <td>5288</td>\n",
              "      <td>5288</td>\n",
              "      <td>5288</td>\n",
              "    </tr>\n",
              "    <tr>\n",
              "      <th>D</th>\n",
              "      <td>1279</td>\n",
              "      <td>1279</td>\n",
              "      <td>1279</td>\n",
              "      <td>1279</td>\n",
              "      <td>1279</td>\n",
              "      <td>1279</td>\n",
              "    </tr>\n",
              "    <tr>\n",
              "      <th>E</th>\n",
              "      <td>1531</td>\n",
              "      <td>1531</td>\n",
              "      <td>1531</td>\n",
              "      <td>1531</td>\n",
              "      <td>1531</td>\n",
              "      <td>1531</td>\n",
              "    </tr>\n",
              "    <tr>\n",
              "      <th>F</th>\n",
              "      <td>4054</td>\n",
              "      <td>4054</td>\n",
              "      <td>4054</td>\n",
              "      <td>4054</td>\n",
              "      <td>4054</td>\n",
              "      <td>4054</td>\n",
              "    </tr>\n",
              "    <tr>\n",
              "      <th>G</th>\n",
              "      <td>6013</td>\n",
              "      <td>6013</td>\n",
              "      <td>6013</td>\n",
              "      <td>6013</td>\n",
              "      <td>6013</td>\n",
              "      <td>6013</td>\n",
              "    </tr>\n",
              "    <tr>\n",
              "      <th>H</th>\n",
              "      <td>6195</td>\n",
              "      <td>6195</td>\n",
              "      <td>6195</td>\n",
              "      <td>6195</td>\n",
              "      <td>6195</td>\n",
              "      <td>6195</td>\n",
              "    </tr>\n",
              "  </tbody>\n",
              "</table>\n",
              "</div>\n",
              "      <button class=\"colab-df-convert\" onclick=\"convertToInteractive('df-23584db3-c960-47e3-aa8e-c15efd9bf463')\"\n",
              "              title=\"Convert this dataframe to an interactive table.\"\n",
              "              style=\"display:none;\">\n",
              "        \n",
              "  <svg xmlns=\"http://www.w3.org/2000/svg\" height=\"24px\"viewBox=\"0 0 24 24\"\n",
              "       width=\"24px\">\n",
              "    <path d=\"M0 0h24v24H0V0z\" fill=\"none\"/>\n",
              "    <path d=\"M18.56 5.44l.94 2.06.94-2.06 2.06-.94-2.06-.94-.94-2.06-.94 2.06-2.06.94zm-11 1L8.5 8.5l.94-2.06 2.06-.94-2.06-.94L8.5 2.5l-.94 2.06-2.06.94zm10 10l.94 2.06.94-2.06 2.06-.94-2.06-.94-.94-2.06-.94 2.06-2.06.94z\"/><path d=\"M17.41 7.96l-1.37-1.37c-.4-.4-.92-.59-1.43-.59-.52 0-1.04.2-1.43.59L10.3 9.45l-7.72 7.72c-.78.78-.78 2.05 0 2.83L4 21.41c.39.39.9.59 1.41.59.51 0 1.02-.2 1.41-.59l7.78-7.78 2.81-2.81c.8-.78.8-2.07 0-2.86zM5.41 20L4 18.59l7.72-7.72 1.47 1.35L5.41 20z\"/>\n",
              "  </svg>\n",
              "      </button>\n",
              "      \n",
              "  <style>\n",
              "    .colab-df-container {\n",
              "      display:flex;\n",
              "      flex-wrap:wrap;\n",
              "      gap: 12px;\n",
              "    }\n",
              "\n",
              "    .colab-df-convert {\n",
              "      background-color: #E8F0FE;\n",
              "      border: none;\n",
              "      border-radius: 50%;\n",
              "      cursor: pointer;\n",
              "      display: none;\n",
              "      fill: #1967D2;\n",
              "      height: 32px;\n",
              "      padding: 0 0 0 0;\n",
              "      width: 32px;\n",
              "    }\n",
              "\n",
              "    .colab-df-convert:hover {\n",
              "      background-color: #E2EBFA;\n",
              "      box-shadow: 0px 1px 2px rgba(60, 64, 67, 0.3), 0px 1px 3px 1px rgba(60, 64, 67, 0.15);\n",
              "      fill: #174EA6;\n",
              "    }\n",
              "\n",
              "    [theme=dark] .colab-df-convert {\n",
              "      background-color: #3B4455;\n",
              "      fill: #D2E3FC;\n",
              "    }\n",
              "\n",
              "    [theme=dark] .colab-df-convert:hover {\n",
              "      background-color: #434B5C;\n",
              "      box-shadow: 0px 1px 3px 1px rgba(0, 0, 0, 0.15);\n",
              "      filter: drop-shadow(0px 1px 2px rgba(0, 0, 0, 0.3));\n",
              "      fill: #FFFFFF;\n",
              "    }\n",
              "  </style>\n",
              "\n",
              "      <script>\n",
              "        const buttonEl =\n",
              "          document.querySelector('#df-23584db3-c960-47e3-aa8e-c15efd9bf463 button.colab-df-convert');\n",
              "        buttonEl.style.display =\n",
              "          google.colab.kernel.accessAllowed ? 'block' : 'none';\n",
              "\n",
              "        async function convertToInteractive(key) {\n",
              "          const element = document.querySelector('#df-23584db3-c960-47e3-aa8e-c15efd9bf463');\n",
              "          const dataTable =\n",
              "            await google.colab.kernel.invokeFunction('convertToInteractive',\n",
              "                                                     [key], {});\n",
              "          if (!dataTable) return;\n",
              "\n",
              "          const docLinkHtml = 'Like what you see? Visit the ' +\n",
              "            '<a target=\"_blank\" href=https://colab.research.google.com/notebooks/data_table.ipynb>data table notebook</a>'\n",
              "            + ' to learn more about interactive tables.';\n",
              "          element.innerHTML = '';\n",
              "          dataTable['output_type'] = 'display_data';\n",
              "          await google.colab.output.renderOutput(dataTable, element);\n",
              "          const docLink = document.createElement('div');\n",
              "          docLink.innerHTML = docLinkHtml;\n",
              "          element.appendChild(docLink);\n",
              "        }\n",
              "      </script>\n",
              "    </div>\n",
              "  </div>\n",
              "  "
            ]
          },
          "metadata": {},
          "execution_count": 25
        }
      ]
    },
    {
      "cell_type": "code",
      "source": [
        "sns.set_theme();\n",
        "for gp in sorted(df[\"context_group\"].unique()):\n",
        "  sub_df = df[df[\"context_group\"]==gp]\n",
        "  sns.distplot(sub_df[\"number_of_words\"], hist=False, kde=True, \n",
        "               kde_kws = {'linewidth': 2, 'bw':1})\n",
        "plt.legend(sorted(df[\"context_group\"].unique()), prop={'size': 16})\n",
        "plt.xlim(0,8)"
      ],
      "metadata": {
        "colab": {
          "base_uri": "https://localhost:8080/",
          "height": 878
        },
        "id": "gtrA8Fu0o1Zf",
        "outputId": "5513c483-8367-4c2e-d7ec-5b5a8967b268"
      },
      "execution_count": 26,
      "outputs": [
        {
          "output_type": "stream",
          "name": "stderr",
          "text": [
            "/usr/local/lib/python3.7/dist-packages/seaborn/distributions.py:2619: FutureWarning: `distplot` is a deprecated function and will be removed in a future version. Please adapt your code to use either `displot` (a figure-level function with similar flexibility) or `kdeplot` (an axes-level function for kernel density plots).\n",
            "  warnings.warn(msg, FutureWarning)\n",
            "/usr/local/lib/python3.7/dist-packages/seaborn/distributions.py:1699: FutureWarning: The `bw` parameter is deprecated in favor of `bw_method` and `bw_adjust`. Using 1 for `bw_method`, but please see the docs for the new parameters and update your code.\n",
            "  warnings.warn(msg, FutureWarning)\n",
            "/usr/local/lib/python3.7/dist-packages/seaborn/distributions.py:2619: FutureWarning: `distplot` is a deprecated function and will be removed in a future version. Please adapt your code to use either `displot` (a figure-level function with similar flexibility) or `kdeplot` (an axes-level function for kernel density plots).\n",
            "  warnings.warn(msg, FutureWarning)\n",
            "/usr/local/lib/python3.7/dist-packages/seaborn/distributions.py:1699: FutureWarning: The `bw` parameter is deprecated in favor of `bw_method` and `bw_adjust`. Using 1 for `bw_method`, but please see the docs for the new parameters and update your code.\n",
            "  warnings.warn(msg, FutureWarning)\n",
            "/usr/local/lib/python3.7/dist-packages/seaborn/distributions.py:2619: FutureWarning: `distplot` is a deprecated function and will be removed in a future version. Please adapt your code to use either `displot` (a figure-level function with similar flexibility) or `kdeplot` (an axes-level function for kernel density plots).\n",
            "  warnings.warn(msg, FutureWarning)\n",
            "/usr/local/lib/python3.7/dist-packages/seaborn/distributions.py:1699: FutureWarning: The `bw` parameter is deprecated in favor of `bw_method` and `bw_adjust`. Using 1 for `bw_method`, but please see the docs for the new parameters and update your code.\n",
            "  warnings.warn(msg, FutureWarning)\n",
            "/usr/local/lib/python3.7/dist-packages/seaborn/distributions.py:2619: FutureWarning: `distplot` is a deprecated function and will be removed in a future version. Please adapt your code to use either `displot` (a figure-level function with similar flexibility) or `kdeplot` (an axes-level function for kernel density plots).\n",
            "  warnings.warn(msg, FutureWarning)\n",
            "/usr/local/lib/python3.7/dist-packages/seaborn/distributions.py:1699: FutureWarning: The `bw` parameter is deprecated in favor of `bw_method` and `bw_adjust`. Using 1 for `bw_method`, but please see the docs for the new parameters and update your code.\n",
            "  warnings.warn(msg, FutureWarning)\n",
            "/usr/local/lib/python3.7/dist-packages/seaborn/distributions.py:2619: FutureWarning: `distplot` is a deprecated function and will be removed in a future version. Please adapt your code to use either `displot` (a figure-level function with similar flexibility) or `kdeplot` (an axes-level function for kernel density plots).\n",
            "  warnings.warn(msg, FutureWarning)\n",
            "/usr/local/lib/python3.7/dist-packages/seaborn/distributions.py:1699: FutureWarning: The `bw` parameter is deprecated in favor of `bw_method` and `bw_adjust`. Using 1 for `bw_method`, but please see the docs for the new parameters and update your code.\n",
            "  warnings.warn(msg, FutureWarning)\n",
            "/usr/local/lib/python3.7/dist-packages/seaborn/distributions.py:2619: FutureWarning: `distplot` is a deprecated function and will be removed in a future version. Please adapt your code to use either `displot` (a figure-level function with similar flexibility) or `kdeplot` (an axes-level function for kernel density plots).\n",
            "  warnings.warn(msg, FutureWarning)\n",
            "/usr/local/lib/python3.7/dist-packages/seaborn/distributions.py:1699: FutureWarning: The `bw` parameter is deprecated in favor of `bw_method` and `bw_adjust`. Using 1 for `bw_method`, but please see the docs for the new parameters and update your code.\n",
            "  warnings.warn(msg, FutureWarning)\n",
            "/usr/local/lib/python3.7/dist-packages/seaborn/distributions.py:2619: FutureWarning: `distplot` is a deprecated function and will be removed in a future version. Please adapt your code to use either `displot` (a figure-level function with similar flexibility) or `kdeplot` (an axes-level function for kernel density plots).\n",
            "  warnings.warn(msg, FutureWarning)\n",
            "/usr/local/lib/python3.7/dist-packages/seaborn/distributions.py:1699: FutureWarning: The `bw` parameter is deprecated in favor of `bw_method` and `bw_adjust`. Using 1 for `bw_method`, but please see the docs for the new parameters and update your code.\n",
            "  warnings.warn(msg, FutureWarning)\n",
            "/usr/local/lib/python3.7/dist-packages/seaborn/distributions.py:2619: FutureWarning: `distplot` is a deprecated function and will be removed in a future version. Please adapt your code to use either `displot` (a figure-level function with similar flexibility) or `kdeplot` (an axes-level function for kernel density plots).\n",
            "  warnings.warn(msg, FutureWarning)\n",
            "/usr/local/lib/python3.7/dist-packages/seaborn/distributions.py:1699: FutureWarning: The `bw` parameter is deprecated in favor of `bw_method` and `bw_adjust`. Using 1 for `bw_method`, but please see the docs for the new parameters and update your code.\n",
            "  warnings.warn(msg, FutureWarning)\n"
          ]
        },
        {
          "output_type": "execute_result",
          "data": {
            "text/plain": [
              "(0.0, 8.0)"
            ]
          },
          "metadata": {},
          "execution_count": 26
        },
        {
          "output_type": "display_data",
          "data": {
            "text/plain": [
              "<Figure size 432x288 with 1 Axes>"
            ],
            "image/png": "[encoded data removed]"
          },
          "metadata": {}
        }
      ]
    },
    {
      "cell_type": "code",
      "source": [
        "df.groupby([\"score\"]).count()"
      ],
      "metadata": {
        "colab": {
          "base_uri": "https://localhost:8080/",
          "height": 238
        },
        "id": "lwt2x_IHr1-i",
        "outputId": "bf410a76-da29-452f-f3bf-dfa8d994d2bb"
      },
      "execution_count": 27,
      "outputs": [
        {
          "output_type": "execute_result",
          "data": {
            "text/plain": [
              "          id  anchor  target  context  context_group  number_of_words\n",
              "score                                                                \n",
              "0.00    7471    7471    7471     7471           7471             7471\n",
              "0.25   11519   11519   11519    11519          11519            11519\n",
              "0.50   12300   12300   12300    12300          12300            12300\n",
              "0.75    4029    4029    4029     4029           4029             4029\n",
              "1.00    1154    1154    1154     1154           1154             1154"
            ],
            "text/html": [
              "\n",
              "  <div id=\"df-c9d33048-b460-4557-9287-15903f5c4c04\">\n",
              "    <div class=\"colab-df-container\">\n",
              "      <div>\n",
              "<style scoped>\n",
              "    .dataframe tbody tr th:only-of-type {\n",
              "        vertical-align: middle;\n",
              "    }\n",
              "\n",
              "    .dataframe tbody tr th {\n",
              "        vertical-align: top;\n",
              "    }\n",
              "\n",
              "    .dataframe thead th {\n",
              "        text-align: right;\n",
              "    }\n",
              "</style>\n",
              "<table border=\"1\" class=\"dataframe\">\n",
              "  <thead>\n",
              "    <tr style=\"text-align: right;\">\n",
              "      <th></th>\n",
              "      <th>id</th>\n",
              "      <th>anchor</th>\n",
              "      <th>target</th>\n",
              "      <th>context</th>\n",
              "      <th>context_group</th>\n",
              "      <th>number_of_words</th>\n",
              "    </tr>\n",
              "    <tr>\n",
              "      <th>score</th>\n",
              "      <th></th>\n",
              "      <th></th>\n",
              "      <th></th>\n",
              "      <th></th>\n",
              "      <th></th>\n",
              "      <th></th>\n",
              "    </tr>\n",
              "  </thead>\n",
              "  <tbody>\n",
              "    <tr>\n",
              "      <th>0.00</th>\n",
              "      <td>7471</td>\n",
              "      <td>7471</td>\n",
              "      <td>7471</td>\n",
              "      <td>7471</td>\n",
              "      <td>7471</td>\n",
              "      <td>7471</td>\n",
              "    </tr>\n",
              "    <tr>\n",
              "      <th>0.25</th>\n",
              "      <td>11519</td>\n",
              "      <td>11519</td>\n",
              "      <td>11519</td>\n",
              "      <td>11519</td>\n",
              "      <td>11519</td>\n",
              "      <td>11519</td>\n",
              "    </tr>\n",
              "    <tr>\n",
              "      <th>0.50</th>\n",
              "      <td>12300</td>\n",
              "      <td>12300</td>\n",
              "      <td>12300</td>\n",
              "      <td>12300</td>\n",
              "      <td>12300</td>\n",
              "      <td>12300</td>\n",
              "    </tr>\n",
              "    <tr>\n",
              "      <th>0.75</th>\n",
              "      <td>4029</td>\n",
              "      <td>4029</td>\n",
              "      <td>4029</td>\n",
              "      <td>4029</td>\n",
              "      <td>4029</td>\n",
              "      <td>4029</td>\n",
              "    </tr>\n",
              "    <tr>\n",
              "      <th>1.00</th>\n",
              "      <td>1154</td>\n",
              "      <td>1154</td>\n",
              "      <td>1154</td>\n",
              "      <td>1154</td>\n",
              "      <td>1154</td>\n",
              "      <td>1154</td>\n",
              "    </tr>\n",
              "  </tbody>\n",
              "</table>\n",
              "</div>\n",
              "      <button class=\"colab-df-convert\" onclick=\"convertToInteractive('df-c9d33048-b460-4557-9287-15903f5c4c04')\"\n",
              "              title=\"Convert this dataframe to an interactive table.\"\n",
              "              style=\"display:none;\">\n",
              "        \n",
              "  <svg xmlns=\"http://www.w3.org/2000/svg\" height=\"24px\"viewBox=\"0 0 24 24\"\n",
              "       width=\"24px\">\n",
              "    <path d=\"M0 0h24v24H0V0z\" fill=\"none\"/>\n",
              "    <path d=\"M18.56 5.44l.94 2.06.94-2.06 2.06-.94-2.06-.94-.94-2.06-.94 2.06-2.06.94zm-11 1L8.5 8.5l.94-2.06 2.06-.94-2.06-.94L8.5 2.5l-.94 2.06-2.06.94zm10 10l.94 2.06.94-2.06 2.06-.94-2.06-.94-.94-2.06-.94 2.06-2.06.94z\"/><path d=\"M17.41 7.96l-1.37-1.37c-.4-.4-.92-.59-1.43-.59-.52 0-1.04.2-1.43.59L10.3 9.45l-7.72 7.72c-.78.78-.78 2.05 0 2.83L4 21.41c.39.39.9.59 1.41.59.51 0 1.02-.2 1.41-.59l7.78-7.78 2.81-2.81c.8-.78.8-2.07 0-2.86zM5.41 20L4 18.59l7.72-7.72 1.47 1.35L5.41 20z\"/>\n",
              "  </svg>\n",
              "      </button>\n",
              "      \n",
              "  <style>\n",
              "    .colab-df-container {\n",
              "      display:flex;\n",
              "      flex-wrap:wrap;\n",
              "      gap: 12px;\n",
              "    }\n",
              "\n",
              "    .colab-df-convert {\n",
              "      background-color: #E8F0FE;\n",
              "      border: none;\n",
              "      border-radius: 50%;\n",
              "      cursor: pointer;\n",
              "      display: none;\n",
              "      fill: #1967D2;\n",
              "      height: 32px;\n",
              "      padding: 0 0 0 0;\n",
              "      width: 32px;\n",
              "    }\n",
              "\n",
              "    .colab-df-convert:hover {\n",
              "      background-color: #E2EBFA;\n",
              "      box-shadow: 0px 1px 2px rgba(60, 64, 67, 0.3), 0px 1px 3px 1px rgba(60, 64, 67, 0.15);\n",
              "      fill: #174EA6;\n",
              "    }\n",
              "\n",
              "    [theme=dark] .colab-df-convert {\n",
              "      background-color: #3B4455;\n",
              "      fill: #D2E3FC;\n",
              "    }\n",
              "\n",
              "    [theme=dark] .colab-df-convert:hover {\n",
              "      background-color: #434B5C;\n",
              "      box-shadow: 0px 1px 3px 1px rgba(0, 0, 0, 0.15);\n",
              "      filter: drop-shadow(0px 1px 2px rgba(0, 0, 0, 0.3));\n",
              "      fill: #FFFFFF;\n",
              "    }\n",
              "  </style>\n",
              "\n",
              "      <script>\n",
              "        const buttonEl =\n",
              "          document.querySelector('#df-c9d33048-b460-4557-9287-15903f5c4c04 button.colab-df-convert');\n",
              "        buttonEl.style.display =\n",
              "          google.colab.kernel.accessAllowed ? 'block' : 'none';\n",
              "\n",
              "        async function convertToInteractive(key) {\n",
              "          const element = document.querySelector('#df-c9d33048-b460-4557-9287-15903f5c4c04');\n",
              "          const dataTable =\n",
              "            await google.colab.kernel.invokeFunction('convertToInteractive',\n",
              "                                                     [key], {});\n",
              "          if (!dataTable) return;\n",
              "\n",
              "          const docLinkHtml = 'Like what you see? Visit the ' +\n",
              "            '<a target=\"_blank\" href=https://colab.research.google.com/notebooks/data_table.ipynb>data table notebook</a>'\n",
              "            + ' to learn more about interactive tables.';\n",
              "          element.innerHTML = '';\n",
              "          dataTable['output_type'] = 'display_data';\n",
              "          await google.colab.output.renderOutput(dataTable, element);\n",
              "          const docLink = document.createElement('div');\n",
              "          docLink.innerHTML = docLinkHtml;\n",
              "          element.appendChild(docLink);\n",
              "        }\n",
              "      </script>\n",
              "    </div>\n",
              "  </div>\n",
              "  "
            ]
          },
          "metadata": {},
          "execution_count": 27
        }
      ]
    },
    {
      "cell_type": "markdown",
      "source": [
        "**2. Score Distribution**"
      ],
      "metadata": {
        "id": "jnZXdfG1xemY"
      }
    },
    {
      "cell_type": "code",
      "source": [
        "import statsmodels.api as sm"
      ],
      "metadata": {
        "id": "KRkzm4lk-rIs",
        "colab": {
          "base_uri": "https://localhost:8080/"
        },
        "outputId": "cab75408-cd1a-4e10-e78b-0d0813987b6a"
      },
      "execution_count": 28,
      "outputs": [
        {
          "output_type": "stream",
          "name": "stderr",
          "text": [
            "/usr/local/lib/python3.7/dist-packages/statsmodels/tools/_testing.py:19: FutureWarning: pandas.util.testing is deprecated. Use the functions in the public API at pandas.testing instead.\n",
            "  import pandas.util.testing as tm\n"
          ]
        }
      ]
    },
    {
      "cell_type": "markdown",
      "source": [
        "Overall distribution of score"
      ],
      "metadata": {
        "id": "T47vI9f8DYbk"
      }
    },
    {
      "cell_type": "code",
      "source": [
        "fig, ax = plt.subplots(1,2)\n",
        "sm.qqplot(df[\"score\"], line=\"s\", ax=ax[0] )\n",
        "ax[0].set_xlabel(\"Standardized Quantitles\")\n",
        "ax[0].set_ylabel(\"Score\")\n",
        "ax[0].set_ylim(-0.2, 1.2)\n",
        "\n",
        "plt.plot(df[\"score\"].sort_values().reset_index(drop=True), axes=ax[1] )\n",
        "ax[1].set_xlabel(\"Sorted order\")\n",
        "ax[1].set_ylabel(\"Score\")\n",
        "ax[1].set_ylim(-0.2, 1.2)\n",
        "\n",
        "plt.show()\n"
      ],
      "metadata": {
        "colab": {
          "base_uri": "https://localhost:8080/",
          "height": 289
        },
        "id": "8IjSntCF1hie",
        "outputId": "0b767f0b-7175-48ed-c9dd-4883820893a6"
      },
      "execution_count": 29,
      "outputs": [
        {
          "output_type": "display_data",
          "data": {
            "text/plain": [
              "<Figure size 432x288 with 2 Axes>"
            ],
            "image/png": "[encoded data removed]"
          },
          "metadata": {}
        }
      ]
    },
    {
      "cell_type": "markdown",
      "source": [
        "Distribution of score for EACH context group"
      ],
      "metadata": {
        "id": "ZspQmj3yDiAo"
      }
    },
    {
      "cell_type": "code",
      "source": [
        "len_gp = len(df[\"context_group\"].unique())\n",
        "fig, ax = plt.subplots(len_gp, 2, figsize=(15,15))\n",
        "for i, gp in enumerate(sorted(df[\"context_group\"].unique())):\n",
        "\n",
        "  sub_df = df[df[\"context_group\"]==gp]\n",
        "\n",
        "  sm.qqplot(sub_df[\"score\"], line=\"s\", ax=ax[i,0] )\n",
        "  ax[i,0].set_xlabel(\"Standardized Quantitles\")\n",
        "  ax[i,0].set_ylabel(\"Score\")\n",
        "  ax[i,0].set_ylim(-0.2, 1.2)\n",
        "  ax[i,0].set_title(\"context_group: \"+gp)\n",
        "\n",
        "  ax[i,1].plot(sub_df[\"score\"].sort_values().reset_index(drop=True))\n",
        "  ax[i,1].set_xlabel(\"Sorted order\")\n",
        "  ax[i,1].set_ylabel(\"Score\")\n",
        "  ax[i,1].set_ylim(-0.2, 1.2)\n",
        "  ax[i,1].set_title(\"context_group: \"+gp) \n",
        "\n",
        "# set the spacing between subplots\n",
        "plt.subplots_adjust(hspace=1.4)\n",
        "\n",
        "plt.show()"
      ],
      "metadata": {
        "colab": {
          "base_uri": "https://localhost:8080/",
          "height": 899
        },
        "id": "vpBtBnDz1N01",
        "outputId": "aef68060-4bc3-4dee-fca4-2f789269431b"
      },
      "execution_count": 30,
      "outputs": [
        {
          "output_type": "display_data",
          "data": {
            "text/plain": [
              "<Figure size 1080x1080 with 16 Axes>"
            ],
            "image/png": "[encoded data removed]"
          },
          "metadata": {}
        }
      ]
    },
    {
      "cell_type": "code",
      "source": [
        ""
      ],
      "metadata": {
        "id": "BGb9gRbTELZi"
      },
      "execution_count": 30,
      "outputs": []
    },
    {
      "cell_type": "code",
      "source": [
        "from fuzzywuzzy import fuzz"
      ],
      "metadata": {
        "id": "wq8u4OhL4eSR"
      },
      "execution_count": 31,
      "outputs": []
    },
    {
      "cell_type": "code",
      "source": [
        "\n",
        "def find_jaccard_index(df_row):\n",
        "    target_set = set(df_row[\"target\"].split())\n",
        "    anchor_set = set(df_row[\"anchor\"].split())\n",
        "    return len(anchor_set.intersection(target_set)) / len(anchor_set.union(target_set))\n",
        "\n",
        "def subset(df_row, col_a, col_b):\n",
        "    return (df_row[col_a] in df_row[col_b]) and (len(df_row[col_b]) > len(df_row[col_a]))\n",
        "\n",
        "# reference: https://www.jashds.com/blog/2019/05/13/fuzzy-stringmatching-python\n",
        "# https://www.geeksforgeeks.org/fuzzywuzzy-python-library/\n",
        "\n",
        "def fuzz_ratio(df_row, col_a, col_b):\n",
        "    return fuzz.ratio(df_row[col_a], df_row[col_b]) / 100\n",
        "\n",
        "def fuzz_partial_ratio(df_row, col_a, col_b):\n",
        "    return fuzz.partial_ratio(df_row[col_a], df_row[col_b]) / 100\n",
        "\n",
        "def fuzz_token_set_ratio(df_row, col_a, col_b):\n",
        "    return fuzz.token_set_ratio(df_row[col_a], df_row[col_b]) / 100\n",
        "\n",
        "def fuzz_token_sort_ratio(df_row, col_a, col_b):\n",
        "    return fuzz.token_sort_ratio(df_row[col_a], df_row[col_b]) / 100\n",
        "\n",
        "df[\"jaccard_index\"] = df.apply(find_jaccard_index, axis=1)\n",
        "df[[\"target\", \"anchor\", \"jaccard_index\"]]\n",
        "\n",
        "df[\"anchor ⊂ target\"] = df.apply(subset, args=(\"anchor\",\"target\"), axis=1)\n",
        "df[\"target ⊂ anchor\"] = df.apply(subset, args=(\"target\",\"anchor\"), axis=1)\n",
        "\n",
        "\n",
        "# fuzz_ratio ~ proportion of matched words\n",
        "# fuzz_partial_ratio ~ best-matching sub-string of length ‘m’\n",
        "# fuzz_token_set_ratio ~ don’t care about the number of times a word in the string\n",
        "# fuzz_token_sort_ratio ~ match two strings , considered the order\n",
        "\n",
        "df[\"fuzz_ratio\"] = df.apply(fuzz_ratio, args=(\"anchor\",\"target\"), axis=1)\n",
        "df[\"fuzz_partial_ratio\"] = df.apply(fuzz_partial_ratio, args=(\"anchor\",\"target\"), axis=1)\n",
        "df[\"fuzz_token_set_ratio\"] = df.apply(fuzz_token_set_ratio, args=(\"anchor\",\"target\"), axis=1)\n",
        "df[\"fuzz_token_sort_ratio\"] = df.apply(fuzz_token_sort_ratio, args=(\"anchor\",\"target\"), axis=1)"
      ],
      "metadata": {
        "id": "1MCXLUAV1OKG"
      },
      "execution_count": 41,
      "outputs": []
    },
    {
      "cell_type": "code",
      "source": [
        "df[[\"target\", \"anchor\", \"fuzz_ratio\", \"fuzz_partial_ratio\", \"fuzz_token_set_ratio\", \"fuzz_token_sort_ratio\"]].head(10)"
      ],
      "metadata": {
        "colab": {
          "base_uri": "https://localhost:8080/",
          "height": 363
        },
        "id": "RwbebehN7dqz",
        "outputId": "d7ce18b7-1fe1-4f18-ef91-f239b520c26e"
      },
      "execution_count": 42,
      "outputs": [
        {
          "output_type": "execute_result",
          "data": {
            "text/plain": [
              "                   target     anchor  fuzz_ratio  fuzz_partial_ratio  \\\n",
              "0  abatement of pollution  abatement        0.58                1.00   \n",
              "1          act of abating  abatement        0.43                0.62   \n",
              "2         active catalyst  abatement        0.33                0.33   \n",
              "3     eliminating process  abatement        0.21                0.33   \n",
              "4           forest region  abatement        0.27                0.35   \n",
              "5        greenhouse gases  abatement        0.24                0.33   \n",
              "6          increased rate  abatement        0.35                0.44   \n",
              "7       measurement level  abatement        0.46                0.67   \n",
              "8       minimising sounds  abatement        0.15                0.22   \n",
              "9   mixing core materials  abatement        0.20                0.33   \n",
              "\n",
              "   fuzz_token_set_ratio  fuzz_token_sort_ratio  \n",
              "0                  1.00                   0.58  \n",
              "1                  0.52                   0.52  \n",
              "2                  0.33                   0.33  \n",
              "3                  0.21                   0.21  \n",
              "4                  0.27                   0.27  \n",
              "5                  0.32                   0.32  \n",
              "6                  0.35                   0.35  \n",
              "7                  0.46                   0.46  \n",
              "8                  0.15                   0.15  \n",
              "9                  0.33                   0.33  "
            ],
            "text/html": [
              "\n",
              "  <div id=\"df-869de387-c26c-4c34-96b2-0230c438a92f\">\n",
              "    <div class=\"colab-df-container\">\n",
              "      <div>\n",
              "<style scoped>\n",
              "    .dataframe tbody tr th:only-of-type {\n",
              "        vertical-align: middle;\n",
              "    }\n",
              "\n",
              "    .dataframe tbody tr th {\n",
              "        vertical-align: top;\n",
              "    }\n",
              "\n",
              "    .dataframe thead th {\n",
              "        text-align: right;\n",
              "    }\n",
              "</style>\n",
              "<table border=\"1\" class=\"dataframe\">\n",
              "  <thead>\n",
              "    <tr style=\"text-align: right;\">\n",
              "      <th></th>\n",
              "      <th>target</th>\n",
              "      <th>anchor</th>\n",
              "      <th>fuzz_ratio</th>\n",
              "      <th>fuzz_partial_ratio</th>\n",
              "      <th>fuzz_token_set_ratio</th>\n",
              "      <th>fuzz_token_sort_ratio</th>\n",
              "    </tr>\n",
              "  </thead>\n",
              "  <tbody>\n",
              "    <tr>\n",
              "      <th>0</th>\n",
              "      <td>abatement of pollution</td>\n",
              "      <td>abatement</td>\n",
              "      <td>0.58</td>\n",
              "      <td>1.00</td>\n",
              "      <td>1.00</td>\n",
              "      <td>0.58</td>\n",
              "    </tr>\n",
              "    <tr>\n",
              "      <th>1</th>\n",
              "      <td>act of abating</td>\n",
              "      <td>abatement</td>\n",
              "      <td>0.43</td>\n",
              "      <td>0.62</td>\n",
              "      <td>0.52</td>\n",
              "      <td>0.52</td>\n",
              "    </tr>\n",
              "    <tr>\n",
              "      <th>2</th>\n",
              "      <td>active catalyst</td>\n",
              "      <td>abatement</td>\n",
              "      <td>0.33</td>\n",
              "      <td>0.33</td>\n",
              "      <td>0.33</td>\n",
              "      <td>0.33</td>\n",
              "    </tr>\n",
              "    <tr>\n",
              "      <th>3</th>\n",
              "      <td>eliminating process</td>\n",
              "      <td>abatement</td>\n",
              "      <td>0.21</td>\n",
              "      <td>0.33</td>\n",
              "      <td>0.21</td>\n",
              "      <td>0.21</td>\n",
              "    </tr>\n",
              "    <tr>\n",
              "      <th>4</th>\n",
              "      <td>forest region</td>\n",
              "      <td>abatement</td>\n",
              "      <td>0.27</td>\n",
              "      <td>0.35</td>\n",
              "      <td>0.27</td>\n",
              "      <td>0.27</td>\n",
              "    </tr>\n",
              "    <tr>\n",
              "      <th>5</th>\n",
              "      <td>greenhouse gases</td>\n",
              "      <td>abatement</td>\n",
              "      <td>0.24</td>\n",
              "      <td>0.33</td>\n",
              "      <td>0.32</td>\n",
              "      <td>0.32</td>\n",
              "    </tr>\n",
              "    <tr>\n",
              "      <th>6</th>\n",
              "      <td>increased rate</td>\n",
              "      <td>abatement</td>\n",
              "      <td>0.35</td>\n",
              "      <td>0.44</td>\n",
              "      <td>0.35</td>\n",
              "      <td>0.35</td>\n",
              "    </tr>\n",
              "    <tr>\n",
              "      <th>7</th>\n",
              "      <td>measurement level</td>\n",
              "      <td>abatement</td>\n",
              "      <td>0.46</td>\n",
              "      <td>0.67</td>\n",
              "      <td>0.46</td>\n",
              "      <td>0.46</td>\n",
              "    </tr>\n",
              "    <tr>\n",
              "      <th>8</th>\n",
              "      <td>minimising sounds</td>\n",
              "      <td>abatement</td>\n",
              "      <td>0.15</td>\n",
              "      <td>0.22</td>\n",
              "      <td>0.15</td>\n",
              "      <td>0.15</td>\n",
              "    </tr>\n",
              "    <tr>\n",
              "      <th>9</th>\n",
              "      <td>mixing core materials</td>\n",
              "      <td>abatement</td>\n",
              "      <td>0.20</td>\n",
              "      <td>0.33</td>\n",
              "      <td>0.33</td>\n",
              "      <td>0.33</td>\n",
              "    </tr>\n",
              "  </tbody>\n",
              "</table>\n",
              "</div>\n",
              "      <button class=\"colab-df-convert\" onclick=\"convertToInteractive('df-869de387-c26c-4c34-96b2-0230c438a92f')\"\n",
              "              title=\"Convert this dataframe to an interactive table.\"\n",
              "              style=\"display:none;\">\n",
              "        \n",
              "  <svg xmlns=\"http://www.w3.org/2000/svg\" height=\"24px\"viewBox=\"0 0 24 24\"\n",
              "       width=\"24px\">\n",
              "    <path d=\"M0 0h24v24H0V0z\" fill=\"none\"/>\n",
              "    <path d=\"M18.56 5.44l.94 2.06.94-2.06 2.06-.94-2.06-.94-.94-2.06-.94 2.06-2.06.94zm-11 1L8.5 8.5l.94-2.06 2.06-.94-2.06-.94L8.5 2.5l-.94 2.06-2.06.94zm10 10l.94 2.06.94-2.06 2.06-.94-2.06-.94-.94-2.06-.94 2.06-2.06.94z\"/><path d=\"M17.41 7.96l-1.37-1.37c-.4-.4-.92-.59-1.43-.59-.52 0-1.04.2-1.43.59L10.3 9.45l-7.72 7.72c-.78.78-.78 2.05 0 2.83L4 21.41c.39.39.9.59 1.41.59.51 0 1.02-.2 1.41-.59l7.78-7.78 2.81-2.81c.8-.78.8-2.07 0-2.86zM5.41 20L4 18.59l7.72-7.72 1.47 1.35L5.41 20z\"/>\n",
              "  </svg>\n",
              "      </button>\n",
              "      \n",
              "  <style>\n",
              "    .colab-df-container {\n",
              "      display:flex;\n",
              "      flex-wrap:wrap;\n",
              "      gap: 12px;\n",
              "    }\n",
              "\n",
              "    .colab-df-convert {\n",
              "      background-color: #E8F0FE;\n",
              "      border: none;\n",
              "      border-radius: 50%;\n",
              "      cursor: pointer;\n",
              "      display: none;\n",
              "      fill: #1967D2;\n",
              "      height: 32px;\n",
              "      padding: 0 0 0 0;\n",
              "      width: 32px;\n",
              "    }\n",
              "\n",
              "    .colab-df-convert:hover {\n",
              "      background-color: #E2EBFA;\n",
              "      box-shadow: 0px 1px 2px rgba(60, 64, 67, 0.3), 0px 1px 3px 1px rgba(60, 64, 67, 0.15);\n",
              "      fill: #174EA6;\n",
              "    }\n",
              "\n",
              "    [theme=dark] .colab-df-convert {\n",
              "      background-color: #3B4455;\n",
              "      fill: #D2E3FC;\n",
              "    }\n",
              "\n",
              "    [theme=dark] .colab-df-convert:hover {\n",
              "      background-color: #434B5C;\n",
              "      box-shadow: 0px 1px 3px 1px rgba(0, 0, 0, 0.15);\n",
              "      filter: drop-shadow(0px 1px 2px rgba(0, 0, 0, 0.3));\n",
              "      fill: #FFFFFF;\n",
              "    }\n",
              "  </style>\n",
              "\n",
              "      <script>\n",
              "        const buttonEl =\n",
              "          document.querySelector('#df-869de387-c26c-4c34-96b2-0230c438a92f button.colab-df-convert');\n",
              "        buttonEl.style.display =\n",
              "          google.colab.kernel.accessAllowed ? 'block' : 'none';\n",
              "\n",
              "        async function convertToInteractive(key) {\n",
              "          const element = document.querySelector('#df-869de387-c26c-4c34-96b2-0230c438a92f');\n",
              "          const dataTable =\n",
              "            await google.colab.kernel.invokeFunction('convertToInteractive',\n",
              "                                                     [key], {});\n",
              "          if (!dataTable) return;\n",
              "\n",
              "          const docLinkHtml = 'Like what you see? Visit the ' +\n",
              "            '<a target=\"_blank\" href=https://colab.research.google.com/notebooks/data_table.ipynb>data table notebook</a>'\n",
              "            + ' to learn more about interactive tables.';\n",
              "          element.innerHTML = '';\n",
              "          dataTable['output_type'] = 'display_data';\n",
              "          await google.colab.output.renderOutput(dataTable, element);\n",
              "          const docLink = document.createElement('div');\n",
              "          docLink.innerHTML = docLinkHtml;\n",
              "          element.appendChild(docLink);\n",
              "        }\n",
              "      </script>\n",
              "    </div>\n",
              "  </div>\n",
              "  "
            ]
          },
          "metadata": {},
          "execution_count": 42
        }
      ]
    },
    {
      "cell_type": "code",
      "source": [
        "df.groupby(\"anchor ⊂ target\")[\"score\"].mean()"
      ],
      "metadata": {
        "colab": {
          "base_uri": "https://localhost:8080/"
        },
        "id": "gxDHhggh1OWN",
        "outputId": "54e0b398-f932-41e5-def3-45494c5beec9"
      },
      "execution_count": 43,
      "outputs": [
        {
          "output_type": "execute_result",
          "data": {
            "text/plain": [
              "anchor ⊂ target\n",
              "False    0.351248\n",
              "True     0.572088\n",
              "Name: score, dtype: float64"
            ]
          },
          "metadata": {},
          "execution_count": 43
        }
      ]
    },
    {
      "cell_type": "code",
      "source": [
        "df.groupby([\"context_group\", \"anchor ⊂ target\"])[\"score\"].mean().unstack(1).plot(ylabel=\"score\")"
      ],
      "metadata": {
        "colab": {
          "base_uri": "https://localhost:8080/",
          "height": 302
        },
        "id": "sgdPMzQRGYaj",
        "outputId": "d73fe417-366c-4af0-a9da-a807259b6dba"
      },
      "execution_count": 44,
      "outputs": [
        {
          "output_type": "execute_result",
          "data": {
            "text/plain": [
              "<matplotlib.axes._subplots.AxesSubplot at 0x7f59cea41210>"
            ]
          },
          "metadata": {},
          "execution_count": 44
        },
        {
          "output_type": "display_data",
          "data": {
            "text/plain": [
              "<Figure size 432x288 with 1 Axes>"
            ],
            "image/png": "[encoded data removed]"
          },
          "metadata": {}
        }
      ]
    },
    {
      "cell_type": "code",
      "source": [
        "df.groupby(\"target ⊂ anchor\")[\"score\"].mean()"
      ],
      "metadata": {
        "colab": {
          "base_uri": "https://localhost:8080/"
        },
        "id": "rBtQQjAN1NXQ",
        "outputId": "0a315725-198d-4ad9-da2d-b18db79a5493"
      },
      "execution_count": 45,
      "outputs": [
        {
          "output_type": "execute_result",
          "data": {
            "text/plain": [
              "target ⊂ anchor\n",
              "False    0.356379\n",
              "True     0.493391\n",
              "Name: score, dtype: float64"
            ]
          },
          "metadata": {},
          "execution_count": 45
        }
      ]
    },
    {
      "cell_type": "code",
      "source": [
        "df.groupby([\"context_group\", \"target ⊂ anchor\"])[\"score\"].mean().unstack(1).plot(ylabel=\"score\")"
      ],
      "metadata": {
        "colab": {
          "base_uri": "https://localhost:8080/",
          "height": 302
        },
        "id": "N2biGXyAIBta",
        "outputId": "6417c538-9d1f-4790-a50c-fed8f4133fbf"
      },
      "execution_count": 46,
      "outputs": [
        {
          "output_type": "execute_result",
          "data": {
            "text/plain": [
              "<matplotlib.axes._subplots.AxesSubplot at 0x7f59ce74c050>"
            ]
          },
          "metadata": {},
          "execution_count": 46
        },
        {
          "output_type": "display_data",
          "data": {
            "text/plain": [
              "<Figure size 432x288 with 1 Axes>"
            ],
            "image/png": "[encoded data removed]"
          },
          "metadata": {}
        }
      ]
    },
    {
      "cell_type": "code",
      "source": [
        "# fuzz_ratio is Levenshtein Distance (LD), considered addition, subtraction, deletion\n",
        "\n",
        "\n",
        "df.groupby([\"context_group\"])[\"fuzz_ratio\", \"score\"].corr()"
      ],
      "metadata": {
        "id": "ItxdUeauIBv0",
        "colab": {
          "base_uri": "https://localhost:8080/",
          "height": 637
        },
        "outputId": "bc29de9a-21f0-4562-e7d7-8a4881a9130a"
      },
      "execution_count": 49,
      "outputs": [
        {
          "output_type": "stream",
          "name": "stderr",
          "text": [
            "/usr/local/lib/python3.7/dist-packages/ipykernel_launcher.py:2: FutureWarning: Indexing with multiple keys (implicitly converted to a tuple of keys) will be deprecated, use a list instead.\n",
            "  \n"
          ]
        },
        {
          "output_type": "execute_result",
          "data": {
            "text/plain": [
              "                          fuzz_ratio     score\n",
              "context_group                                 \n",
              "A             fuzz_ratio    1.000000  0.361719\n",
              "              score         0.361719  1.000000\n",
              "B             fuzz_ratio    1.000000  0.534035\n",
              "              score         0.534035  1.000000\n",
              "C             fuzz_ratio    1.000000  0.416734\n",
              "              score         0.416734  1.000000\n",
              "D             fuzz_ratio    1.000000  0.403807\n",
              "              score         0.403807  1.000000\n",
              "E             fuzz_ratio    1.000000  0.459632\n",
              "              score         0.459632  1.000000\n",
              "F             fuzz_ratio    1.000000  0.496013\n",
              "              score         0.496013  1.000000\n",
              "G             fuzz_ratio    1.000000  0.367714\n",
              "              score         0.367714  1.000000\n",
              "H             fuzz_ratio    1.000000  0.388630\n",
              "              score         0.388630  1.000000"
            ],
            "text/html": [
              "\n",
              "  <div id=\"df-11889860-8bec-475b-a5bd-317d894db71d\">\n",
              "    <div class=\"colab-df-container\">\n",
              "      <div>\n",
              "<style scoped>\n",
              "    .dataframe tbody tr th:only-of-type {\n",
              "        vertical-align: middle;\n",
              "    }\n",
              "\n",
              "    .dataframe tbody tr th {\n",
              "        vertical-align: top;\n",
              "    }\n",
              "\n",
              "    .dataframe thead th {\n",
              "        text-align: right;\n",
              "    }\n",
              "</style>\n",
              "<table border=\"1\" class=\"dataframe\">\n",
              "  <thead>\n",
              "    <tr style=\"text-align: right;\">\n",
              "      <th></th>\n",
              "      <th></th>\n",
              "      <th>fuzz_ratio</th>\n",
              "      <th>score</th>\n",
              "    </tr>\n",
              "    <tr>\n",
              "      <th>context_group</th>\n",
              "      <th></th>\n",
              "      <th></th>\n",
              "      <th></th>\n",
              "    </tr>\n",
              "  </thead>\n",
              "  <tbody>\n",
              "    <tr>\n",
              "      <th rowspan=\"2\" valign=\"top\">A</th>\n",
              "      <th>fuzz_ratio</th>\n",
              "      <td>1.000000</td>\n",
              "      <td>0.361719</td>\n",
              "    </tr>\n",
              "    <tr>\n",
              "      <th>score</th>\n",
              "      <td>0.361719</td>\n",
              "      <td>1.000000</td>\n",
              "    </tr>\n",
              "    <tr>\n",
              "      <th rowspan=\"2\" valign=\"top\">B</th>\n",
              "      <th>fuzz_ratio</th>\n",
              "      <td>1.000000</td>\n",
              "      <td>0.534035</td>\n",
              "    </tr>\n",
              "    <tr>\n",
              "      <th>score</th>\n",
              "      <td>0.534035</td>\n",
              "      <td>1.000000</td>\n",
              "    </tr>\n",
              "    <tr>\n",
              "      <th rowspan=\"2\" valign=\"top\">C</th>\n",
              "      <th>fuzz_ratio</th>\n",
              "      <td>1.000000</td>\n",
              "      <td>0.416734</td>\n",
              "    </tr>\n",
              "    <tr>\n",
              "      <th>score</th>\n",
              "      <td>0.416734</td>\n",
              "      <td>1.000000</td>\n",
              "    </tr>\n",
              "    <tr>\n",
              "      <th rowspan=\"2\" valign=\"top\">D</th>\n",
              "      <th>fuzz_ratio</th>\n",
              "      <td>1.000000</td>\n",
              "      <td>0.403807</td>\n",
              "    </tr>\n",
              "    <tr>\n",
              "      <th>score</th>\n",
              "      <td>0.403807</td>\n",
              "      <td>1.000000</td>\n",
              "    </tr>\n",
              "    <tr>\n",
              "      <th rowspan=\"2\" valign=\"top\">E</th>\n",
              "      <th>fuzz_ratio</th>\n",
              "      <td>1.000000</td>\n",
              "      <td>0.459632</td>\n",
              "    </tr>\n",
              "    <tr>\n",
              "      <th>score</th>\n",
              "      <td>0.459632</td>\n",
              "      <td>1.000000</td>\n",
              "    </tr>\n",
              "    <tr>\n",
              "      <th rowspan=\"2\" valign=\"top\">F</th>\n",
              "      <th>fuzz_ratio</th>\n",
              "      <td>1.000000</td>\n",
              "      <td>0.496013</td>\n",
              "    </tr>\n",
              "    <tr>\n",
              "      <th>score</th>\n",
              "      <td>0.496013</td>\n",
              "      <td>1.000000</td>\n",
              "    </tr>\n",
              "    <tr>\n",
              "      <th rowspan=\"2\" valign=\"top\">G</th>\n",
              "      <th>fuzz_ratio</th>\n",
              "      <td>1.000000</td>\n",
              "      <td>0.367714</td>\n",
              "    </tr>\n",
              "    <tr>\n",
              "      <th>score</th>\n",
              "      <td>0.367714</td>\n",
              "      <td>1.000000</td>\n",
              "    </tr>\n",
              "    <tr>\n",
              "      <th rowspan=\"2\" valign=\"top\">H</th>\n",
              "      <th>fuzz_ratio</th>\n",
              "      <td>1.000000</td>\n",
              "      <td>0.388630</td>\n",
              "    </tr>\n",
              "    <tr>\n",
              "      <th>score</th>\n",
              "      <td>0.388630</td>\n",
              "      <td>1.000000</td>\n",
              "    </tr>\n",
              "  </tbody>\n",
              "</table>\n",
              "</div>\n",
              "      <button class=\"colab-df-convert\" onclick=\"convertToInteractive('df-11889860-8bec-475b-a5bd-317d894db71d')\"\n",
              "              title=\"Convert this dataframe to an interactive table.\"\n",
              "              style=\"display:none;\">\n",
              "        \n",
              "  <svg xmlns=\"http://www.w3.org/2000/svg\" height=\"24px\"viewBox=\"0 0 24 24\"\n",
              "       width=\"24px\">\n",
              "    <path d=\"M0 0h24v24H0V0z\" fill=\"none\"/>\n",
              "    <path d=\"M18.56 5.44l.94 2.06.94-2.06 2.06-.94-2.06-.94-.94-2.06-.94 2.06-2.06.94zm-11 1L8.5 8.5l.94-2.06 2.06-.94-2.06-.94L8.5 2.5l-.94 2.06-2.06.94zm10 10l.94 2.06.94-2.06 2.06-.94-2.06-.94-.94-2.06-.94 2.06-2.06.94z\"/><path d=\"M17.41 7.96l-1.37-1.37c-.4-.4-.92-.59-1.43-.59-.52 0-1.04.2-1.43.59L10.3 9.45l-7.72 7.72c-.78.78-.78 2.05 0 2.83L4 21.41c.39.39.9.59 1.41.59.51 0 1.02-.2 1.41-.59l7.78-7.78 2.81-2.81c.8-.78.8-2.07 0-2.86zM5.41 20L4 18.59l7.72-7.72 1.47 1.35L5.41 20z\"/>\n",
              "  </svg>\n",
              "      </button>\n",
              "      \n",
              "  <style>\n",
              "    .colab-df-container {\n",
              "      display:flex;\n",
              "      flex-wrap:wrap;\n",
              "      gap: 12px;\n",
              "    }\n",
              "\n",
              "    .colab-df-convert {\n",
              "      background-color: #E8F0FE;\n",
              "      border: none;\n",
              "      border-radius: 50%;\n",
              "      cursor: pointer;\n",
              "      display: none;\n",
              "      fill: #1967D2;\n",
              "      height: 32px;\n",
              "      padding: 0 0 0 0;\n",
              "      width: 32px;\n",
              "    }\n",
              "\n",
              "    .colab-df-convert:hover {\n",
              "      background-color: #E2EBFA;\n",
              "      box-shadow: 0px 1px 2px rgba(60, 64, 67, 0.3), 0px 1px 3px 1px rgba(60, 64, 67, 0.15);\n",
              "      fill: #174EA6;\n",
              "    }\n",
              "\n",
              "    [theme=dark] .colab-df-convert {\n",
              "      background-color: #3B4455;\n",
              "      fill: #D2E3FC;\n",
              "    }\n",
              "\n",
              "    [theme=dark] .colab-df-convert:hover {\n",
              "      background-color: #434B5C;\n",
              "      box-shadow: 0px 1px 3px 1px rgba(0, 0, 0, 0.15);\n",
              "      filter: drop-shadow(0px 1px 2px rgba(0, 0, 0, 0.3));\n",
              "      fill: #FFFFFF;\n",
              "    }\n",
              "  </style>\n",
              "\n",
              "      <script>\n",
              "        const buttonEl =\n",
              "          document.querySelector('#df-11889860-8bec-475b-a5bd-317d894db71d button.colab-df-convert');\n",
              "        buttonEl.style.display =\n",
              "          google.colab.kernel.accessAllowed ? 'block' : 'none';\n",
              "\n",
              "        async function convertToInteractive(key) {\n",
              "          const element = document.querySelector('#df-11889860-8bec-475b-a5bd-317d894db71d');\n",
              "          const dataTable =\n",
              "            await google.colab.kernel.invokeFunction('convertToInteractive',\n",
              "                                                     [key], {});\n",
              "          if (!dataTable) return;\n",
              "\n",
              "          const docLinkHtml = 'Like what you see? Visit the ' +\n",
              "            '<a target=\"_blank\" href=https://colab.research.google.com/notebooks/data_table.ipynb>data table notebook</a>'\n",
              "            + ' to learn more about interactive tables.';\n",
              "          element.innerHTML = '';\n",
              "          dataTable['output_type'] = 'display_data';\n",
              "          await google.colab.output.renderOutput(dataTable, element);\n",
              "          const docLink = document.createElement('div');\n",
              "          docLink.innerHTML = docLinkHtml;\n",
              "          element.appendChild(docLink);\n",
              "        }\n",
              "      </script>\n",
              "    </div>\n",
              "  </div>\n",
              "  "
            ]
          },
          "metadata": {},
          "execution_count": 49
        }
      ]
    },
    {
      "cell_type": "code",
      "source": [
        "df.groupby([\"context_group\"])[\"fuzz_token_sort_ratio\", \"score\"].corr()"
      ],
      "metadata": {
        "id": "SyWbmdKG4SKb",
        "colab": {
          "base_uri": "https://localhost:8080/",
          "height": 637
        },
        "outputId": "85f351d3-83ff-43ae-c0ac-941a2d2afa27"
      },
      "execution_count": 52,
      "outputs": [
        {
          "output_type": "stream",
          "name": "stderr",
          "text": [
            "/usr/local/lib/python3.7/dist-packages/ipykernel_launcher.py:1: FutureWarning: Indexing with multiple keys (implicitly converted to a tuple of keys) will be deprecated, use a list instead.\n",
            "  \"\"\"Entry point for launching an IPython kernel.\n"
          ]
        },
        {
          "output_type": "execute_result",
          "data": {
            "text/plain": [
              "                                     fuzz_token_sort_ratio     score\n",
              "context_group                                                       \n",
              "A             fuzz_token_sort_ratio               1.000000  0.343762\n",
              "              score                               0.343762  1.000000\n",
              "B             fuzz_token_sort_ratio               1.000000  0.519277\n",
              "              score                               0.519277  1.000000\n",
              "C             fuzz_token_sort_ratio               1.000000  0.391384\n",
              "              score                               0.391384  1.000000\n",
              "D             fuzz_token_sort_ratio               1.000000  0.375395\n",
              "              score                               0.375395  1.000000\n",
              "E             fuzz_token_sort_ratio               1.000000  0.428122\n",
              "              score                               0.428122  1.000000\n",
              "F             fuzz_token_sort_ratio               1.000000  0.487290\n",
              "              score                               0.487290  1.000000\n",
              "G             fuzz_token_sort_ratio               1.000000  0.345028\n",
              "              score                               0.345028  1.000000\n",
              "H             fuzz_token_sort_ratio               1.000000  0.373968\n",
              "              score                               0.373968  1.000000"
            ],
            "text/html": [
              "\n",
              "  <div id=\"df-862a810f-e027-42b0-8070-7eb2ec90063f\">\n",
              "    <div class=\"colab-df-container\">\n",
              "      <div>\n",
              "<style scoped>\n",
              "    .dataframe tbody tr th:only-of-type {\n",
              "        vertical-align: middle;\n",
              "    }\n",
              "\n",
              "    .dataframe tbody tr th {\n",
              "        vertical-align: top;\n",
              "    }\n",
              "\n",
              "    .dataframe thead th {\n",
              "        text-align: right;\n",
              "    }\n",
              "</style>\n",
              "<table border=\"1\" class=\"dataframe\">\n",
              "  <thead>\n",
              "    <tr style=\"text-align: right;\">\n",
              "      <th></th>\n",
              "      <th></th>\n",
              "      <th>fuzz_token_sort_ratio</th>\n",
              "      <th>score</th>\n",
              "    </tr>\n",
              "    <tr>\n",
              "      <th>context_group</th>\n",
              "      <th></th>\n",
              "      <th></th>\n",
              "      <th></th>\n",
              "    </tr>\n",
              "  </thead>\n",
              "  <tbody>\n",
              "    <tr>\n",
              "      <th rowspan=\"2\" valign=\"top\">A</th>\n",
              "      <th>fuzz_token_sort_ratio</th>\n",
              "      <td>1.000000</td>\n",
              "      <td>0.343762</td>\n",
              "    </tr>\n",
              "    <tr>\n",
              "      <th>score</th>\n",
              "      <td>0.343762</td>\n",
              "      <td>1.000000</td>\n",
              "    </tr>\n",
              "    <tr>\n",
              "      <th rowspan=\"2\" valign=\"top\">B</th>\n",
              "      <th>fuzz_token_sort_ratio</th>\n",
              "      <td>1.000000</td>\n",
              "      <td>0.519277</td>\n",
              "    </tr>\n",
              "    <tr>\n",
              "      <th>score</th>\n",
              "      <td>0.519277</td>\n",
              "      <td>1.000000</td>\n",
              "    </tr>\n",
              "    <tr>\n",
              "      <th rowspan=\"2\" valign=\"top\">C</th>\n",
              "      <th>fuzz_token_sort_ratio</th>\n",
              "      <td>1.000000</td>\n",
              "      <td>0.391384</td>\n",
              "    </tr>\n",
              "    <tr>\n",
              "      <th>score</th>\n",
              "      <td>0.391384</td>\n",
              "      <td>1.000000</td>\n",
              "    </tr>\n",
              "    <tr>\n",
              "      <th rowspan=\"2\" valign=\"top\">D</th>\n",
              "      <th>fuzz_token_sort_ratio</th>\n",
              "      <td>1.000000</td>\n",
              "      <td>0.375395</td>\n",
              "    </tr>\n",
              "    <tr>\n",
              "      <th>score</th>\n",
              "      <td>0.375395</td>\n",
              "      <td>1.000000</td>\n",
              "    </tr>\n",
              "    <tr>\n",
              "      <th rowspan=\"2\" valign=\"top\">E</th>\n",
              "      <th>fuzz_token_sort_ratio</th>\n",
              "      <td>1.000000</td>\n",
              "      <td>0.428122</td>\n",
              "    </tr>\n",
              "    <tr>\n",
              "      <th>score</th>\n",
              "      <td>0.428122</td>\n",
              "      <td>1.000000</td>\n",
              "    </tr>\n",
              "    <tr>\n",
              "      <th rowspan=\"2\" valign=\"top\">F</th>\n",
              "      <th>fuzz_token_sort_ratio</th>\n",
              "      <td>1.000000</td>\n",
              "      <td>0.487290</td>\n",
              "    </tr>\n",
              "    <tr>\n",
              "      <th>score</th>\n",
              "      <td>0.487290</td>\n",
              "      <td>1.000000</td>\n",
              "    </tr>\n",
              "    <tr>\n",
              "      <th rowspan=\"2\" valign=\"top\">G</th>\n",
              "      <th>fuzz_token_sort_ratio</th>\n",
              "      <td>1.000000</td>\n",
              "      <td>0.345028</td>\n",
              "    </tr>\n",
              "    <tr>\n",
              "      <th>score</th>\n",
              "      <td>0.345028</td>\n",
              "      <td>1.000000</td>\n",
              "    </tr>\n",
              "    <tr>\n",
              "      <th rowspan=\"2\" valign=\"top\">H</th>\n",
              "      <th>fuzz_token_sort_ratio</th>\n",
              "      <td>1.000000</td>\n",
              "      <td>0.373968</td>\n",
              "    </tr>\n",
              "    <tr>\n",
              "      <th>score</th>\n",
              "      <td>0.373968</td>\n",
              "      <td>1.000000</td>\n",
              "    </tr>\n",
              "  </tbody>\n",
              "</table>\n",
              "</div>\n",
              "      <button class=\"colab-df-convert\" onclick=\"convertToInteractive('df-862a810f-e027-42b0-8070-7eb2ec90063f')\"\n",
              "              title=\"Convert this dataframe to an interactive table.\"\n",
              "              style=\"display:none;\">\n",
              "        \n",
              "  <svg xmlns=\"http://www.w3.org/2000/svg\" height=\"24px\"viewBox=\"0 0 24 24\"\n",
              "       width=\"24px\">\n",
              "    <path d=\"M0 0h24v24H0V0z\" fill=\"none\"/>\n",
              "    <path d=\"M18.56 5.44l.94 2.06.94-2.06 2.06-.94-2.06-.94-.94-2.06-.94 2.06-2.06.94zm-11 1L8.5 8.5l.94-2.06 2.06-.94-2.06-.94L8.5 2.5l-.94 2.06-2.06.94zm10 10l.94 2.06.94-2.06 2.06-.94-2.06-.94-.94-2.06-.94 2.06-2.06.94z\"/><path d=\"M17.41 7.96l-1.37-1.37c-.4-.4-.92-.59-1.43-.59-.52 0-1.04.2-1.43.59L10.3 9.45l-7.72 7.72c-.78.78-.78 2.05 0 2.83L4 21.41c.39.39.9.59 1.41.59.51 0 1.02-.2 1.41-.59l7.78-7.78 2.81-2.81c.8-.78.8-2.07 0-2.86zM5.41 20L4 18.59l7.72-7.72 1.47 1.35L5.41 20z\"/>\n",
              "  </svg>\n",
              "      </button>\n",
              "      \n",
              "  <style>\n",
              "    .colab-df-container {\n",
              "      display:flex;\n",
              "      flex-wrap:wrap;\n",
              "      gap: 12px;\n",
              "    }\n",
              "\n",
              "    .colab-df-convert {\n",
              "      background-color: #E8F0FE;\n",
              "      border: none;\n",
              "      border-radius: 50%;\n",
              "      cursor: pointer;\n",
              "      display: none;\n",
              "      fill: #1967D2;\n",
              "      height: 32px;\n",
              "      padding: 0 0 0 0;\n",
              "      width: 32px;\n",
              "    }\n",
              "\n",
              "    .colab-df-convert:hover {\n",
              "      background-color: #E2EBFA;\n",
              "      box-shadow: 0px 1px 2px rgba(60, 64, 67, 0.3), 0px 1px 3px 1px rgba(60, 64, 67, 0.15);\n",
              "      fill: #174EA6;\n",
              "    }\n",
              "\n",
              "    [theme=dark] .colab-df-convert {\n",
              "      background-color: #3B4455;\n",
              "      fill: #D2E3FC;\n",
              "    }\n",
              "\n",
              "    [theme=dark] .colab-df-convert:hover {\n",
              "      background-color: #434B5C;\n",
              "      box-shadow: 0px 1px 3px 1px rgba(0, 0, 0, 0.15);\n",
              "      filter: drop-shadow(0px 1px 2px rgba(0, 0, 0, 0.3));\n",
              "      fill: #FFFFFF;\n",
              "    }\n",
              "  </style>\n",
              "\n",
              "      <script>\n",
              "        const buttonEl =\n",
              "          document.querySelector('#df-862a810f-e027-42b0-8070-7eb2ec90063f button.colab-df-convert');\n",
              "        buttonEl.style.display =\n",
              "          google.colab.kernel.accessAllowed ? 'block' : 'none';\n",
              "\n",
              "        async function convertToInteractive(key) {\n",
              "          const element = document.querySelector('#df-862a810f-e027-42b0-8070-7eb2ec90063f');\n",
              "          const dataTable =\n",
              "            await google.colab.kernel.invokeFunction('convertToInteractive',\n",
              "                                                     [key], {});\n",
              "          if (!dataTable) return;\n",
              "\n",
              "          const docLinkHtml = 'Like what you see? Visit the ' +\n",
              "            '<a target=\"_blank\" href=https://colab.research.google.com/notebooks/data_table.ipynb>data table notebook</a>'\n",
              "            + ' to learn more about interactive tables.';\n",
              "          element.innerHTML = '';\n",
              "          dataTable['output_type'] = 'display_data';\n",
              "          await google.colab.output.renderOutput(dataTable, element);\n",
              "          const docLink = document.createElement('div');\n",
              "          docLink.innerHTML = docLinkHtml;\n",
              "          element.appendChild(docLink);\n",
              "        }\n",
              "      </script>\n",
              "    </div>\n",
              "  </div>\n",
              "  "
            ]
          },
          "metadata": {},
          "execution_count": 52
        }
      ]
    },
    {
      "cell_type": "code",
      "source": [
        ""
      ],
      "metadata": {
        "id": "Pe_wYEIqJZtl"
      },
      "execution_count": null,
      "outputs": []
    },
    {
      "cell_type": "markdown",
      "source": [
        "**Inference among variables**"
      ],
      "metadata": {
        "id": "TYo2XB6_Jb_Z"
      }
    },
    {
      "cell_type": "code",
      "source": [
        "df.plot.scatter(x=\"number_of_words\", y=\"score\")\n",
        "print(\"Correlation coefficient: \"+ str(df[[\"number_of_words\", \"score\"]].corr().iloc[0][1]))"
      ],
      "metadata": {
        "colab": {
          "base_uri": "https://localhost:8080/",
          "height": 340
        },
        "id": "tExywNkxIByj",
        "outputId": "759297be-b211-4416-ec73-74a847bf62b4"
      },
      "execution_count": null,
      "outputs": [
        {
          "output_type": "stream",
          "name": "stderr",
          "text": [
            "*c* argument looks like a single numeric RGB or RGBA sequence, which should be avoided as value-mapping will have precedence in case its length matches with *x* & *y*.  Please use the *color* keyword-argument or provide a 2-D array with a single row if you intend to specify the same RGB or RGBA value for all points.\n"
          ]
        },
        {
          "output_type": "stream",
          "name": "stdout",
          "text": [
            "Correlation coefficient: 0.16090230238326797\n"
          ]
        },
        {
          "output_type": "display_data",
          "data": {
            "text/plain": [
              "<Figure size 432x288 with 1 Axes>"
            ],
            "image/png": "[encoded data removed]"
          },
          "metadata": {}
        }
      ]
    },
    {
      "cell_type": "code",
      "source": [
        "df.plot.scatter(x=\"jaccard_index\", y=\"score\")\n",
        "print(\"Correlation coefficient: \"+ str(df[[\"jaccard_index\", \"score\"]].corr().iloc[0][1]))"
      ],
      "metadata": {
        "colab": {
          "base_uri": "https://localhost:8080/",
          "height": 340
        },
        "id": "GCoAvnNG1OgM",
        "outputId": "a3b4b774-c8a2-4215-dea0-f3d2a69e5489"
      },
      "execution_count": null,
      "outputs": [
        {
          "output_type": "stream",
          "name": "stderr",
          "text": [
            "*c* argument looks like a single numeric RGB or RGBA sequence, which should be avoided as value-mapping will have precedence in case its length matches with *x* & *y*.  Please use the *color* keyword-argument or provide a 2-D array with a single row if you intend to specify the same RGB or RGBA value for all points.\n"
          ]
        },
        {
          "output_type": "stream",
          "name": "stdout",
          "text": [
            "Correlation coefficient: 0.3917426026718358\n"
          ]
        },
        {
          "output_type": "display_data",
          "data": {
            "text/plain": [
              "<Figure size 432x288 with 1 Axes>"
            ],
            "image/png": "[encoded data removed]"
          },
          "metadata": {}
        }
      ]
    },
    {
      "cell_type": "code",
      "source": [
        "plt.figure(figsize=(8,8))\n",
        "sns.heatmap(df.corr(), cmap=\"jet\", vmin=-1.0, vmax=1.0)"
      ],
      "metadata": {
        "id": "VkyCyK5T1Oo2",
        "colab": {
          "base_uri": "https://localhost:8080/",
          "height": 613
        },
        "outputId": "b73e2a30-97dc-4ba6-d3fd-e5849e5af358"
      },
      "execution_count": 59,
      "outputs": [
        {
          "output_type": "execute_result",
          "data": {
            "text/plain": [
              "<matplotlib.axes._subplots.AxesSubplot at 0x7f59d0d33c50>"
            ]
          },
          "metadata": {},
          "execution_count": 59
        },
        {
          "output_type": "display_data",
          "data": {
            "text/plain": [
              "<Figure size 576x576 with 2 Axes>"
            ],
            "image/png": "[encoded data removed]"
          },
          "metadata": {}
        }
      ]
    },
    {
      "cell_type": "code",
      "source": [
        ""
      ],
      "metadata": {
        "id": "xgftlGQ31Oxc"
      },
      "execution_count": null,
      "outputs": []
    },
    {
      "cell_type": "markdown",
      "source": [
        "**Use Decision Tree Classifier to find the most important Features**"
      ],
      "metadata": {
        "id": "7UqCAVCx_PU5"
      }
    },
    {
      "cell_type": "code",
      "source": [
        "from sklearn.preprocessing import OneHotEncoder\n",
        "from sklearn.tree import DecisionTreeClassifier"
      ],
      "metadata": {
        "id": "FbkEVBOkAw7a"
      },
      "execution_count": 72,
      "outputs": []
    },
    {
      "cell_type": "code",
      "source": [
        "X = df.drop(columns=[\"score\", \"id\", \"anchor\", \"target\", \"context\"])\n",
        "y = (df[[\"score\"]]*4).astype(int)"
      ],
      "metadata": {
        "id": "oAvsvyVgClQ2"
      },
      "execution_count": 139,
      "outputs": []
    },
    {
      "cell_type": "code",
      "source": [
        "ohe = OneHotEncoder(sparse=False).fit(X[[\"context_group\"]])\n",
        "\n",
        "codes = ohe.transform(X[[\"context_group\"]])\n",
        "feature_names = ohe.get_feature_names(['context_group'])\n",
        "coded_df = pd.DataFrame(codes,columns=feature_names).astype(int)\n",
        "X_adj = pd.concat([X.drop(columns=\"context_group\"), coded_df], axis=1)\n",
        "X_adj[\"anchor ⊂ target\"] = X_adj[\"anchor ⊂ target\"].astype(int)\n",
        "X_adj[\"target ⊂ anchor\"] = X_adj[\"target ⊂ anchor\"].astype(int)\n",
        "X_adj.head()"
      ],
      "metadata": {
        "id": "eH1wobh1KEsI",
        "colab": {
          "base_uri": "https://localhost:8080/",
          "height": 340
        },
        "outputId": "318eab2c-563d-42ae-fa2f-222c48a452d8"
      },
      "execution_count": 114,
      "outputs": [
        {
          "output_type": "stream",
          "name": "stderr",
          "text": [
            "/usr/local/lib/python3.7/dist-packages/sklearn/utils/deprecation.py:87: FutureWarning: Function get_feature_names is deprecated; get_feature_names is deprecated in 1.0 and will be removed in 1.2. Please use get_feature_names_out instead.\n",
            "  warnings.warn(msg, category=FutureWarning)\n"
          ]
        },
        {
          "output_type": "execute_result",
          "data": {
            "text/plain": [
              "   number_of_words  jaccard_index  anchor ⊂ target  target ⊂ anchor  \\\n",
              "0                3       0.333333                1                0   \n",
              "1                3       0.000000                0                0   \n",
              "2                2       0.000000                0                0   \n",
              "3                2       0.000000                0                0   \n",
              "4                2       0.000000                0                0   \n",
              "\n",
              "   fuzz_ratio  fuzz_partial_ratio  fuzz_token_set_ratio  \\\n",
              "0        0.58                1.00                  1.00   \n",
              "1        0.43                0.62                  0.52   \n",
              "2        0.33                0.33                  0.33   \n",
              "3        0.21                0.33                  0.21   \n",
              "4        0.27                0.35                  0.27   \n",
              "\n",
              "   fuzz_token_sort_ratio  context_group_A  context_group_B  context_group_C  \\\n",
              "0                   0.58                1                0                0   \n",
              "1                   0.52                1                0                0   \n",
              "2                   0.33                1                0                0   \n",
              "3                   0.21                1                0                0   \n",
              "4                   0.27                1                0                0   \n",
              "\n",
              "   context_group_D  context_group_E  context_group_F  context_group_G  \\\n",
              "0                0                0                0                0   \n",
              "1                0                0                0                0   \n",
              "2                0                0                0                0   \n",
              "3                0                0                0                0   \n",
              "4                0                0                0                0   \n",
              "\n",
              "   context_group_H  \n",
              "0                0  \n",
              "1                0  \n",
              "2                0  \n",
              "3                0  \n",
              "4                0  "
            ],
            "text/html": [
              "\n",
              "  <div id=\"df-e2e38972-b0b1-470b-b643-1a10946f729e\">\n",
              "    <div class=\"colab-df-container\">\n",
              "      <div>\n",
              "<style scoped>\n",
              "    .dataframe tbody tr th:only-of-type {\n",
              "        vertical-align: middle;\n",
              "    }\n",
              "\n",
              "    .dataframe tbody tr th {\n",
              "        vertical-align: top;\n",
              "    }\n",
              "\n",
              "    .dataframe thead th {\n",
              "        text-align: right;\n",
              "    }\n",
              "</style>\n",
              "<table border=\"1\" class=\"dataframe\">\n",
              "  <thead>\n",
              "    <tr style=\"text-align: right;\">\n",
              "      <th></th>\n",
              "      <th>number_of_words</th>\n",
              "      <th>jaccard_index</th>\n",
              "      <th>anchor ⊂ target</th>\n",
              "      <th>target ⊂ anchor</th>\n",
              "      <th>fuzz_ratio</th>\n",
              "      <th>fuzz_partial_ratio</th>\n",
              "      <th>fuzz_token_set_ratio</th>\n",
              "      <th>fuzz_token_sort_ratio</th>\n",
              "      <th>context_group_A</th>\n",
              "      <th>context_group_B</th>\n",
              "      <th>context_group_C</th>\n",
              "      <th>context_group_D</th>\n",
              "      <th>context_group_E</th>\n",
              "      <th>context_group_F</th>\n",
              "      <th>context_group_G</th>\n",
              "      <th>context_group_H</th>\n",
              "    </tr>\n",
              "  </thead>\n",
              "  <tbody>\n",
              "    <tr>\n",
              "      <th>0</th>\n",
              "      <td>3</td>\n",
              "      <td>0.333333</td>\n",
              "      <td>1</td>\n",
              "      <td>0</td>\n",
              "      <td>0.58</td>\n",
              "      <td>1.00</td>\n",
              "      <td>1.00</td>\n",
              "      <td>0.58</td>\n",
              "      <td>1</td>\n",
              "      <td>0</td>\n",
              "      <td>0</td>\n",
              "      <td>0</td>\n",
              "      <td>0</td>\n",
              "      <td>0</td>\n",
              "      <td>0</td>\n",
              "      <td>0</td>\n",
              "    </tr>\n",
              "    <tr>\n",
              "      <th>1</th>\n",
              "      <td>3</td>\n",
              "      <td>0.000000</td>\n",
              "      <td>0</td>\n",
              "      <td>0</td>\n",
              "      <td>0.43</td>\n",
              "      <td>0.62</td>\n",
              "      <td>0.52</td>\n",
              "      <td>0.52</td>\n",
              "      <td>1</td>\n",
              "      <td>0</td>\n",
              "      <td>0</td>\n",
              "      <td>0</td>\n",
              "      <td>0</td>\n",
              "      <td>0</td>\n",
              "      <td>0</td>\n",
              "      <td>0</td>\n",
              "    </tr>\n",
              "    <tr>\n",
              "      <th>2</th>\n",
              "      <td>2</td>\n",
              "      <td>0.000000</td>\n",
              "      <td>0</td>\n",
              "      <td>0</td>\n",
              "      <td>0.33</td>\n",
              "      <td>0.33</td>\n",
              "      <td>0.33</td>\n",
              "      <td>0.33</td>\n",
              "      <td>1</td>\n",
              "      <td>0</td>\n",
              "      <td>0</td>\n",
              "      <td>0</td>\n",
              "      <td>0</td>\n",
              "      <td>0</td>\n",
              "      <td>0</td>\n",
              "      <td>0</td>\n",
              "    </tr>\n",
              "    <tr>\n",
              "      <th>3</th>\n",
              "      <td>2</td>\n",
              "      <td>0.000000</td>\n",
              "      <td>0</td>\n",
              "      <td>0</td>\n",
              "      <td>0.21</td>\n",
              "      <td>0.33</td>\n",
              "      <td>0.21</td>\n",
              "      <td>0.21</td>\n",
              "      <td>1</td>\n",
              "      <td>0</td>\n",
              "      <td>0</td>\n",
              "      <td>0</td>\n",
              "      <td>0</td>\n",
              "      <td>0</td>\n",
              "      <td>0</td>\n",
              "      <td>0</td>\n",
              "    </tr>\n",
              "    <tr>\n",
              "      <th>4</th>\n",
              "      <td>2</td>\n",
              "      <td>0.000000</td>\n",
              "      <td>0</td>\n",
              "      <td>0</td>\n",
              "      <td>0.27</td>\n",
              "      <td>0.35</td>\n",
              "      <td>0.27</td>\n",
              "      <td>0.27</td>\n",
              "      <td>1</td>\n",
              "      <td>0</td>\n",
              "      <td>0</td>\n",
              "      <td>0</td>\n",
              "      <td>0</td>\n",
              "      <td>0</td>\n",
              "      <td>0</td>\n",
              "      <td>0</td>\n",
              "    </tr>\n",
              "  </tbody>\n",
              "</table>\n",
              "</div>\n",
              "      <button class=\"colab-df-convert\" onclick=\"convertToInteractive('df-e2e38972-b0b1-470b-b643-1a10946f729e')\"\n",
              "              title=\"Convert this dataframe to an interactive table.\"\n",
              "              style=\"display:none;\">\n",
              "        \n",
              "  <svg xmlns=\"http://www.w3.org/2000/svg\" height=\"24px\"viewBox=\"0 0 24 24\"\n",
              "       width=\"24px\">\n",
              "    <path d=\"M0 0h24v24H0V0z\" fill=\"none\"/>\n",
              "    <path d=\"M18.56 5.44l.94 2.06.94-2.06 2.06-.94-2.06-.94-.94-2.06-.94 2.06-2.06.94zm-11 1L8.5 8.5l.94-2.06 2.06-.94-2.06-.94L8.5 2.5l-.94 2.06-2.06.94zm10 10l.94 2.06.94-2.06 2.06-.94-2.06-.94-.94-2.06-.94 2.06-2.06.94z\"/><path d=\"M17.41 7.96l-1.37-1.37c-.4-.4-.92-.59-1.43-.59-.52 0-1.04.2-1.43.59L10.3 9.45l-7.72 7.72c-.78.78-.78 2.05 0 2.83L4 21.41c.39.39.9.59 1.41.59.51 0 1.02-.2 1.41-.59l7.78-7.78 2.81-2.81c.8-.78.8-2.07 0-2.86zM5.41 20L4 18.59l7.72-7.72 1.47 1.35L5.41 20z\"/>\n",
              "  </svg>\n",
              "      </button>\n",
              "      \n",
              "  <style>\n",
              "    .colab-df-container {\n",
              "      display:flex;\n",
              "      flex-wrap:wrap;\n",
              "      gap: 12px;\n",
              "    }\n",
              "\n",
              "    .colab-df-convert {\n",
              "      background-color: #E8F0FE;\n",
              "      border: none;\n",
              "      border-radius: 50%;\n",
              "      cursor: pointer;\n",
              "      display: none;\n",
              "      fill: #1967D2;\n",
              "      height: 32px;\n",
              "      padding: 0 0 0 0;\n",
              "      width: 32px;\n",
              "    }\n",
              "\n",
              "    .colab-df-convert:hover {\n",
              "      background-color: #E2EBFA;\n",
              "      box-shadow: 0px 1px 2px rgba(60, 64, 67, 0.3), 0px 1px 3px 1px rgba(60, 64, 67, 0.15);\n",
              "      fill: #174EA6;\n",
              "    }\n",
              "\n",
              "    [theme=dark] .colab-df-convert {\n",
              "      background-color: #3B4455;\n",
              "      fill: #D2E3FC;\n",
              "    }\n",
              "\n",
              "    [theme=dark] .colab-df-convert:hover {\n",
              "      background-color: #434B5C;\n",
              "      box-shadow: 0px 1px 3px 1px rgba(0, 0, 0, 0.15);\n",
              "      filter: drop-shadow(0px 1px 2px rgba(0, 0, 0, 0.3));\n",
              "      fill: #FFFFFF;\n",
              "    }\n",
              "  </style>\n",
              "\n",
              "      <script>\n",
              "        const buttonEl =\n",
              "          document.querySelector('#df-e2e38972-b0b1-470b-b643-1a10946f729e button.colab-df-convert');\n",
              "        buttonEl.style.display =\n",
              "          google.colab.kernel.accessAllowed ? 'block' : 'none';\n",
              "\n",
              "        async function convertToInteractive(key) {\n",
              "          const element = document.querySelector('#df-e2e38972-b0b1-470b-b643-1a10946f729e');\n",
              "          const dataTable =\n",
              "            await google.colab.kernel.invokeFunction('convertToInteractive',\n",
              "                                                     [key], {});\n",
              "          if (!dataTable) return;\n",
              "\n",
              "          const docLinkHtml = 'Like what you see? Visit the ' +\n",
              "            '<a target=\"_blank\" href=https://colab.research.google.com/notebooks/data_table.ipynb>data table notebook</a>'\n",
              "            + ' to learn more about interactive tables.';\n",
              "          element.innerHTML = '';\n",
              "          dataTable['output_type'] = 'display_data';\n",
              "          await google.colab.output.renderOutput(dataTable, element);\n",
              "          const docLink = document.createElement('div');\n",
              "          docLink.innerHTML = docLinkHtml;\n",
              "          element.appendChild(docLink);\n",
              "        }\n",
              "      </script>\n",
              "    </div>\n",
              "  </div>\n",
              "  "
            ]
          },
          "metadata": {},
          "execution_count": 114
        }
      ]
    },
    {
      "cell_type": "code",
      "source": [
        "clf_model = DecisionTreeClassifier(criterion=\"gini\", random_state=100, max_depth=5, min_samples_leaf=5)   \n",
        "clf_model.fit(X_adj,y)"
      ],
      "metadata": {
        "id": "Gwx5dZk6KEuf",
        "colab": {
          "base_uri": "https://localhost:8080/"
        },
        "outputId": "367905c4-6b4d-4fbf-c8b2-784858d0d7bb"
      },
      "execution_count": 140,
      "outputs": [
        {
          "output_type": "execute_result",
          "data": {
            "text/plain": [
              "DecisionTreeClassifier(max_depth=5, min_samples_leaf=5, random_state=100)"
            ]
          },
          "metadata": {},
          "execution_count": 140
        }
      ]
    },
    {
      "cell_type": "code",
      "source": [
        "clf_model"
      ],
      "metadata": {
        "id": "d9TNVQqfKExi",
        "colab": {
          "base_uri": "https://localhost:8080/"
        },
        "outputId": "07938013-54d5-4be7-c5dc-0697c9719305"
      },
      "execution_count": 141,
      "outputs": [
        {
          "output_type": "execute_result",
          "data": {
            "text/plain": [
              "DecisionTreeClassifier(max_depth=5, min_samples_leaf=5, random_state=100)"
            ]
          },
          "metadata": {},
          "execution_count": 141
        }
      ]
    },
    {
      "cell_type": "code",
      "source": [
        ""
      ],
      "metadata": {
        "id": "TJhmsFmcKE0F"
      },
      "execution_count": 146,
      "outputs": []
    },
    {
      "cell_type": "code",
      "source": [
        "from sklearn import tree\n",
        "import graphviz"
      ],
      "metadata": {
        "id": "Li0bNzbLES-8"
      },
      "execution_count": 127,
      "outputs": []
    },
    {
      "cell_type": "code",
      "source": [
        "target = list(y[\"score\"].unique().astype(str))\n",
        "dot_data = tree.export_graphviz(clf_model,\n",
        "                      out_file=None, \n",
        "                      feature_names=X_adj.columns,  \n",
        "                      class_names=target,  \n",
        "                      filled=True, rounded=True,  \n",
        "                      special_characters=True)  \n",
        "graph = graphviz.Source(dot_data)  \n",
        "graph"
      ],
      "metadata": {
        "colab": {
          "base_uri": "https://localhost:8080/",
          "height": 936
        },
        "id": "7KuqOsVvEXSy",
        "outputId": "6f044dfc-0c2a-474e-e525-5014ac61d7e9"
      },
      "execution_count": 153,
      "outputs": [
        {
          "output_type": "execute_result",
          "data": {
            "text/plain": [
              "<graphviz.files.Source at 0x7f59ceb8b950>"
            ],
            "image/svg+xml": "<?xml version=\"1.0\" encoding=\"UTF-8\" standalone=\"no\"?>\n<!DOCTYPE svg PUBLIC \"-//W3C//DTD SVG 1.1//EN\"\n \"http://www.w3.org/Graphics/SVG/1.1/DTD/svg11.dtd\">\n<!-- Generated by graphviz version 2.40.1 (20161225.0304)\n -->\n<!-- Title: Tree Pages: 1 -->\n<svg width=\"6542pt\" height=\"671pt\"\n viewBox=\"0.00 0.00 6541.50 671.00\" xmlns=\"http://www.w3.org/2000/svg\" xmlns:xlink=\"http://www.w3.org/1999/xlink\">\n<g id=\"graph0\" class=\"graph\" transform=\"scale(1 1) rotate(0) translate(4 667)\">\n<title>Tree</title>\n<polygon fill=\"#ffffff\" stroke=\"transparent\" points=\"-4,4 -4,-667 6537.5,-667 6537.5,4 -4,4\"/>\n<!-- 0 -->\n<g id=\"node1\" class=\"node\">\n<title>0</title>\n<path fill=\"#f9fefd\" stroke=\"#000000\" d=\"M3845.5,-663C3845.5,-663 3582.5,-663 3582.5,-663 3576.5,-663 3570.5,-657 3570.5,-651 3570.5,-651 3570.5,-592 3570.5,-592 3570.5,-586 3576.5,-580 3582.5,-580 3582.5,-580 3845.5,-580 3845.5,-580 3851.5,-580 3857.5,-586 3857.5,-592 3857.5,-592 3857.5,-651 3857.5,-651 3857.5,-657 3851.5,-663 3845.5,-663\"/>\n<text text-anchor=\"start\" x=\"3620.5\" y=\"-647.8\" font-family=\"Helvetica,sans-Serif\" font-size=\"14.00\" fill=\"#000000\">fuzz_token_set_ratio ≤ 0.445</text>\n<text text-anchor=\"start\" x=\"3676\" y=\"-632.8\" font-family=\"Helvetica,sans-Serif\" font-size=\"14.00\" fill=\"#000000\">gini = 0.731</text>\n<text text-anchor=\"start\" x=\"3658\" y=\"-617.8\" font-family=\"Helvetica,sans-Serif\" font-size=\"14.00\" fill=\"#000000\">samples = 36473</text>\n<text text-anchor=\"start\" x=\"3578.5\" y=\"-602.8\" font-family=\"Helvetica,sans-Serif\" font-size=\"14.00\" fill=\"#000000\">value = [7471, 11519, 12300, 4029, 1154]</text>\n<text text-anchor=\"start\" x=\"3685\" y=\"-587.8\" font-family=\"Helvetica,sans-Serif\" font-size=\"14.00\" fill=\"#000000\">class = 1</text>\n</g>\n<!-- 1 -->\n<g id=\"node2\" class=\"node\">\n<title>1</title>\n<path fill=\"#c5f4a8\" stroke=\"#000000\" d=\"M2690.5,-544C2690.5,-544 2477.5,-544 2477.5,-544 2471.5,-544 2465.5,-538 2465.5,-532 2465.5,-532 2465.5,-473 2465.5,-473 2465.5,-467 2471.5,-461 2477.5,-461 2477.5,-461 2690.5,-461 2690.5,-461 2696.5,-461 2702.5,-467 2702.5,-473 2702.5,-473 2702.5,-532 2702.5,-532 2702.5,-538 2696.5,-544 2690.5,-544\"/>\n<text text-anchor=\"start\" x=\"2510.5\" y=\"-528.8\" font-family=\"Helvetica,sans-Serif\" font-size=\"14.00\" fill=\"#000000\">context_group_B ≤ 0.5</text>\n<text text-anchor=\"start\" x=\"2546\" y=\"-513.8\" font-family=\"Helvetica,sans-Serif\" font-size=\"14.00\" fill=\"#000000\">gini = 0.603</text>\n<text text-anchor=\"start\" x=\"2528\" y=\"-498.8\" font-family=\"Helvetica,sans-Serif\" font-size=\"14.00\" fill=\"#000000\">samples = 15214</text>\n<text text-anchor=\"start\" x=\"2473.5\" y=\"-483.8\" font-family=\"Helvetica,sans-Serif\" font-size=\"14.00\" fill=\"#000000\">value = [2795, 8527, 3319, 568, 5]</text>\n<text text-anchor=\"start\" x=\"2555\" y=\"-468.8\" font-family=\"Helvetica,sans-Serif\" font-size=\"14.00\" fill=\"#000000\">class = 3</text>\n</g>\n<!-- 0&#45;&gt;1 -->\n<g id=\"edge1\" class=\"edge\">\n<title>0&#45;&gt;1</title>\n<path fill=\"none\" stroke=\"#000000\" d=\"M3570.3113,-606.3682C3348.2476,-582.9827 2925.1604,-538.4275 2712.6128,-516.0442\"/>\n<polygon fill=\"#000000\" stroke=\"#000000\" points=\"2712.9638,-512.5619 2702.6522,-514.9952 2712.2307,-519.5234 2712.9638,-512.5619\"/>\n<text text-anchor=\"middle\" x=\"2718.3813\" y=\"-530.7271\" font-family=\"Helvetica,sans-Serif\" font-size=\"14.00\" fill=\"#000000\">True</text>\n</g>\n<!-- 32 -->\n<g id=\"node33\" class=\"node\">\n<title>32</title>\n<path fill=\"#ccf8f0\" stroke=\"#000000\" d=\"M4216,-544C4216,-544 3970,-544 3970,-544 3964,-544 3958,-538 3958,-532 3958,-532 3958,-473 3958,-473 3958,-467 3964,-461 3970,-461 3970,-461 4216,-461 4216,-461 4222,-461 4228,-467 4228,-473 4228,-473 4228,-532 4228,-532 4228,-538 4222,-544 4216,-544\"/>\n<text text-anchor=\"start\" x=\"3997\" y=\"-528.8\" font-family=\"Helvetica,sans-Serif\" font-size=\"14.00\" fill=\"#000000\">fuzz_token_sort_ratio ≤ 0.885</text>\n<text text-anchor=\"start\" x=\"4055\" y=\"-513.8\" font-family=\"Helvetica,sans-Serif\" font-size=\"14.00\" fill=\"#000000\">gini = 0.724</text>\n<text text-anchor=\"start\" x=\"4037\" y=\"-498.8\" font-family=\"Helvetica,sans-Serif\" font-size=\"14.00\" fill=\"#000000\">samples = 21259</text>\n<text text-anchor=\"start\" x=\"3966\" y=\"-483.8\" font-family=\"Helvetica,sans-Serif\" font-size=\"14.00\" fill=\"#000000\">value = [4676, 2992, 8981, 3461, 1149]</text>\n<text text-anchor=\"start\" x=\"4064\" y=\"-468.8\" font-family=\"Helvetica,sans-Serif\" font-size=\"14.00\" fill=\"#000000\">class = 1</text>\n</g>\n<!-- 0&#45;&gt;32 -->\n<g id=\"edge32\" class=\"edge\">\n<title>0&#45;&gt;32</title>\n<path fill=\"none\" stroke=\"#000000\" d=\"M3846.2897,-579.9631C3880.1561,-569.3296 3916.7125,-557.8515 3951.0433,-547.0722\"/>\n<polygon fill=\"#000000\" stroke=\"#000000\" points=\"3952.171,-550.3866 3960.6632,-544.0516 3950.074,-543.7081 3952.171,-550.3866\"/>\n<text text-anchor=\"middle\" x=\"3949.093\" y=\"-562.5131\" font-family=\"Helvetica,sans-Serif\" font-size=\"14.00\" fill=\"#000000\">False</text>\n</g>\n<!-- 2 -->\n<g id=\"node3\" class=\"node\">\n<title>2</title>\n<path fill=\"#d0f6b8\" stroke=\"#000000\" d=\"M1411.5,-425C1411.5,-425 1198.5,-425 1198.5,-425 1192.5,-425 1186.5,-419 1186.5,-413 1186.5,-413 1186.5,-354 1186.5,-354 1186.5,-348 1192.5,-342 1198.5,-342 1198.5,-342 1411.5,-342 1411.5,-342 1417.5,-342 1423.5,-348 1423.5,-354 1423.5,-354 1423.5,-413 1423.5,-413 1423.5,-419 1417.5,-425 1411.5,-425\"/>\n<text text-anchor=\"start\" x=\"1228.5\" y=\"-409.8\" font-family=\"Helvetica,sans-Serif\" font-size=\"14.00\" fill=\"#000000\">number_of_words ≤ 1.5</text>\n<text text-anchor=\"start\" x=\"1271.5\" y=\"-394.8\" font-family=\"Helvetica,sans-Serif\" font-size=\"14.00\" fill=\"#000000\">gini = 0.63</text>\n<text text-anchor=\"start\" x=\"1249\" y=\"-379.8\" font-family=\"Helvetica,sans-Serif\" font-size=\"14.00\" fill=\"#000000\">samples = 12183</text>\n<text text-anchor=\"start\" x=\"1194.5\" y=\"-364.8\" font-family=\"Helvetica,sans-Serif\" font-size=\"14.00\" fill=\"#000000\">value = [2434, 6292, 3031, 422, 4]</text>\n<text text-anchor=\"start\" x=\"1276\" y=\"-349.8\" font-family=\"Helvetica,sans-Serif\" font-size=\"14.00\" fill=\"#000000\">class = 3</text>\n</g>\n<!-- 1&#45;&gt;2 -->\n<g id=\"edge2\" class=\"edge\">\n<title>1&#45;&gt;2</title>\n<path fill=\"none\" stroke=\"#000000\" d=\"M2465.3959,-491.4649C2225.0415,-469.102 1682.2824,-418.6029 1433.7088,-395.4753\"/>\n<polygon fill=\"#000000\" stroke=\"#000000\" points=\"1433.8245,-391.971 1423.5433,-394.5294 1433.176,-398.9409 1433.8245,-391.971\"/>\n</g>\n<!-- 17 -->\n<g id=\"node18\" class=\"node\">\n<title>17</title>\n<path fill=\"#a2ed74\" stroke=\"#000000\" d=\"M2682.5,-425C2682.5,-425 2485.5,-425 2485.5,-425 2479.5,-425 2473.5,-419 2473.5,-413 2473.5,-413 2473.5,-354 2473.5,-354 2473.5,-348 2479.5,-342 2485.5,-342 2485.5,-342 2682.5,-342 2682.5,-342 2688.5,-342 2694.5,-348 2694.5,-354 2694.5,-354 2694.5,-413 2694.5,-413 2694.5,-419 2688.5,-425 2682.5,-425\"/>\n<text text-anchor=\"start\" x=\"2502.5\" y=\"-409.8\" font-family=\"Helvetica,sans-Serif\" font-size=\"14.00\" fill=\"#000000\">fuzz_partial_ratio ≤ 0.525</text>\n<text text-anchor=\"start\" x=\"2546\" y=\"-394.8\" font-family=\"Helvetica,sans-Serif\" font-size=\"14.00\" fill=\"#000000\">gini = 0.431</text>\n<text text-anchor=\"start\" x=\"2532\" y=\"-379.8\" font-family=\"Helvetica,sans-Serif\" font-size=\"14.00\" fill=\"#000000\">samples = 3031</text>\n<text text-anchor=\"start\" x=\"2481.5\" y=\"-364.8\" font-family=\"Helvetica,sans-Serif\" font-size=\"14.00\" fill=\"#000000\">value = [361, 2235, 288, 146, 1]</text>\n<text text-anchor=\"start\" x=\"2555\" y=\"-349.8\" font-family=\"Helvetica,sans-Serif\" font-size=\"14.00\" fill=\"#000000\">class = 3</text>\n</g>\n<!-- 1&#45;&gt;17 -->\n<g id=\"edge17\" class=\"edge\">\n<title>1&#45;&gt;17</title>\n<path fill=\"none\" stroke=\"#000000\" d=\"M2584,-460.8796C2584,-452.6838 2584,-443.9891 2584,-435.5013\"/>\n<polygon fill=\"#000000\" stroke=\"#000000\" points=\"2587.5001,-435.298 2584,-425.2981 2580.5001,-435.2981 2587.5001,-435.298\"/>\n</g>\n<!-- 3 -->\n<g id=\"node4\" class=\"node\">\n<title>3</title>\n<path fill=\"#b6f192\" stroke=\"#000000\" d=\"M737,-306C737,-306 549,-306 549,-306 543,-306 537,-300 537,-294 537,-294 537,-235 537,-235 537,-229 543,-223 549,-223 549,-223 737,-223 737,-223 743,-223 749,-229 749,-235 749,-235 749,-294 749,-294 749,-300 743,-306 737,-306\"/>\n<text text-anchor=\"start\" x=\"585.5\" y=\"-290.8\" font-family=\"Helvetica,sans-Serif\" font-size=\"14.00\" fill=\"#000000\">fuzz_ratio ≤ 0.375</text>\n<text text-anchor=\"start\" x=\"605\" y=\"-275.8\" font-family=\"Helvetica,sans-Serif\" font-size=\"14.00\" fill=\"#000000\">gini = 0.534</text>\n<text text-anchor=\"start\" x=\"591\" y=\"-260.8\" font-family=\"Helvetica,sans-Serif\" font-size=\"14.00\" fill=\"#000000\">samples = 4059</text>\n<text text-anchor=\"start\" x=\"545\" y=\"-245.8\" font-family=\"Helvetica,sans-Serif\" font-size=\"14.00\" fill=\"#000000\">value = [624, 2588, 768, 78, 1]</text>\n<text text-anchor=\"start\" x=\"614\" y=\"-230.8\" font-family=\"Helvetica,sans-Serif\" font-size=\"14.00\" fill=\"#000000\">class = 3</text>\n</g>\n<!-- 2&#45;&gt;3 -->\n<g id=\"edge3\" class=\"edge\">\n<title>2&#45;&gt;3</title>\n<path fill=\"none\" stroke=\"#000000\" d=\"M1186.2656,-362.1565C1065.2987,-340.4117 878.9099,-306.9068 758.9566,-285.3442\"/>\n<polygon fill=\"#000000\" stroke=\"#000000\" points=\"759.462,-281.879 749.0005,-283.5545 758.2235,-288.7686 759.462,-281.879\"/>\n</g>\n<!-- 10 -->\n<g id=\"node11\" class=\"node\">\n<title>10</title>\n<path fill=\"#dff9ce\" stroke=\"#000000\" d=\"M1411.5,-306C1411.5,-306 1198.5,-306 1198.5,-306 1192.5,-306 1186.5,-300 1186.5,-294 1186.5,-294 1186.5,-235 1186.5,-235 1186.5,-229 1192.5,-223 1198.5,-223 1198.5,-223 1411.5,-223 1411.5,-223 1417.5,-223 1423.5,-229 1423.5,-235 1423.5,-235 1423.5,-294 1423.5,-294 1423.5,-300 1417.5,-306 1411.5,-306\"/>\n<text text-anchor=\"start\" x=\"1231\" y=\"-290.8\" font-family=\"Helvetica,sans-Serif\" font-size=\"14.00\" fill=\"#000000\">context_group_G ≤ 0.5</text>\n<text text-anchor=\"start\" x=\"1267\" y=\"-275.8\" font-family=\"Helvetica,sans-Serif\" font-size=\"14.00\" fill=\"#000000\">gini = 0.663</text>\n<text text-anchor=\"start\" x=\"1253\" y=\"-260.8\" font-family=\"Helvetica,sans-Serif\" font-size=\"14.00\" fill=\"#000000\">samples = 8124</text>\n<text text-anchor=\"start\" x=\"1194.5\" y=\"-245.8\" font-family=\"Helvetica,sans-Serif\" font-size=\"14.00\" fill=\"#000000\">value = [1810, 3704, 2263, 344, 3]</text>\n<text text-anchor=\"start\" x=\"1276\" y=\"-230.8\" font-family=\"Helvetica,sans-Serif\" font-size=\"14.00\" fill=\"#000000\">class = 3</text>\n</g>\n<!-- 2&#45;&gt;10 -->\n<g id=\"edge10\" class=\"edge\">\n<title>2&#45;&gt;10</title>\n<path fill=\"none\" stroke=\"#000000\" d=\"M1305,-341.8796C1305,-333.6838 1305,-324.9891 1305,-316.5013\"/>\n<polygon fill=\"#000000\" stroke=\"#000000\" points=\"1308.5001,-316.298 1305,-306.2981 1301.5001,-316.2981 1308.5001,-316.298\"/>\n</g>\n<!-- 4 -->\n<g id=\"node5\" class=\"node\">\n<title>4</title>\n<path fill=\"#b2f08c\" stroke=\"#000000\" d=\"M422,-187C422,-187 234,-187 234,-187 228,-187 222,-181 222,-175 222,-175 222,-116 222,-116 222,-110 228,-104 234,-104 234,-104 422,-104 422,-104 428,-104 434,-110 434,-116 434,-116 434,-175 434,-175 434,-181 428,-187 422,-187\"/>\n<text text-anchor=\"start\" x=\"254\" y=\"-171.8\" font-family=\"Helvetica,sans-Serif\" font-size=\"14.00\" fill=\"#000000\">context_group_C ≤ 0.5</text>\n<text text-anchor=\"start\" x=\"290\" y=\"-156.8\" font-family=\"Helvetica,sans-Serif\" font-size=\"14.00\" fill=\"#000000\">gini = 0.514</text>\n<text text-anchor=\"start\" x=\"276\" y=\"-141.8\" font-family=\"Helvetica,sans-Serif\" font-size=\"14.00\" fill=\"#000000\">samples = 3610</text>\n<text text-anchor=\"start\" x=\"230\" y=\"-126.8\" font-family=\"Helvetica,sans-Serif\" font-size=\"14.00\" fill=\"#000000\">value = [528, 2373, 648, 60, 1]</text>\n<text text-anchor=\"start\" x=\"299\" y=\"-111.8\" font-family=\"Helvetica,sans-Serif\" font-size=\"14.00\" fill=\"#000000\">class = 3</text>\n</g>\n<!-- 3&#45;&gt;4 -->\n<g id=\"edge4\" class=\"edge\">\n<title>3&#45;&gt;4</title>\n<path fill=\"none\" stroke=\"#000000\" d=\"M536.7945,-224.3779C506.7686,-213.0348 473.9507,-200.6369 443.4112,-189.0998\"/>\n<polygon fill=\"#000000\" stroke=\"#000000\" points=\"444.6038,-185.809 434.0122,-185.5491 442.13,-192.3573 444.6038,-185.809\"/>\n</g>\n<!-- 7 -->\n<g id=\"node8\" class=\"node\">\n<title>7</title>\n<path fill=\"#d9f7c6\" stroke=\"#000000\" d=\"M729,-187C729,-187 557,-187 557,-187 551,-187 545,-181 545,-175 545,-175 545,-116 545,-116 545,-110 551,-104 557,-104 557,-104 729,-104 729,-104 735,-104 741,-110 741,-116 741,-116 741,-175 741,-175 741,-181 735,-187 729,-187\"/>\n<text text-anchor=\"start\" x=\"585.5\" y=\"-171.8\" font-family=\"Helvetica,sans-Serif\" font-size=\"14.00\" fill=\"#000000\">fuzz_ratio ≤ 0.455</text>\n<text text-anchor=\"start\" x=\"605\" y=\"-156.8\" font-family=\"Helvetica,sans-Serif\" font-size=\"14.00\" fill=\"#000000\">gini = 0.652</text>\n<text text-anchor=\"start\" x=\"595\" y=\"-141.8\" font-family=\"Helvetica,sans-Serif\" font-size=\"14.00\" fill=\"#000000\">samples = 449</text>\n<text text-anchor=\"start\" x=\"553\" y=\"-126.8\" font-family=\"Helvetica,sans-Serif\" font-size=\"14.00\" fill=\"#000000\">value = [96, 215, 120, 18, 0]</text>\n<text text-anchor=\"start\" x=\"614\" y=\"-111.8\" font-family=\"Helvetica,sans-Serif\" font-size=\"14.00\" fill=\"#000000\">class = 3</text>\n</g>\n<!-- 3&#45;&gt;7 -->\n<g id=\"edge7\" class=\"edge\">\n<title>3&#45;&gt;7</title>\n<path fill=\"none\" stroke=\"#000000\" d=\"M643,-222.8796C643,-214.6838 643,-205.9891 643,-197.5013\"/>\n<polygon fill=\"#000000\" stroke=\"#000000\" points=\"646.5001,-197.298 643,-187.2981 639.5001,-197.2981 646.5001,-197.298\"/>\n</g>\n<!-- 5 -->\n<g id=\"node6\" class=\"node\">\n<title>5</title>\n<path fill=\"#b5f090\" stroke=\"#000000\" d=\"M200,-68C200,-68 12,-68 12,-68 6,-68 0,-62 0,-56 0,-56 0,-12 0,-12 0,-6 6,0 12,0 12,0 200,0 200,0 206,0 212,-6 212,-12 212,-12 212,-56 212,-56 212,-62 206,-68 200,-68\"/>\n<text text-anchor=\"start\" x=\"68\" y=\"-52.8\" font-family=\"Helvetica,sans-Serif\" font-size=\"14.00\" fill=\"#000000\">gini = 0.518</text>\n<text text-anchor=\"start\" x=\"54\" y=\"-37.8\" font-family=\"Helvetica,sans-Serif\" font-size=\"14.00\" fill=\"#000000\">samples = 2746</text>\n<text text-anchor=\"start\" x=\"8\" y=\"-22.8\" font-family=\"Helvetica,sans-Serif\" font-size=\"14.00\" fill=\"#000000\">value = [358, 1786, 562, 40, 0]</text>\n<text text-anchor=\"start\" x=\"77\" y=\"-7.8\" font-family=\"Helvetica,sans-Serif\" font-size=\"14.00\" fill=\"#000000\">class = 3</text>\n</g>\n<!-- 4&#45;&gt;5 -->\n<g id=\"edge5\" class=\"edge\">\n<title>4&#45;&gt;5</title>\n<path fill=\"none\" stroke=\"#000000\" d=\"M245.3354,-103.9815C224.9167,-93.7262 203.1271,-82.7823 182.9904,-72.6686\"/>\n<polygon fill=\"#000000\" stroke=\"#000000\" points=\"184.3727,-69.4462 173.8656,-68.0856 181.2309,-75.7016 184.3727,-69.4462\"/>\n</g>\n<!-- 6 -->\n<g id=\"node7\" class=\"node\">\n<title>6</title>\n<path fill=\"#b0ef88\" stroke=\"#000000\" d=\"M414,-68C414,-68 242,-68 242,-68 236,-68 230,-62 230,-56 230,-56 230,-12 230,-12 230,-6 236,0 242,0 242,0 414,0 414,0 420,0 426,-6 426,-12 426,-12 426,-56 426,-56 426,-62 420,-68 414,-68\"/>\n<text text-anchor=\"start\" x=\"290\" y=\"-52.8\" font-family=\"Helvetica,sans-Serif\" font-size=\"14.00\" fill=\"#000000\">gini = 0.489</text>\n<text text-anchor=\"start\" x=\"280\" y=\"-37.8\" font-family=\"Helvetica,sans-Serif\" font-size=\"14.00\" fill=\"#000000\">samples = 864</text>\n<text text-anchor=\"start\" x=\"238\" y=\"-22.8\" font-family=\"Helvetica,sans-Serif\" font-size=\"14.00\" fill=\"#000000\">value = [170, 587, 86, 20, 1]</text>\n<text text-anchor=\"start\" x=\"299\" y=\"-7.8\" font-family=\"Helvetica,sans-Serif\" font-size=\"14.00\" fill=\"#000000\">class = 3</text>\n</g>\n<!-- 4&#45;&gt;6 -->\n<g id=\"edge6\" class=\"edge\">\n<title>4&#45;&gt;6</title>\n<path fill=\"none\" stroke=\"#000000\" d=\"M328,-103.9815C328,-95.618 328,-86.7965 328,-78.3409\"/>\n<polygon fill=\"#000000\" stroke=\"#000000\" points=\"331.5001,-78.2636 328,-68.2637 324.5001,-78.2637 331.5001,-78.2636\"/>\n</g>\n<!-- 8 -->\n<g id=\"node9\" class=\"node\">\n<title>8</title>\n<path fill=\"#d0f6b9\" stroke=\"#000000\" d=\"M620,-68C620,-68 456,-68 456,-68 450,-68 444,-62 444,-56 444,-56 444,-12 444,-12 444,-6 450,0 456,0 456,0 620,0 620,0 626,0 632,-6 632,-12 632,-12 632,-56 632,-56 632,-62 626,-68 620,-68\"/>\n<text text-anchor=\"start\" x=\"500\" y=\"-52.8\" font-family=\"Helvetica,sans-Serif\" font-size=\"14.00\" fill=\"#000000\">gini = 0.634</text>\n<text text-anchor=\"start\" x=\"490\" y=\"-37.8\" font-family=\"Helvetica,sans-Serif\" font-size=\"14.00\" fill=\"#000000\">samples = 391</text>\n<text text-anchor=\"start\" x=\"452\" y=\"-22.8\" font-family=\"Helvetica,sans-Serif\" font-size=\"14.00\" fill=\"#000000\">value = [86, 199, 94, 12, 0]</text>\n<text text-anchor=\"start\" x=\"509\" y=\"-7.8\" font-family=\"Helvetica,sans-Serif\" font-size=\"14.00\" fill=\"#000000\">class = 3</text>\n</g>\n<!-- 7&#45;&gt;8 -->\n<g id=\"edge8\" class=\"edge\">\n<title>7&#45;&gt;8</title>\n<path fill=\"none\" stroke=\"#000000\" d=\"M603.9019,-103.9815C595.1604,-94.6989 585.8878,-84.8522 577.1444,-75.5677\"/>\n<polygon fill=\"#000000\" stroke=\"#000000\" points=\"579.67,-73.1443 570.2662,-68.2637 574.5739,-77.9433 579.67,-73.1443\"/>\n</g>\n<!-- 9 -->\n<g id=\"node10\" class=\"node\">\n<title>9</title>\n<path fill=\"#d0f9f1\" stroke=\"#000000\" d=\"M809.5,-68C809.5,-68 662.5,-68 662.5,-68 656.5,-68 650.5,-62 650.5,-56 650.5,-56 650.5,-12 650.5,-12 650.5,-6 656.5,0 662.5,0 662.5,0 809.5,0 809.5,0 815.5,0 821.5,-6 821.5,-12 821.5,-12 821.5,-56 821.5,-56 821.5,-62 815.5,-68 809.5,-68\"/>\n<text text-anchor=\"start\" x=\"698\" y=\"-52.8\" font-family=\"Helvetica,sans-Serif\" font-size=\"14.00\" fill=\"#000000\">gini = 0.683</text>\n<text text-anchor=\"start\" x=\"692\" y=\"-37.8\" font-family=\"Helvetica,sans-Serif\" font-size=\"14.00\" fill=\"#000000\">samples = 58</text>\n<text text-anchor=\"start\" x=\"658.5\" y=\"-22.8\" font-family=\"Helvetica,sans-Serif\" font-size=\"14.00\" fill=\"#000000\">value = [10, 16, 26, 6, 0]</text>\n<text text-anchor=\"start\" x=\"707\" y=\"-7.8\" font-family=\"Helvetica,sans-Serif\" font-size=\"14.00\" fill=\"#000000\">class = 1</text>\n</g>\n<!-- 7&#45;&gt;9 -->\n<g id=\"edge9\" class=\"edge\">\n<title>7&#45;&gt;9</title>\n<path fill=\"none\" stroke=\"#000000\" d=\"M677.6298,-103.9815C685.2189,-94.8828 693.26,-85.242 700.8686,-76.1199\"/>\n<polygon fill=\"#000000\" stroke=\"#000000\" points=\"703.7039,-78.1849 707.4213,-68.2637 698.3283,-73.7012 703.7039,-78.1849\"/>\n</g>\n<!-- 11 -->\n<g id=\"node12\" class=\"node\">\n<title>11</title>\n<path fill=\"#d4f6be\" stroke=\"#000000\" d=\"M1292.5,-187C1292.5,-187 1079.5,-187 1079.5,-187 1073.5,-187 1067.5,-181 1067.5,-175 1067.5,-175 1067.5,-116 1067.5,-116 1067.5,-110 1073.5,-104 1079.5,-104 1079.5,-104 1292.5,-104 1292.5,-104 1298.5,-104 1304.5,-110 1304.5,-116 1304.5,-116 1304.5,-175 1304.5,-175 1304.5,-181 1298.5,-187 1292.5,-187\"/>\n<text text-anchor=\"start\" x=\"1109.5\" y=\"-171.8\" font-family=\"Helvetica,sans-Serif\" font-size=\"14.00\" fill=\"#000000\">number_of_words ≤ 2.5</text>\n<text text-anchor=\"start\" x=\"1148\" y=\"-156.8\" font-family=\"Helvetica,sans-Serif\" font-size=\"14.00\" fill=\"#000000\">gini = 0.649</text>\n<text text-anchor=\"start\" x=\"1134\" y=\"-141.8\" font-family=\"Helvetica,sans-Serif\" font-size=\"14.00\" fill=\"#000000\">samples = 6274</text>\n<text text-anchor=\"start\" x=\"1075.5\" y=\"-126.8\" font-family=\"Helvetica,sans-Serif\" font-size=\"14.00\" fill=\"#000000\">value = [1411, 3072, 1515, 274, 2]</text>\n<text text-anchor=\"start\" x=\"1157\" y=\"-111.8\" font-family=\"Helvetica,sans-Serif\" font-size=\"14.00\" fill=\"#000000\">class = 3</text>\n</g>\n<!-- 10&#45;&gt;11 -->\n<g id=\"edge11\" class=\"edge\">\n<title>10&#45;&gt;11</title>\n<path fill=\"none\" stroke=\"#000000\" d=\"M1263.3796,-222.8796C1254.1931,-213.6931 1244.3798,-203.8798 1234.9336,-194.4336\"/>\n<polygon fill=\"#000000\" stroke=\"#000000\" points=\"1237.3441,-191.8943 1227.7981,-187.2981 1232.3943,-196.8441 1237.3441,-191.8943\"/>\n</g>\n<!-- 14 -->\n<g id=\"node15\" class=\"node\">\n<title>14</title>\n<path fill=\"#ecfdf9\" stroke=\"#000000\" d=\"M1515,-187C1515,-187 1335,-187 1335,-187 1329,-187 1323,-181 1323,-175 1323,-175 1323,-116 1323,-116 1323,-110 1329,-104 1335,-104 1335,-104 1515,-104 1515,-104 1521,-104 1527,-110 1527,-116 1527,-116 1527,-175 1527,-175 1527,-181 1521,-187 1515,-187\"/>\n<text text-anchor=\"start\" x=\"1348.5\" y=\"-171.8\" font-family=\"Helvetica,sans-Serif\" font-size=\"14.00\" fill=\"#000000\">number_of_words ≤ 2.5</text>\n<text text-anchor=\"start\" x=\"1387\" y=\"-156.8\" font-family=\"Helvetica,sans-Serif\" font-size=\"14.00\" fill=\"#000000\">gini = 0.672</text>\n<text text-anchor=\"start\" x=\"1373\" y=\"-141.8\" font-family=\"Helvetica,sans-Serif\" font-size=\"14.00\" fill=\"#000000\">samples = 1850</text>\n<text text-anchor=\"start\" x=\"1331\" y=\"-126.8\" font-family=\"Helvetica,sans-Serif\" font-size=\"14.00\" fill=\"#000000\">value = [399, 632, 748, 70, 1]</text>\n<text text-anchor=\"start\" x=\"1396\" y=\"-111.8\" font-family=\"Helvetica,sans-Serif\" font-size=\"14.00\" fill=\"#000000\">class = 1</text>\n</g>\n<!-- 10&#45;&gt;14 -->\n<g id=\"edge14\" class=\"edge\">\n<title>10&#45;&gt;14</title>\n<path fill=\"none\" stroke=\"#000000\" d=\"M1346.9702,-222.8796C1356.2338,-213.6931 1366.1296,-203.8798 1375.6552,-194.4336\"/>\n<polygon fill=\"#000000\" stroke=\"#000000\" points=\"1378.2146,-196.8247 1382.8507,-187.2981 1373.2856,-191.8543 1378.2146,-196.8247\"/>\n</g>\n<!-- 12 -->\n<g id=\"node13\" class=\"node\">\n<title>12</title>\n<path fill=\"#d5f7c0\" stroke=\"#000000\" d=\"M1056.5,-68C1056.5,-68 851.5,-68 851.5,-68 845.5,-68 839.5,-62 839.5,-56 839.5,-56 839.5,-12 839.5,-12 839.5,-6 845.5,0 851.5,0 851.5,0 1056.5,0 1056.5,0 1062.5,0 1068.5,-6 1068.5,-12 1068.5,-12 1068.5,-56 1068.5,-56 1068.5,-62 1062.5,-68 1056.5,-68\"/>\n<text text-anchor=\"start\" x=\"916\" y=\"-52.8\" font-family=\"Helvetica,sans-Serif\" font-size=\"14.00\" fill=\"#000000\">gini = 0.641</text>\n<text text-anchor=\"start\" x=\"902\" y=\"-37.8\" font-family=\"Helvetica,sans-Serif\" font-size=\"14.00\" fill=\"#000000\">samples = 4723</text>\n<text text-anchor=\"start\" x=\"847.5\" y=\"-22.8\" font-family=\"Helvetica,sans-Serif\" font-size=\"14.00\" fill=\"#000000\">value = [1230, 2347, 984, 161, 1]</text>\n<text text-anchor=\"start\" x=\"925\" y=\"-7.8\" font-family=\"Helvetica,sans-Serif\" font-size=\"14.00\" fill=\"#000000\">class = 3</text>\n</g>\n<!-- 11&#45;&gt;12 -->\n<g id=\"edge12\" class=\"edge\">\n<title>11&#45;&gt;12</title>\n<path fill=\"none\" stroke=\"#000000\" d=\"M1099.6118,-103.9815C1078.1772,-93.68 1055.297,-82.6837 1034.1741,-72.532\"/>\n<polygon fill=\"#000000\" stroke=\"#000000\" points=\"1035.4518,-69.2628 1024.9226,-68.0856 1032.4196,-75.572 1035.4518,-69.2628\"/>\n</g>\n<!-- 13 -->\n<g id=\"node14\" class=\"node\">\n<title>13</title>\n<path fill=\"#e6fad9\" stroke=\"#000000\" d=\"M1287,-68C1287,-68 1099,-68 1099,-68 1093,-68 1087,-62 1087,-56 1087,-56 1087,-12 1087,-12 1087,-6 1093,0 1099,0 1099,0 1287,0 1287,0 1293,0 1299,-6 1299,-12 1299,-12 1299,-56 1299,-56 1299,-62 1293,-68 1287,-68\"/>\n<text text-anchor=\"start\" x=\"1155\" y=\"-52.8\" font-family=\"Helvetica,sans-Serif\" font-size=\"14.00\" fill=\"#000000\">gini = 0.645</text>\n<text text-anchor=\"start\" x=\"1141\" y=\"-37.8\" font-family=\"Helvetica,sans-Serif\" font-size=\"14.00\" fill=\"#000000\">samples = 1551</text>\n<text text-anchor=\"start\" x=\"1095\" y=\"-22.8\" font-family=\"Helvetica,sans-Serif\" font-size=\"14.00\" fill=\"#000000\">value = [181, 725, 531, 113, 1]</text>\n<text text-anchor=\"start\" x=\"1164\" y=\"-7.8\" font-family=\"Helvetica,sans-Serif\" font-size=\"14.00\" fill=\"#000000\">class = 3</text>\n</g>\n<!-- 11&#45;&gt;13 -->\n<g id=\"edge13\" class=\"edge\">\n<title>11&#45;&gt;13</title>\n<path fill=\"none\" stroke=\"#000000\" d=\"M1188.6065,-103.9815C1189.1316,-95.618 1189.6854,-86.7965 1190.2163,-78.3409\"/>\n<polygon fill=\"#000000\" stroke=\"#000000\" points=\"1193.7154,-78.4634 1190.8489,-68.2637 1186.7291,-78.0247 1193.7154,-78.4634\"/>\n</g>\n<!-- 15 -->\n<g id=\"node16\" class=\"node\">\n<title>15</title>\n<path fill=\"#ffffff\" stroke=\"#000000\" d=\"M1509,-68C1509,-68 1329,-68 1329,-68 1323,-68 1317,-62 1317,-56 1317,-56 1317,-12 1317,-12 1317,-6 1323,0 1329,0 1329,0 1509,0 1509,0 1515,0 1521,-6 1521,-12 1521,-12 1521,-56 1521,-56 1521,-62 1515,-68 1509,-68\"/>\n<text text-anchor=\"start\" x=\"1381\" y=\"-52.8\" font-family=\"Helvetica,sans-Serif\" font-size=\"14.00\" fill=\"#000000\">gini = 0.681</text>\n<text text-anchor=\"start\" x=\"1367\" y=\"-37.8\" font-family=\"Helvetica,sans-Serif\" font-size=\"14.00\" fill=\"#000000\">samples = 1348</text>\n<text text-anchor=\"start\" x=\"1325\" y=\"-22.8\" font-family=\"Helvetica,sans-Serif\" font-size=\"14.00\" fill=\"#000000\">value = [342, 480, 480, 45, 1]</text>\n<text text-anchor=\"start\" x=\"1390\" y=\"-7.8\" font-family=\"Helvetica,sans-Serif\" font-size=\"14.00\" fill=\"#000000\">class = 3</text>\n</g>\n<!-- 14&#45;&gt;15 -->\n<g id=\"edge15\" class=\"edge\">\n<title>14&#45;&gt;15</title>\n<path fill=\"none\" stroke=\"#000000\" d=\"M1422.7658,-103.9815C1422.3158,-95.618 1421.8411,-86.7965 1421.3861,-78.3409\"/>\n<polygon fill=\"#000000\" stroke=\"#000000\" points=\"1424.8762,-78.0611 1420.8438,-68.2637 1417.8863,-78.4373 1424.8762,-78.0611\"/>\n</g>\n<!-- 16 -->\n<g id=\"node17\" class=\"node\">\n<title>16</title>\n<path fill=\"#bdf6ec\" stroke=\"#000000\" d=\"M1723,-68C1723,-68 1551,-68 1551,-68 1545,-68 1539,-62 1539,-56 1539,-56 1539,-12 1539,-12 1539,-6 1545,0 1551,0 1551,0 1723,0 1723,0 1729,0 1735,-6 1735,-12 1735,-12 1735,-56 1735,-56 1735,-62 1729,-68 1723,-68\"/>\n<text text-anchor=\"start\" x=\"1599\" y=\"-52.8\" font-family=\"Helvetica,sans-Serif\" font-size=\"14.00\" fill=\"#000000\">gini = 0.608</text>\n<text text-anchor=\"start\" x=\"1589\" y=\"-37.8\" font-family=\"Helvetica,sans-Serif\" font-size=\"14.00\" fill=\"#000000\">samples = 502</text>\n<text text-anchor=\"start\" x=\"1547\" y=\"-22.8\" font-family=\"Helvetica,sans-Serif\" font-size=\"14.00\" fill=\"#000000\">value = [57, 152, 268, 25, 0]</text>\n<text text-anchor=\"start\" x=\"1608\" y=\"-7.8\" font-family=\"Helvetica,sans-Serif\" font-size=\"14.00\" fill=\"#000000\">class = 1</text>\n</g>\n<!-- 14&#45;&gt;16 -->\n<g id=\"edge16\" class=\"edge\">\n<title>14&#45;&gt;16</title>\n<path fill=\"none\" stroke=\"#000000\" d=\"M1503.941,-103.9815C1523.3521,-93.7724 1544.0606,-82.8809 1563.2177,-72.8053\"/>\n<polygon fill=\"#000000\" stroke=\"#000000\" points=\"1564.9701,-75.8383 1572.1915,-68.0856 1561.7117,-69.6429 1564.9701,-75.8383\"/>\n</g>\n<!-- 18 -->\n<g id=\"node19\" class=\"node\">\n<title>18</title>\n<path fill=\"#9eec6d\" stroke=\"#000000\" d=\"M2445.5,-306C2445.5,-306 2248.5,-306 2248.5,-306 2242.5,-306 2236.5,-300 2236.5,-294 2236.5,-294 2236.5,-235 2236.5,-235 2236.5,-229 2242.5,-223 2248.5,-223 2248.5,-223 2445.5,-223 2445.5,-223 2451.5,-223 2457.5,-229 2457.5,-235 2457.5,-235 2457.5,-294 2457.5,-294 2457.5,-300 2451.5,-306 2445.5,-306\"/>\n<text text-anchor=\"start\" x=\"2275.5\" y=\"-290.8\" font-family=\"Helvetica,sans-Serif\" font-size=\"14.00\" fill=\"#000000\">jaccard_index ≤ 0.062</text>\n<text text-anchor=\"start\" x=\"2309\" y=\"-275.8\" font-family=\"Helvetica,sans-Serif\" font-size=\"14.00\" fill=\"#000000\">gini = 0.393</text>\n<text text-anchor=\"start\" x=\"2295\" y=\"-260.8\" font-family=\"Helvetica,sans-Serif\" font-size=\"14.00\" fill=\"#000000\">samples = 2756</text>\n<text text-anchor=\"start\" x=\"2244.5\" y=\"-245.8\" font-family=\"Helvetica,sans-Serif\" font-size=\"14.00\" fill=\"#000000\">value = [303, 2110, 236, 107, 0]</text>\n<text text-anchor=\"start\" x=\"2318\" y=\"-230.8\" font-family=\"Helvetica,sans-Serif\" font-size=\"14.00\" fill=\"#000000\">class = 3</text>\n</g>\n<!-- 17&#45;&gt;18 -->\n<g id=\"edge18\" class=\"edge\">\n<title>17&#45;&gt;18</title>\n<path fill=\"none\" stroke=\"#000000\" d=\"M2501.1089,-341.8796C2480.9929,-331.7791 2459.3677,-320.9209 2438.8644,-310.626\"/>\n<polygon fill=\"#000000\" stroke=\"#000000\" points=\"2440.3516,-307.4563 2429.8443,-306.0969 2437.2105,-313.712 2440.3516,-307.4563\"/>\n</g>\n<!-- 25 -->\n<g id=\"node26\" class=\"node\">\n<title>25</title>\n<path fill=\"#d6f7c2\" stroke=\"#000000\" d=\"M2764.5,-306C2764.5,-306 2585.5,-306 2585.5,-306 2579.5,-306 2573.5,-300 2573.5,-294 2573.5,-294 2573.5,-235 2573.5,-235 2573.5,-229 2579.5,-223 2585.5,-223 2585.5,-223 2764.5,-223 2764.5,-223 2770.5,-223 2776.5,-229 2776.5,-235 2776.5,-235 2776.5,-294 2776.5,-294 2776.5,-300 2770.5,-306 2764.5,-306\"/>\n<text text-anchor=\"start\" x=\"2581.5\" y=\"-290.8\" font-family=\"Helvetica,sans-Serif\" font-size=\"14.00\" fill=\"#000000\">fuzz_token_set_ratio ≤ 0.275</text>\n<text text-anchor=\"start\" x=\"2637\" y=\"-275.8\" font-family=\"Helvetica,sans-Serif\" font-size=\"14.00\" fill=\"#000000\">gini = 0.693</text>\n<text text-anchor=\"start\" x=\"2627\" y=\"-260.8\" font-family=\"Helvetica,sans-Serif\" font-size=\"14.00\" fill=\"#000000\">samples = 275</text>\n<text text-anchor=\"start\" x=\"2589\" y=\"-245.8\" font-family=\"Helvetica,sans-Serif\" font-size=\"14.00\" fill=\"#000000\">value = [58, 125, 52, 39, 1]</text>\n<text text-anchor=\"start\" x=\"2646\" y=\"-230.8\" font-family=\"Helvetica,sans-Serif\" font-size=\"14.00\" fill=\"#000000\">class = 3</text>\n</g>\n<!-- 17&#45;&gt;25 -->\n<g id=\"edge25\" class=\"edge\">\n<title>17&#45;&gt;25</title>\n<path fill=\"none\" stroke=\"#000000\" d=\"M2615.8274,-341.8796C2622.6457,-332.9633 2629.9156,-323.4565 2636.9421,-314.268\"/>\n<polygon fill=\"#000000\" stroke=\"#000000\" points=\"2639.7425,-316.3678 2643.0368,-306.2981 2634.182,-312.1156 2639.7425,-316.3678\"/>\n</g>\n<!-- 19 -->\n<g id=\"node20\" class=\"node\">\n<title>19</title>\n<path fill=\"#9ceb6a\" stroke=\"#000000\" d=\"M2163.5,-187C2163.5,-187 1966.5,-187 1966.5,-187 1960.5,-187 1954.5,-181 1954.5,-175 1954.5,-175 1954.5,-116 1954.5,-116 1954.5,-110 1960.5,-104 1966.5,-104 1966.5,-104 2163.5,-104 2163.5,-104 2169.5,-104 2175.5,-110 2175.5,-116 2175.5,-116 2175.5,-175 2175.5,-175 2175.5,-181 2169.5,-187 2163.5,-187\"/>\n<text text-anchor=\"start\" x=\"2007.5\" y=\"-171.8\" font-family=\"Helvetica,sans-Serif\" font-size=\"14.00\" fill=\"#000000\">fuzz_ratio ≤ 0.465</text>\n<text text-anchor=\"start\" x=\"2027\" y=\"-156.8\" font-family=\"Helvetica,sans-Serif\" font-size=\"14.00\" fill=\"#000000\">gini = 0.379</text>\n<text text-anchor=\"start\" x=\"2013\" y=\"-141.8\" font-family=\"Helvetica,sans-Serif\" font-size=\"14.00\" fill=\"#000000\">samples = 2706</text>\n<text text-anchor=\"start\" x=\"1962.5\" y=\"-126.8\" font-family=\"Helvetica,sans-Serif\" font-size=\"14.00\" fill=\"#000000\">value = [280, 2100, 225, 101, 0]</text>\n<text text-anchor=\"start\" x=\"2036\" y=\"-111.8\" font-family=\"Helvetica,sans-Serif\" font-size=\"14.00\" fill=\"#000000\">class = 3</text>\n</g>\n<!-- 18&#45;&gt;19 -->\n<g id=\"edge19\" class=\"edge\">\n<title>18&#45;&gt;19</title>\n<path fill=\"none\" stroke=\"#000000\" d=\"M2248.3701,-222.8796C2224.0053,-212.598 2197.7797,-201.5311 2172.9955,-191.0726\"/>\n<polygon fill=\"#000000\" stroke=\"#000000\" points=\"2174.1483,-187.7602 2163.5742,-187.0969 2171.4267,-194.2095 2174.1483,-187.7602\"/>\n</g>\n<!-- 22 -->\n<g id=\"node23\" class=\"node\">\n<title>22</title>\n<path fill=\"#f7d8c2\" stroke=\"#000000\" d=\"M2420.5,-187C2420.5,-187 2273.5,-187 2273.5,-187 2267.5,-187 2261.5,-181 2261.5,-175 2261.5,-175 2261.5,-116 2261.5,-116 2261.5,-110 2267.5,-104 2273.5,-104 2273.5,-104 2420.5,-104 2420.5,-104 2426.5,-104 2432.5,-110 2432.5,-116 2432.5,-116 2432.5,-175 2432.5,-175 2432.5,-181 2426.5,-187 2420.5,-187\"/>\n<text text-anchor=\"start\" x=\"2289.5\" y=\"-171.8\" font-family=\"Helvetica,sans-Serif\" font-size=\"14.00\" fill=\"#000000\">fuzz_ratio ≤ 0.265</text>\n<text text-anchor=\"start\" x=\"2309\" y=\"-156.8\" font-family=\"Helvetica,sans-Serif\" font-size=\"14.00\" fill=\"#000000\">gini = 0.686</text>\n<text text-anchor=\"start\" x=\"2303\" y=\"-141.8\" font-family=\"Helvetica,sans-Serif\" font-size=\"14.00\" fill=\"#000000\">samples = 50</text>\n<text text-anchor=\"start\" x=\"2269.5\" y=\"-126.8\" font-family=\"Helvetica,sans-Serif\" font-size=\"14.00\" fill=\"#000000\">value = [23, 10, 11, 6, 0]</text>\n<text text-anchor=\"start\" x=\"2318\" y=\"-111.8\" font-family=\"Helvetica,sans-Serif\" font-size=\"14.00\" fill=\"#000000\">class = 2</text>\n</g>\n<!-- 18&#45;&gt;22 -->\n<g id=\"edge22\" class=\"edge\">\n<title>18&#45;&gt;22</title>\n<path fill=\"none\" stroke=\"#000000\" d=\"M2347,-222.8796C2347,-214.6838 2347,-205.9891 2347,-197.5013\"/>\n<polygon fill=\"#000000\" stroke=\"#000000\" points=\"2350.5001,-197.298 2347,-187.2981 2343.5001,-197.2981 2350.5001,-197.298\"/>\n</g>\n<!-- 20 -->\n<g id=\"node21\" class=\"node\">\n<title>20</title>\n<path fill=\"#9beb69\" stroke=\"#000000\" d=\"M1953,-68C1953,-68 1765,-68 1765,-68 1759,-68 1753,-62 1753,-56 1753,-56 1753,-12 1753,-12 1753,-6 1759,0 1765,0 1765,0 1953,0 1953,0 1959,0 1965,-6 1965,-12 1965,-12 1965,-56 1965,-56 1965,-62 1959,-68 1953,-68\"/>\n<text text-anchor=\"start\" x=\"1821\" y=\"-52.8\" font-family=\"Helvetica,sans-Serif\" font-size=\"14.00\" fill=\"#000000\">gini = 0.372</text>\n<text text-anchor=\"start\" x=\"1807\" y=\"-37.8\" font-family=\"Helvetica,sans-Serif\" font-size=\"14.00\" fill=\"#000000\">samples = 2672</text>\n<text text-anchor=\"start\" x=\"1761\" y=\"-22.8\" font-family=\"Helvetica,sans-Serif\" font-size=\"14.00\" fill=\"#000000\">value = [270, 2086, 218, 98, 0]</text>\n<text text-anchor=\"start\" x=\"1830\" y=\"-7.8\" font-family=\"Helvetica,sans-Serif\" font-size=\"14.00\" fill=\"#000000\">class = 3</text>\n</g>\n<!-- 19&#45;&gt;20 -->\n<g id=\"edge20\" class=\"edge\">\n<title>19&#45;&gt;20</title>\n<path fill=\"none\" stroke=\"#000000\" d=\"M1988.2932,-103.9815C1969.5168,-93.8186 1949.4911,-82.9794 1930.9469,-72.9421\"/>\n<polygon fill=\"#000000\" stroke=\"#000000\" points=\"1932.4348,-69.7677 1921.9743,-68.0856 1929.1027,-75.9238 1932.4348,-69.7677\"/>\n</g>\n<!-- 21 -->\n<g id=\"node22\" class=\"node\">\n<title>21</title>\n<path fill=\"#e9fbde\" stroke=\"#000000\" d=\"M2134.5,-68C2134.5,-68 1995.5,-68 1995.5,-68 1989.5,-68 1983.5,-62 1983.5,-56 1983.5,-56 1983.5,-12 1983.5,-12 1983.5,-6 1989.5,0 1995.5,0 1995.5,0 2134.5,0 2134.5,0 2140.5,0 2146.5,-6 2146.5,-12 2146.5,-12 2146.5,-56 2146.5,-56 2146.5,-62 2140.5,-68 2134.5,-68\"/>\n<text text-anchor=\"start\" x=\"2027\" y=\"-52.8\" font-family=\"Helvetica,sans-Serif\" font-size=\"14.00\" fill=\"#000000\">gini = 0.694</text>\n<text text-anchor=\"start\" x=\"2021\" y=\"-37.8\" font-family=\"Helvetica,sans-Serif\" font-size=\"14.00\" fill=\"#000000\">samples = 34</text>\n<text text-anchor=\"start\" x=\"1991.5\" y=\"-22.8\" font-family=\"Helvetica,sans-Serif\" font-size=\"14.00\" fill=\"#000000\">value = [10, 14, 7, 3, 0]</text>\n<text text-anchor=\"start\" x=\"2036\" y=\"-7.8\" font-family=\"Helvetica,sans-Serif\" font-size=\"14.00\" fill=\"#000000\">class = 3</text>\n</g>\n<!-- 19&#45;&gt;21 -->\n<g id=\"edge21\" class=\"edge\">\n<title>19&#45;&gt;21</title>\n<path fill=\"none\" stroke=\"#000000\" d=\"M2065,-103.9815C2065,-95.618 2065,-86.7965 2065,-78.3409\"/>\n<polygon fill=\"#000000\" stroke=\"#000000\" points=\"2068.5001,-78.2636 2065,-68.2637 2061.5001,-78.2637 2068.5001,-78.2636\"/>\n</g>\n<!-- 23 -->\n<g id=\"node24\" class=\"node\">\n<title>23</title>\n<path fill=\"#e58139\" stroke=\"#000000\" d=\"M2299,-68C2299,-68 2177,-68 2177,-68 2171,-68 2165,-62 2165,-56 2165,-56 2165,-12 2165,-12 2165,-6 2171,0 2177,0 2177,0 2299,0 2299,0 2305,0 2311,-6 2311,-12 2311,-12 2311,-56 2311,-56 2311,-62 2305,-68 2299,-68\"/>\n<text text-anchor=\"start\" x=\"2208.5\" y=\"-52.8\" font-family=\"Helvetica,sans-Serif\" font-size=\"14.00\" fill=\"#000000\">gini = 0.0</text>\n<text text-anchor=\"start\" x=\"2198.5\" y=\"-37.8\" font-family=\"Helvetica,sans-Serif\" font-size=\"14.00\" fill=\"#000000\">samples = 7</text>\n<text text-anchor=\"start\" x=\"2173\" y=\"-22.8\" font-family=\"Helvetica,sans-Serif\" font-size=\"14.00\" fill=\"#000000\">value = [7, 0, 0, 0, 0]</text>\n<text text-anchor=\"start\" x=\"2209\" y=\"-7.8\" font-family=\"Helvetica,sans-Serif\" font-size=\"14.00\" fill=\"#000000\">class = 2</text>\n</g>\n<!-- 22&#45;&gt;23 -->\n<g id=\"edge23\" class=\"edge\">\n<title>22&#45;&gt;23</title>\n<path fill=\"none\" stroke=\"#000000\" d=\"M2306.4124,-103.9815C2297.338,-94.6989 2287.7121,-84.8522 2278.6357,-75.5677\"/>\n<polygon fill=\"#000000\" stroke=\"#000000\" points=\"2280.9887,-72.9678 2271.4954,-68.2637 2275.9831,-77.8611 2280.9887,-72.9678\"/>\n</g>\n<!-- 24 -->\n<g id=\"node25\" class=\"node\">\n<title>24</title>\n<path fill=\"#fbebe0\" stroke=\"#000000\" d=\"M2488.5,-68C2488.5,-68 2341.5,-68 2341.5,-68 2335.5,-68 2329.5,-62 2329.5,-56 2329.5,-56 2329.5,-12 2329.5,-12 2329.5,-6 2335.5,0 2341.5,0 2341.5,0 2488.5,0 2488.5,0 2494.5,0 2500.5,-6 2500.5,-12 2500.5,-12 2500.5,-56 2500.5,-56 2500.5,-62 2494.5,-68 2488.5,-68\"/>\n<text text-anchor=\"start\" x=\"2377\" y=\"-52.8\" font-family=\"Helvetica,sans-Serif\" font-size=\"14.00\" fill=\"#000000\">gini = 0.723</text>\n<text text-anchor=\"start\" x=\"2371\" y=\"-37.8\" font-family=\"Helvetica,sans-Serif\" font-size=\"14.00\" fill=\"#000000\">samples = 43</text>\n<text text-anchor=\"start\" x=\"2337.5\" y=\"-22.8\" font-family=\"Helvetica,sans-Serif\" font-size=\"14.00\" fill=\"#000000\">value = [16, 10, 11, 6, 0]</text>\n<text text-anchor=\"start\" x=\"2386\" y=\"-7.8\" font-family=\"Helvetica,sans-Serif\" font-size=\"14.00\" fill=\"#000000\">class = 2</text>\n</g>\n<!-- 22&#45;&gt;24 -->\n<g id=\"edge24\" class=\"edge\">\n<title>22&#45;&gt;24</title>\n<path fill=\"none\" stroke=\"#000000\" d=\"M2372.3207,-103.9815C2377.7016,-95.1585 2383.3932,-85.8258 2388.8059,-76.9506\"/>\n<polygon fill=\"#000000\" stroke=\"#000000\" points=\"2391.8851,-78.6236 2394.1038,-68.2637 2385.9088,-74.9789 2391.8851,-78.6236\"/>\n</g>\n<!-- 26 -->\n<g id=\"node27\" class=\"node\">\n<title>26</title>\n<path fill=\"#94ea5e\" stroke=\"#000000\" d=\"M2748,-187C2748,-187 2602,-187 2602,-187 2596,-187 2590,-181 2590,-175 2590,-175 2590,-116 2590,-116 2590,-110 2596,-104 2602,-104 2602,-104 2748,-104 2748,-104 2754,-104 2760,-110 2760,-116 2760,-116 2760,-175 2760,-175 2760,-181 2754,-187 2748,-187\"/>\n<text text-anchor=\"start\" x=\"2598\" y=\"-171.8\" font-family=\"Helvetica,sans-Serif\" font-size=\"14.00\" fill=\"#000000\">fuzz_partial_ratio ≤ 0.61</text>\n<text text-anchor=\"start\" x=\"2641.5\" y=\"-156.8\" font-family=\"Helvetica,sans-Serif\" font-size=\"14.00\" fill=\"#000000\">gini = 0.29</text>\n<text text-anchor=\"start\" x=\"2631\" y=\"-141.8\" font-family=\"Helvetica,sans-Serif\" font-size=\"14.00\" fill=\"#000000\">samples = 36</text>\n<text text-anchor=\"start\" x=\"2605.5\" y=\"-126.8\" font-family=\"Helvetica,sans-Serif\" font-size=\"14.00\" fill=\"#000000\">value = [2, 30, 0, 4, 0]</text>\n<text text-anchor=\"start\" x=\"2646\" y=\"-111.8\" font-family=\"Helvetica,sans-Serif\" font-size=\"14.00\" fill=\"#000000\">class = 3</text>\n</g>\n<!-- 25&#45;&gt;26 -->\n<g id=\"edge26\" class=\"edge\">\n<title>25&#45;&gt;26</title>\n<path fill=\"none\" stroke=\"#000000\" d=\"M2675,-222.8796C2675,-214.6838 2675,-205.9891 2675,-197.5013\"/>\n<polygon fill=\"#000000\" stroke=\"#000000\" points=\"2678.5001,-197.298 2675,-187.2981 2671.5001,-197.2981 2678.5001,-197.298\"/>\n</g>\n<!-- 29 -->\n<g id=\"node30\" class=\"node\">\n<title>29</title>\n<path fill=\"#e3f9d5\" stroke=\"#000000\" d=\"M3023.5,-187C3023.5,-187 2868.5,-187 2868.5,-187 2862.5,-187 2856.5,-181 2856.5,-175 2856.5,-175 2856.5,-116 2856.5,-116 2856.5,-110 2862.5,-104 2868.5,-104 2868.5,-104 3023.5,-104 3023.5,-104 3029.5,-104 3035.5,-110 3035.5,-116 3035.5,-116 3035.5,-175 3035.5,-175 3035.5,-181 3029.5,-187 3023.5,-187\"/>\n<text text-anchor=\"start\" x=\"2869.5\" y=\"-171.8\" font-family=\"Helvetica,sans-Serif\" font-size=\"14.00\" fill=\"#000000\">number_of_words ≤ 2.5</text>\n<text text-anchor=\"start\" x=\"2908\" y=\"-156.8\" font-family=\"Helvetica,sans-Serif\" font-size=\"14.00\" fill=\"#000000\">gini = 0.718</text>\n<text text-anchor=\"start\" x=\"2898\" y=\"-141.8\" font-family=\"Helvetica,sans-Serif\" font-size=\"14.00\" fill=\"#000000\">samples = 239</text>\n<text text-anchor=\"start\" x=\"2864.5\" y=\"-126.8\" font-family=\"Helvetica,sans-Serif\" font-size=\"14.00\" fill=\"#000000\">value = [56, 95, 52, 35, 1]</text>\n<text text-anchor=\"start\" x=\"2917\" y=\"-111.8\" font-family=\"Helvetica,sans-Serif\" font-size=\"14.00\" fill=\"#000000\">class = 3</text>\n</g>\n<!-- 25&#45;&gt;29 -->\n<g id=\"edge29\" class=\"edge\">\n<title>25&#45;&gt;29</title>\n<path fill=\"none\" stroke=\"#000000\" d=\"M2769.7826,-222.8796C2794.7955,-211.8961 2821.8491,-200.0164 2847.0747,-188.9395\"/>\n<polygon fill=\"#000000\" stroke=\"#000000\" points=\"2848.5295,-192.1233 2856.2784,-184.898 2845.715,-185.714 2848.5295,-192.1233\"/>\n</g>\n<!-- 27 -->\n<g id=\"node28\" class=\"node\">\n<title>27</title>\n<path fill=\"#85e748\" stroke=\"#000000\" d=\"M2661.5,-68C2661.5,-68 2530.5,-68 2530.5,-68 2524.5,-68 2518.5,-62 2518.5,-56 2518.5,-56 2518.5,-12 2518.5,-12 2518.5,-6 2524.5,0 2530.5,0 2530.5,0 2661.5,0 2661.5,0 2667.5,0 2673.5,-6 2673.5,-12 2673.5,-12 2673.5,-56 2673.5,-56 2673.5,-62 2667.5,-68 2661.5,-68\"/>\n<text text-anchor=\"start\" x=\"2558\" y=\"-52.8\" font-family=\"Helvetica,sans-Serif\" font-size=\"14.00\" fill=\"#000000\">gini = 0.135</text>\n<text text-anchor=\"start\" x=\"2552\" y=\"-37.8\" font-family=\"Helvetica,sans-Serif\" font-size=\"14.00\" fill=\"#000000\">samples = 28</text>\n<text text-anchor=\"start\" x=\"2526.5\" y=\"-22.8\" font-family=\"Helvetica,sans-Serif\" font-size=\"14.00\" fill=\"#000000\">value = [1, 26, 0, 1, 0]</text>\n<text text-anchor=\"start\" x=\"2567\" y=\"-7.8\" font-family=\"Helvetica,sans-Serif\" font-size=\"14.00\" fill=\"#000000\">class = 3</text>\n</g>\n<!-- 26&#45;&gt;27 -->\n<g id=\"edge27\" class=\"edge\">\n<title>26&#45;&gt;27</title>\n<path fill=\"none\" stroke=\"#000000\" d=\"M2645.5833,-103.9815C2639.2669,-95.0666 2632.5818,-85.6313 2626.2349,-76.6734\"/>\n<polygon fill=\"#000000\" stroke=\"#000000\" points=\"2628.9136,-74.3998 2620.2765,-68.2637 2623.2019,-78.4466 2628.9136,-74.3998\"/>\n</g>\n<!-- 28 -->\n<g id=\"node29\" class=\"node\">\n<title>28</title>\n<path fill=\"#e5fad7\" stroke=\"#000000\" d=\"M2826,-68C2826,-68 2704,-68 2704,-68 2698,-68 2692,-62 2692,-56 2692,-56 2692,-12 2692,-12 2692,-6 2698,0 2704,0 2704,0 2826,0 2826,0 2832,0 2838,-6 2838,-12 2838,-12 2838,-56 2838,-56 2838,-62 2832,-68 2826,-68\"/>\n<text text-anchor=\"start\" x=\"2727\" y=\"-52.8\" font-family=\"Helvetica,sans-Serif\" font-size=\"14.00\" fill=\"#000000\">gini = 0.594</text>\n<text text-anchor=\"start\" x=\"2725.5\" y=\"-37.8\" font-family=\"Helvetica,sans-Serif\" font-size=\"14.00\" fill=\"#000000\">samples = 8</text>\n<text text-anchor=\"start\" x=\"2700\" y=\"-22.8\" font-family=\"Helvetica,sans-Serif\" font-size=\"14.00\" fill=\"#000000\">value = [1, 4, 0, 3, 0]</text>\n<text text-anchor=\"start\" x=\"2736\" y=\"-7.8\" font-family=\"Helvetica,sans-Serif\" font-size=\"14.00\" fill=\"#000000\">class = 3</text>\n</g>\n<!-- 26&#45;&gt;28 -->\n<g id=\"edge28\" class=\"edge\">\n<title>26&#45;&gt;28</title>\n<path fill=\"none\" stroke=\"#000000\" d=\"M2708.5127,-103.9815C2715.857,-94.8828 2723.6388,-85.242 2731.0019,-76.1199\"/>\n<polygon fill=\"#000000\" stroke=\"#000000\" points=\"2733.7857,-78.2434 2737.3432,-68.2637 2728.3388,-73.8467 2733.7857,-78.2434\"/>\n</g>\n<!-- 30 -->\n<g id=\"node31\" class=\"node\">\n<title>30</title>\n<path fill=\"#dbf8c9\" stroke=\"#000000\" d=\"M3023.5,-68C3023.5,-68 2868.5,-68 2868.5,-68 2862.5,-68 2856.5,-62 2856.5,-56 2856.5,-56 2856.5,-12 2856.5,-12 2856.5,-6 2862.5,0 2868.5,0 2868.5,0 3023.5,0 3023.5,0 3029.5,0 3035.5,-6 3035.5,-12 3035.5,-12 3035.5,-56 3035.5,-56 3035.5,-62 3029.5,-68 3023.5,-68\"/>\n<text text-anchor=\"start\" x=\"2908\" y=\"-52.8\" font-family=\"Helvetica,sans-Serif\" font-size=\"14.00\" fill=\"#000000\">gini = 0.689</text>\n<text text-anchor=\"start\" x=\"2898\" y=\"-37.8\" font-family=\"Helvetica,sans-Serif\" font-size=\"14.00\" fill=\"#000000\">samples = 170</text>\n<text text-anchor=\"start\" x=\"2864.5\" y=\"-22.8\" font-family=\"Helvetica,sans-Serif\" font-size=\"14.00\" fill=\"#000000\">value = [30, 77, 42, 20, 1]</text>\n<text text-anchor=\"start\" x=\"2917\" y=\"-7.8\" font-family=\"Helvetica,sans-Serif\" font-size=\"14.00\" fill=\"#000000\">class = 3</text>\n</g>\n<!-- 29&#45;&gt;30 -->\n<g id=\"edge30\" class=\"edge\">\n<title>29&#45;&gt;30</title>\n<path fill=\"none\" stroke=\"#000000\" d=\"M2946,-103.9815C2946,-95.618 2946,-86.7965 2946,-78.3409\"/>\n<polygon fill=\"#000000\" stroke=\"#000000\" points=\"2949.5001,-78.2636 2946,-68.2637 2942.5001,-78.2637 2949.5001,-78.2636\"/>\n</g>\n<!-- 31 -->\n<g id=\"node32\" class=\"node\">\n<title>31</title>\n<path fill=\"#fbebe0\" stroke=\"#000000\" d=\"M3220.5,-68C3220.5,-68 3065.5,-68 3065.5,-68 3059.5,-68 3053.5,-62 3053.5,-56 3053.5,-56 3053.5,-12 3053.5,-12 3053.5,-6 3059.5,0 3065.5,0 3065.5,0 3220.5,0 3220.5,0 3226.5,0 3232.5,-6 3232.5,-12 3232.5,-12 3232.5,-56 3232.5,-56 3232.5,-62 3226.5,-68 3220.5,-68\"/>\n<text text-anchor=\"start\" x=\"3105\" y=\"-52.8\" font-family=\"Helvetica,sans-Serif\" font-size=\"14.00\" fill=\"#000000\">gini = 0.722</text>\n<text text-anchor=\"start\" x=\"3099\" y=\"-37.8\" font-family=\"Helvetica,sans-Serif\" font-size=\"14.00\" fill=\"#000000\">samples = 69</text>\n<text text-anchor=\"start\" x=\"3061.5\" y=\"-22.8\" font-family=\"Helvetica,sans-Serif\" font-size=\"14.00\" fill=\"#000000\">value = [26, 18, 10, 15, 0]</text>\n<text text-anchor=\"start\" x=\"3114\" y=\"-7.8\" font-family=\"Helvetica,sans-Serif\" font-size=\"14.00\" fill=\"#000000\">class = 2</text>\n</g>\n<!-- 29&#45;&gt;31 -->\n<g id=\"edge31\" class=\"edge\">\n<title>29&#45;&gt;31</title>\n<path fill=\"none\" stroke=\"#000000\" d=\"M3019.3555,-103.9815C3037.1483,-93.911 3056.1143,-83.1764 3073.7124,-73.2161\"/>\n<polygon fill=\"#000000\" stroke=\"#000000\" points=\"3075.7982,-76.0573 3082.777,-68.0856 3072.3502,-69.9654 3075.7982,-76.0573\"/>\n</g>\n<!-- 33 -->\n<g id=\"node34\" class=\"node\">\n<title>33</title>\n<path fill=\"#c9f8ef\" stroke=\"#000000\" d=\"M4212,-425C4212,-425 3974,-425 3974,-425 3968,-425 3962,-419 3962,-413 3962,-413 3962,-354 3962,-354 3962,-348 3968,-342 3974,-342 3974,-342 4212,-342 4212,-342 4218,-342 4224,-348 4224,-354 4224,-354 4224,-413 4224,-413 4224,-419 4218,-425 4212,-425\"/>\n<text text-anchor=\"start\" x=\"4021.5\" y=\"-409.8\" font-family=\"Helvetica,sans-Serif\" font-size=\"14.00\" fill=\"#000000\">jaccard_index ≤ 0.354</text>\n<text text-anchor=\"start\" x=\"4055\" y=\"-394.8\" font-family=\"Helvetica,sans-Serif\" font-size=\"14.00\" fill=\"#000000\">gini = 0.702</text>\n<text text-anchor=\"start\" x=\"4037\" y=\"-379.8\" font-family=\"Helvetica,sans-Serif\" font-size=\"14.00\" fill=\"#000000\">samples = 20020</text>\n<text text-anchor=\"start\" x=\"3970\" y=\"-364.8\" font-family=\"Helvetica,sans-Serif\" font-size=\"14.00\" fill=\"#000000\">value = [4663, 2929, 8832, 3302, 294]</text>\n<text text-anchor=\"start\" x=\"4064\" y=\"-349.8\" font-family=\"Helvetica,sans-Serif\" font-size=\"14.00\" fill=\"#000000\">class = 1</text>\n</g>\n<!-- 32&#45;&gt;33 -->\n<g id=\"edge33\" class=\"edge\">\n<title>32&#45;&gt;33</title>\n<path fill=\"none\" stroke=\"#000000\" d=\"M4093,-460.8796C4093,-452.6838 4093,-443.9891 4093,-435.5013\"/>\n<polygon fill=\"#000000\" stroke=\"#000000\" points=\"4096.5001,-435.298 4093,-425.2981 4089.5001,-435.2981 4096.5001,-435.298\"/>\n</g>\n<!-- 48 -->\n<g id=\"node49\" class=\"node\">\n<title>48</title>\n<path fill=\"#ee7fd6\" stroke=\"#000000\" d=\"M5578,-425C5578,-425 5390,-425 5390,-425 5384,-425 5378,-419 5378,-413 5378,-413 5378,-354 5378,-354 5378,-348 5384,-342 5390,-342 5390,-342 5578,-342 5578,-342 5584,-342 5590,-348 5590,-354 5590,-354 5590,-413 5590,-413 5590,-419 5584,-425 5578,-425\"/>\n<text text-anchor=\"start\" x=\"5426.5\" y=\"-409.8\" font-family=\"Helvetica,sans-Serif\" font-size=\"14.00\" fill=\"#000000\">fuzz_ratio ≤ 0.945</text>\n<text text-anchor=\"start\" x=\"5450.5\" y=\"-394.8\" font-family=\"Helvetica,sans-Serif\" font-size=\"14.00\" fill=\"#000000\">gini = 0.49</text>\n<text text-anchor=\"start\" x=\"5432\" y=\"-379.8\" font-family=\"Helvetica,sans-Serif\" font-size=\"14.00\" fill=\"#000000\">samples = 1239</text>\n<text text-anchor=\"start\" x=\"5386\" y=\"-364.8\" font-family=\"Helvetica,sans-Serif\" font-size=\"14.00\" fill=\"#000000\">value = [13, 63, 149, 159, 855]</text>\n<text text-anchor=\"start\" x=\"5455\" y=\"-349.8\" font-family=\"Helvetica,sans-Serif\" font-size=\"14.00\" fill=\"#000000\">class = 4</text>\n</g>\n<!-- 32&#45;&gt;48 -->\n<g id=\"edge48\" class=\"edge\">\n<title>32&#45;&gt;48</title>\n<path fill=\"none\" stroke=\"#000000\" d=\"M4228.2726,-490.9274C4500.7905,-467.6135 5111.6329,-415.356 5367.6284,-393.4556\"/>\n<polygon fill=\"#000000\" stroke=\"#000000\" points=\"5368.0316,-396.934 5377.6969,-392.5942 5367.4349,-389.9594 5368.0316,-396.934\"/>\n</g>\n<!-- 34 -->\n<g id=\"node35\" class=\"node\">\n<title>34</title>\n<path fill=\"#ecfcf9\" stroke=\"#000000\" d=\"M4100,-306C4100,-306 3862,-306 3862,-306 3856,-306 3850,-300 3850,-294 3850,-294 3850,-235 3850,-235 3850,-229 3856,-223 3862,-223 3862,-223 4100,-223 4100,-223 4106,-223 4112,-229 4112,-235 4112,-235 4112,-294 4112,-294 4112,-300 4106,-306 4100,-306\"/>\n<text text-anchor=\"start\" x=\"3923.5\" y=\"-290.8\" font-family=\"Helvetica,sans-Serif\" font-size=\"14.00\" fill=\"#000000\">fuzz_ratio ≤ 0.565</text>\n<text text-anchor=\"start\" x=\"3943\" y=\"-275.8\" font-family=\"Helvetica,sans-Serif\" font-size=\"14.00\" fill=\"#000000\">gini = 0.722</text>\n<text text-anchor=\"start\" x=\"3925\" y=\"-260.8\" font-family=\"Helvetica,sans-Serif\" font-size=\"14.00\" fill=\"#000000\">samples = 15036</text>\n<text text-anchor=\"start\" x=\"3858\" y=\"-245.8\" font-family=\"Helvetica,sans-Serif\" font-size=\"14.00\" fill=\"#000000\">value = [4552, 2515, 5583, 2157, 229]</text>\n<text text-anchor=\"start\" x=\"3952\" y=\"-230.8\" font-family=\"Helvetica,sans-Serif\" font-size=\"14.00\" fill=\"#000000\">class = 1</text>\n</g>\n<!-- 33&#45;&gt;34 -->\n<g id=\"edge34\" class=\"edge\">\n<title>33&#45;&gt;34</title>\n<path fill=\"none\" stroke=\"#000000\" d=\"M4053.8278,-341.8796C4045.2665,-332.7832 4036.1268,-323.0722 4027.3168,-313.7116\"/>\n<polygon fill=\"#000000\" stroke=\"#000000\" points=\"4029.7417,-311.1813 4020.3394,-306.2981 4024.6443,-315.9789 4029.7417,-311.1813\"/>\n</g>\n<!-- 41 -->\n<g id=\"node42\" class=\"node\">\n<title>41</title>\n<path fill=\"#92f1df\" stroke=\"#000000\" d=\"M4538.5,-306C4538.5,-306 4325.5,-306 4325.5,-306 4319.5,-306 4313.5,-300 4313.5,-294 4313.5,-294 4313.5,-235 4313.5,-235 4313.5,-229 4319.5,-223 4325.5,-223 4325.5,-223 4538.5,-223 4538.5,-223 4544.5,-223 4550.5,-229 4550.5,-235 4550.5,-235 4550.5,-294 4550.5,-294 4550.5,-300 4544.5,-306 4538.5,-306\"/>\n<text text-anchor=\"start\" x=\"4338.5\" y=\"-290.8\" font-family=\"Helvetica,sans-Serif\" font-size=\"14.00\" fill=\"#000000\">fuzz_token_set_ratio ≤ 0.975</text>\n<text text-anchor=\"start\" x=\"4394\" y=\"-275.8\" font-family=\"Helvetica,sans-Serif\" font-size=\"14.00\" fill=\"#000000\">gini = 0.515</text>\n<text text-anchor=\"start\" x=\"4380\" y=\"-260.8\" font-family=\"Helvetica,sans-Serif\" font-size=\"14.00\" fill=\"#000000\">samples = 4984</text>\n<text text-anchor=\"start\" x=\"4321.5\" y=\"-245.8\" font-family=\"Helvetica,sans-Serif\" font-size=\"14.00\" fill=\"#000000\">value = [111, 414, 3249, 1145, 65]</text>\n<text text-anchor=\"start\" x=\"4403\" y=\"-230.8\" font-family=\"Helvetica,sans-Serif\" font-size=\"14.00\" fill=\"#000000\">class = 1</text>\n</g>\n<!-- 33&#45;&gt;41 -->\n<g id=\"edge41\" class=\"edge\">\n<title>33&#45;&gt;41</title>\n<path fill=\"none\" stroke=\"#000000\" d=\"M4211.5657,-341.8796C4241.3715,-331.4168 4273.4936,-320.1409 4303.7489,-309.5203\"/>\n<polygon fill=\"#000000\" stroke=\"#000000\" points=\"4305.2249,-312.7116 4313.5012,-306.0969 4302.9064,-306.1067 4305.2249,-312.7116\"/>\n</g>\n<!-- 35 -->\n<g id=\"node36\" class=\"node\">\n<title>35</title>\n<path fill=\"#fdf7f3\" stroke=\"#000000\" d=\"M3698.5,-187C3698.5,-187 3477.5,-187 3477.5,-187 3471.5,-187 3465.5,-181 3465.5,-175 3465.5,-175 3465.5,-116 3465.5,-116 3465.5,-110 3471.5,-104 3477.5,-104 3477.5,-104 3698.5,-104 3698.5,-104 3704.5,-104 3710.5,-110 3710.5,-116 3710.5,-116 3710.5,-175 3710.5,-175 3710.5,-181 3704.5,-187 3698.5,-187\"/>\n<text text-anchor=\"start\" x=\"3511.5\" y=\"-171.8\" font-family=\"Helvetica,sans-Serif\" font-size=\"14.00\" fill=\"#000000\">number_of_words ≤ 1.5</text>\n<text text-anchor=\"start\" x=\"3550\" y=\"-156.8\" font-family=\"Helvetica,sans-Serif\" font-size=\"14.00\" fill=\"#000000\">gini = 0.695</text>\n<text text-anchor=\"start\" x=\"3536\" y=\"-141.8\" font-family=\"Helvetica,sans-Serif\" font-size=\"14.00\" fill=\"#000000\">samples = 7103</text>\n<text text-anchor=\"start\" x=\"3473.5\" y=\"-126.8\" font-family=\"Helvetica,sans-Serif\" font-size=\"14.00\" fill=\"#000000\">value = [2696, 1434, 2402, 553, 18]</text>\n<text text-anchor=\"start\" x=\"3559\" y=\"-111.8\" font-family=\"Helvetica,sans-Serif\" font-size=\"14.00\" fill=\"#000000\">class = 2</text>\n</g>\n<!-- 34&#45;&gt;35 -->\n<g id=\"edge35\" class=\"edge\">\n<title>34&#45;&gt;35</title>\n<path fill=\"none\" stroke=\"#000000\" d=\"M3849.8636,-224.792C3808.2396,-212.1883 3762.1997,-198.2475 3720.4817,-185.6153\"/>\n<polygon fill=\"#000000\" stroke=\"#000000\" points=\"3721.4009,-182.2368 3710.8157,-182.6885 3719.3722,-188.9364 3721.4009,-182.2368\"/>\n</g>\n<!-- 38 -->\n<g id=\"node39\" class=\"node\">\n<title>38</title>\n<path fill=\"#d4f9f2\" stroke=\"#000000\" d=\"M4100,-187C4100,-187 3862,-187 3862,-187 3856,-187 3850,-181 3850,-175 3850,-175 3850,-116 3850,-116 3850,-110 3856,-104 3862,-104 3862,-104 4100,-104 4100,-104 4106,-104 4112,-110 4112,-116 4112,-116 4112,-175 4112,-175 4112,-181 4106,-187 4100,-187\"/>\n<text text-anchor=\"start\" x=\"3923.5\" y=\"-171.8\" font-family=\"Helvetica,sans-Serif\" font-size=\"14.00\" fill=\"#000000\">fuzz_ratio ≤ 0.825</text>\n<text text-anchor=\"start\" x=\"3943\" y=\"-156.8\" font-family=\"Helvetica,sans-Serif\" font-size=\"14.00\" fill=\"#000000\">gini = 0.724</text>\n<text text-anchor=\"start\" x=\"3929\" y=\"-141.8\" font-family=\"Helvetica,sans-Serif\" font-size=\"14.00\" fill=\"#000000\">samples = 7933</text>\n<text text-anchor=\"start\" x=\"3858\" y=\"-126.8\" font-family=\"Helvetica,sans-Serif\" font-size=\"14.00\" fill=\"#000000\">value = [1856, 1081, 3181, 1604, 211]</text>\n<text text-anchor=\"start\" x=\"3952\" y=\"-111.8\" font-family=\"Helvetica,sans-Serif\" font-size=\"14.00\" fill=\"#000000\">class = 1</text>\n</g>\n<!-- 34&#45;&gt;38 -->\n<g id=\"edge38\" class=\"edge\">\n<title>34&#45;&gt;38</title>\n<path fill=\"none\" stroke=\"#000000\" d=\"M3981,-222.8796C3981,-214.6838 3981,-205.9891 3981,-197.5013\"/>\n<polygon fill=\"#000000\" stroke=\"#000000\" points=\"3984.5001,-197.298 3981,-187.2981 3977.5001,-197.2981 3984.5001,-197.298\"/>\n</g>\n<!-- 36 -->\n<g id=\"node37\" class=\"node\">\n<title>36</title>\n<path fill=\"#fcfffe\" stroke=\"#000000\" d=\"M3435,-68C3435,-68 3263,-68 3263,-68 3257,-68 3251,-62 3251,-56 3251,-56 3251,-12 3251,-12 3251,-6 3257,0 3263,0 3263,0 3435,0 3435,0 3441,0 3447,-6 3447,-12 3447,-12 3447,-56 3447,-56 3447,-62 3441,-68 3435,-68\"/>\n<text text-anchor=\"start\" x=\"3311\" y=\"-52.8\" font-family=\"Helvetica,sans-Serif\" font-size=\"14.00\" fill=\"#000000\">gini = 0.666</text>\n<text text-anchor=\"start\" x=\"3301\" y=\"-37.8\" font-family=\"Helvetica,sans-Serif\" font-size=\"14.00\" fill=\"#000000\">samples = 489</text>\n<text text-anchor=\"start\" x=\"3259\" y=\"-22.8\" font-family=\"Helvetica,sans-Serif\" font-size=\"14.00\" fill=\"#000000\">value = [89, 187, 191, 22, 0]</text>\n<text text-anchor=\"start\" x=\"3320\" y=\"-7.8\" font-family=\"Helvetica,sans-Serif\" font-size=\"14.00\" fill=\"#000000\">class = 1</text>\n</g>\n<!-- 35&#45;&gt;36 -->\n<g id=\"edge36\" class=\"edge\">\n<title>35&#45;&gt;36</title>\n<path fill=\"none\" stroke=\"#000000\" d=\"M3499.0052,-103.9815C3476.8249,-93.6338 3453.1419,-82.585 3431.3006,-72.3954\"/>\n<polygon fill=\"#000000\" stroke=\"#000000\" points=\"3432.6045,-69.1417 3422.0625,-68.0856 3429.645,-75.4853 3432.6045,-69.1417\"/>\n</g>\n<!-- 37 -->\n<g id=\"node38\" class=\"node\">\n<title>37</title>\n<path fill=\"#fdf4ed\" stroke=\"#000000\" d=\"M3698.5,-68C3698.5,-68 3477.5,-68 3477.5,-68 3471.5,-68 3465.5,-62 3465.5,-56 3465.5,-56 3465.5,-12 3465.5,-12 3465.5,-6 3471.5,0 3477.5,0 3477.5,0 3698.5,0 3698.5,0 3704.5,0 3710.5,-6 3710.5,-12 3710.5,-12 3710.5,-56 3710.5,-56 3710.5,-62 3704.5,-68 3698.5,-68\"/>\n<text text-anchor=\"start\" x=\"3550\" y=\"-52.8\" font-family=\"Helvetica,sans-Serif\" font-size=\"14.00\" fill=\"#000000\">gini = 0.691</text>\n<text text-anchor=\"start\" x=\"3536\" y=\"-37.8\" font-family=\"Helvetica,sans-Serif\" font-size=\"14.00\" fill=\"#000000\">samples = 6614</text>\n<text text-anchor=\"start\" x=\"3473.5\" y=\"-22.8\" font-family=\"Helvetica,sans-Serif\" font-size=\"14.00\" fill=\"#000000\">value = [2607, 1247, 2211, 531, 18]</text>\n<text text-anchor=\"start\" x=\"3559\" y=\"-7.8\" font-family=\"Helvetica,sans-Serif\" font-size=\"14.00\" fill=\"#000000\">class = 2</text>\n</g>\n<!-- 35&#45;&gt;37 -->\n<g id=\"edge37\" class=\"edge\">\n<title>35&#45;&gt;37</title>\n<path fill=\"none\" stroke=\"#000000\" d=\"M3588,-103.9815C3588,-95.618 3588,-86.7965 3588,-78.3409\"/>\n<polygon fill=\"#000000\" stroke=\"#000000\" points=\"3591.5001,-78.2636 3588,-68.2637 3584.5001,-78.2637 3591.5001,-78.2636\"/>\n</g>\n<!-- 39 -->\n<g id=\"node40\" class=\"node\">\n<title>39</title>\n<path fill=\"#d3f9f2\" stroke=\"#000000\" d=\"M3971,-68C3971,-68 3741,-68 3741,-68 3735,-68 3729,-62 3729,-56 3729,-56 3729,-12 3729,-12 3729,-6 3735,0 3741,0 3741,0 3971,0 3971,0 3977,0 3983,-6 3983,-12 3983,-12 3983,-56 3983,-56 3983,-62 3977,-68 3971,-68\"/>\n<text text-anchor=\"start\" x=\"3818\" y=\"-52.8\" font-family=\"Helvetica,sans-Serif\" font-size=\"14.00\" fill=\"#000000\">gini = 0.714</text>\n<text text-anchor=\"start\" x=\"3804\" y=\"-37.8\" font-family=\"Helvetica,sans-Serif\" font-size=\"14.00\" fill=\"#000000\">samples = 7505</text>\n<text text-anchor=\"start\" x=\"3737\" y=\"-22.8\" font-family=\"Helvetica,sans-Serif\" font-size=\"14.00\" fill=\"#000000\">value = [1835, 1036, 3085, 1473, 76]</text>\n<text text-anchor=\"start\" x=\"3827\" y=\"-7.8\" font-family=\"Helvetica,sans-Serif\" font-size=\"14.00\" fill=\"#000000\">class = 1</text>\n</g>\n<!-- 38&#45;&gt;39 -->\n<g id=\"edge39\" class=\"edge\">\n<title>38&#45;&gt;39</title>\n<path fill=\"none\" stroke=\"#000000\" d=\"M3934.4546,-103.9815C3923.8421,-94.5151 3912.5718,-84.462 3901.9829,-75.0168\"/>\n<polygon fill=\"#000000\" stroke=\"#000000\" points=\"3904.2046,-72.3084 3894.4122,-68.2637 3899.5449,-77.5322 3904.2046,-72.3084\"/>\n</g>\n<!-- 40 -->\n<g id=\"node41\" class=\"node\">\n<title>40</title>\n<path fill=\"#fffcfe\" stroke=\"#000000\" d=\"M4193,-68C4193,-68 4013,-68 4013,-68 4007,-68 4001,-62 4001,-56 4001,-56 4001,-12 4001,-12 4001,-6 4007,0 4013,0 4013,0 4193,0 4193,0 4199,0 4205,-6 4205,-12 4205,-12 4205,-56 4205,-56 4205,-62 4199,-68 4193,-68\"/>\n<text text-anchor=\"start\" x=\"4065\" y=\"-52.8\" font-family=\"Helvetica,sans-Serif\" font-size=\"14.00\" fill=\"#000000\">gini = 0.743</text>\n<text text-anchor=\"start\" x=\"4055\" y=\"-37.8\" font-family=\"Helvetica,sans-Serif\" font-size=\"14.00\" fill=\"#000000\">samples = 428</text>\n<text text-anchor=\"start\" x=\"4009\" y=\"-22.8\" font-family=\"Helvetica,sans-Serif\" font-size=\"14.00\" fill=\"#000000\">value = [21, 45, 96, 131, 135]</text>\n<text text-anchor=\"start\" x=\"4074\" y=\"-7.8\" font-family=\"Helvetica,sans-Serif\" font-size=\"14.00\" fill=\"#000000\">class = 4</text>\n</g>\n<!-- 38&#45;&gt;40 -->\n<g id=\"edge40\" class=\"edge\">\n<title>38&#45;&gt;40</title>\n<path fill=\"none\" stroke=\"#000000\" d=\"M4026.4283,-103.9815C4036.7861,-94.5151 4047.7859,-84.462 4058.1206,-75.0168\"/>\n<polygon fill=\"#000000\" stroke=\"#000000\" points=\"4060.4893,-77.5935 4065.5097,-68.2637 4055.7669,-72.4264 4060.4893,-77.5935\"/>\n</g>\n<!-- 42 -->\n<g id=\"node43\" class=\"node\">\n<title>42</title>\n<path fill=\"#d5f9f3\" stroke=\"#000000\" d=\"M4526,-187C4526,-187 4338,-187 4338,-187 4332,-187 4326,-181 4326,-175 4326,-175 4326,-116 4326,-116 4326,-110 4332,-104 4338,-104 4338,-104 4526,-104 4526,-104 4532,-104 4538,-110 4538,-116 4538,-116 4538,-175 4538,-175 4538,-181 4532,-187 4526,-187\"/>\n<text text-anchor=\"start\" x=\"4374.5\" y=\"-171.8\" font-family=\"Helvetica,sans-Serif\" font-size=\"14.00\" fill=\"#000000\">fuzz_ratio ≤ 0.755</text>\n<text text-anchor=\"start\" x=\"4394\" y=\"-156.8\" font-family=\"Helvetica,sans-Serif\" font-size=\"14.00\" fill=\"#000000\">gini = 0.621</text>\n<text text-anchor=\"start\" x=\"4380\" y=\"-141.8\" font-family=\"Helvetica,sans-Serif\" font-size=\"14.00\" fill=\"#000000\">samples = 1775</text>\n<text text-anchor=\"start\" x=\"4334\" y=\"-126.8\" font-family=\"Helvetica,sans-Serif\" font-size=\"14.00\" fill=\"#000000\">value = [53, 203, 870, 627, 22]</text>\n<text text-anchor=\"start\" x=\"4403\" y=\"-111.8\" font-family=\"Helvetica,sans-Serif\" font-size=\"14.00\" fill=\"#000000\">class = 1</text>\n</g>\n<!-- 41&#45;&gt;42 -->\n<g id=\"edge42\" class=\"edge\">\n<title>41&#45;&gt;42</title>\n<path fill=\"none\" stroke=\"#000000\" d=\"M4432,-222.8796C4432,-214.6838 4432,-205.9891 4432,-197.5013\"/>\n<polygon fill=\"#000000\" stroke=\"#000000\" points=\"4435.5001,-197.298 4432,-187.2981 4428.5001,-197.2981 4435.5001,-197.298\"/>\n</g>\n<!-- 45 -->\n<g id=\"node46\" class=\"node\">\n<title>45</title>\n<path fill=\"#76edd7\" stroke=\"#000000\" d=\"M4871.5,-187C4871.5,-187 4674.5,-187 4674.5,-187 4668.5,-187 4662.5,-181 4662.5,-175 4662.5,-175 4662.5,-116 4662.5,-116 4662.5,-110 4668.5,-104 4674.5,-104 4674.5,-104 4871.5,-104 4871.5,-104 4877.5,-104 4883.5,-110 4883.5,-116 4883.5,-116 4883.5,-175 4883.5,-175 4883.5,-181 4877.5,-187 4871.5,-187\"/>\n<text text-anchor=\"start\" x=\"4703.5\" y=\"-171.8\" font-family=\"Helvetica,sans-Serif\" font-size=\"14.00\" fill=\"#000000\">target ⊂ anchor ≤ 0.5</text>\n<text text-anchor=\"start\" x=\"4739.5\" y=\"-156.8\" font-family=\"Helvetica,sans-Serif\" font-size=\"14.00\" fill=\"#000000\">gini = 0.42</text>\n<text text-anchor=\"start\" x=\"4721\" y=\"-141.8\" font-family=\"Helvetica,sans-Serif\" font-size=\"14.00\" fill=\"#000000\">samples = 3209</text>\n<text text-anchor=\"start\" x=\"4670.5\" y=\"-126.8\" font-family=\"Helvetica,sans-Serif\" font-size=\"14.00\" fill=\"#000000\">value = [58, 211, 2379, 518, 43]</text>\n<text text-anchor=\"start\" x=\"4744\" y=\"-111.8\" font-family=\"Helvetica,sans-Serif\" font-size=\"14.00\" fill=\"#000000\">class = 1</text>\n</g>\n<!-- 41&#45;&gt;45 -->\n<g id=\"edge45\" class=\"edge\">\n<title>41&#45;&gt;45</title>\n<path fill=\"none\" stroke=\"#000000\" d=\"M4550.7865,-223.0466C4583.7632,-211.5386 4619.5906,-199.0358 4652.6555,-187.497\"/>\n<polygon fill=\"#000000\" stroke=\"#000000\" points=\"4654.0728,-190.7095 4662.3611,-184.11 4651.7663,-184.1004 4654.0728,-190.7095\"/>\n</g>\n<!-- 43 -->\n<g id=\"node44\" class=\"node\">\n<title>43</title>\n<path fill=\"#a5f3e4\" stroke=\"#000000\" d=\"M4415,-68C4415,-68 4235,-68 4235,-68 4229,-68 4223,-62 4223,-56 4223,-56 4223,-12 4223,-12 4223,-6 4229,0 4235,0 4235,0 4415,0 4415,0 4421,0 4427,-6 4427,-12 4427,-12 4427,-56 4427,-56 4427,-62 4421,-68 4415,-68\"/>\n<text text-anchor=\"start\" x=\"4287\" y=\"-52.8\" font-family=\"Helvetica,sans-Serif\" font-size=\"14.00\" fill=\"#000000\">gini = 0.576</text>\n<text text-anchor=\"start\" x=\"4277\" y=\"-37.8\" font-family=\"Helvetica,sans-Serif\" font-size=\"14.00\" fill=\"#000000\">samples = 922</text>\n<text text-anchor=\"start\" x=\"4231\" y=\"-22.8\" font-family=\"Helvetica,sans-Serif\" font-size=\"14.00\" fill=\"#000000\">value = [40, 109, 544, 226, 3]</text>\n<text text-anchor=\"start\" x=\"4296\" y=\"-7.8\" font-family=\"Helvetica,sans-Serif\" font-size=\"14.00\" fill=\"#000000\">class = 1</text>\n</g>\n<!-- 42&#45;&gt;43 -->\n<g id=\"edge43\" class=\"edge\">\n<title>42&#45;&gt;43</title>\n<path fill=\"none\" stroke=\"#000000\" d=\"M4392.1571,-103.9815C4383.2492,-94.6989 4373.7999,-84.8522 4364.8901,-75.5677\"/>\n<polygon fill=\"#000000\" stroke=\"#000000\" points=\"4367.3302,-73.0555 4357.8808,-68.2637 4362.2795,-77.9023 4367.3302,-73.0555\"/>\n</g>\n<!-- 44 -->\n<g id=\"node45\" class=\"node\">\n<title>44</title>\n<path fill=\"#e3e3fb\" stroke=\"#000000\" d=\"M4637,-68C4637,-68 4457,-68 4457,-68 4451,-68 4445,-62 4445,-56 4445,-56 4445,-12 4445,-12 4445,-6 4451,0 4457,0 4457,0 4637,0 4637,0 4643,0 4649,-6 4649,-12 4649,-12 4649,-56 4649,-56 4649,-62 4643,-68 4637,-68\"/>\n<text text-anchor=\"start\" x=\"4513.5\" y=\"-52.8\" font-family=\"Helvetica,sans-Serif\" font-size=\"14.00\" fill=\"#000000\">gini = 0.62</text>\n<text text-anchor=\"start\" x=\"4499\" y=\"-37.8\" font-family=\"Helvetica,sans-Serif\" font-size=\"14.00\" fill=\"#000000\">samples = 853</text>\n<text text-anchor=\"start\" x=\"4453\" y=\"-22.8\" font-family=\"Helvetica,sans-Serif\" font-size=\"14.00\" fill=\"#000000\">value = [13, 94, 326, 401, 19]</text>\n<text text-anchor=\"start\" x=\"4518\" y=\"-7.8\" font-family=\"Helvetica,sans-Serif\" font-size=\"14.00\" fill=\"#000000\">class = 0</text>\n</g>\n<!-- 42&#45;&gt;44 -->\n<g id=\"edge44\" class=\"edge\">\n<title>42&#45;&gt;44</title>\n<path fill=\"none\" stroke=\"#000000\" d=\"M4474.8218,-103.9815C4484.4905,-94.607 4494.7527,-84.6572 4504.4118,-75.2921\"/>\n<polygon fill=\"#000000\" stroke=\"#000000\" points=\"4506.9176,-77.7375 4511.6608,-68.2637 4502.0449,-72.7118 4506.9176,-77.7375\"/>\n</g>\n<!-- 46 -->\n<g id=\"node47\" class=\"node\">\n<title>46</title>\n<path fill=\"#8af0dd\" stroke=\"#000000\" d=\"M4867,-68C4867,-68 4679,-68 4679,-68 4673,-68 4667,-62 4667,-56 4667,-56 4667,-12 4667,-12 4667,-6 4673,0 4679,0 4679,0 4867,0 4867,0 4873,0 4879,-6 4879,-12 4879,-12 4879,-56 4879,-56 4879,-62 4873,-68 4867,-68\"/>\n<text text-anchor=\"start\" x=\"4735\" y=\"-52.8\" font-family=\"Helvetica,sans-Serif\" font-size=\"14.00\" fill=\"#000000\">gini = 0.473</text>\n<text text-anchor=\"start\" x=\"4721\" y=\"-37.8\" font-family=\"Helvetica,sans-Serif\" font-size=\"14.00\" fill=\"#000000\">samples = 2044</text>\n<text text-anchor=\"start\" x=\"4675\" y=\"-22.8\" font-family=\"Helvetica,sans-Serif\" font-size=\"14.00\" fill=\"#000000\">value = [50, 78, 1403, 470, 43]</text>\n<text text-anchor=\"start\" x=\"4744\" y=\"-7.8\" font-family=\"Helvetica,sans-Serif\" font-size=\"14.00\" fill=\"#000000\">class = 1</text>\n</g>\n<!-- 45&#45;&gt;46 -->\n<g id=\"edge46\" class=\"edge\">\n<title>45&#45;&gt;46</title>\n<path fill=\"none\" stroke=\"#000000\" d=\"M4773,-103.9815C4773,-95.618 4773,-86.7965 4773,-78.3409\"/>\n<polygon fill=\"#000000\" stroke=\"#000000\" points=\"4776.5001,-78.2636 4773,-68.2637 4769.5001,-78.2637 4776.5001,-78.2636\"/>\n</g>\n<!-- 47 -->\n<g id=\"node48\" class=\"node\">\n<title>47</title>\n<path fill=\"#5dead0\" stroke=\"#000000\" d=\"M5073,-68C5073,-68 4909,-68 4909,-68 4903,-68 4897,-62 4897,-56 4897,-56 4897,-12 4897,-12 4897,-6 4903,0 4909,0 4909,0 5073,0 5073,0 5079,0 5085,-6 5085,-12 5085,-12 5085,-56 5085,-56 5085,-62 5079,-68 5073,-68\"/>\n<text text-anchor=\"start\" x=\"4953\" y=\"-52.8\" font-family=\"Helvetica,sans-Serif\" font-size=\"14.00\" fill=\"#000000\">gini = 0.283</text>\n<text text-anchor=\"start\" x=\"4939\" y=\"-37.8\" font-family=\"Helvetica,sans-Serif\" font-size=\"14.00\" fill=\"#000000\">samples = 1165</text>\n<text text-anchor=\"start\" x=\"4905\" y=\"-22.8\" font-family=\"Helvetica,sans-Serif\" font-size=\"14.00\" fill=\"#000000\">value = [8, 133, 976, 48, 0]</text>\n<text text-anchor=\"start\" x=\"4962\" y=\"-7.8\" font-family=\"Helvetica,sans-Serif\" font-size=\"14.00\" fill=\"#000000\">class = 1</text>\n</g>\n<!-- 45&#45;&gt;47 -->\n<g id=\"edge47\" class=\"edge\">\n<title>45&#45;&gt;47</title>\n<path fill=\"none\" stroke=\"#000000\" d=\"M4854.1752,-103.9815C4874.2259,-93.7262 4895.623,-82.7823 4915.3968,-72.6686\"/>\n<polygon fill=\"#000000\" stroke=\"#000000\" points=\"4917.048,-75.7554 4924.3573,-68.0856 4913.8604,-69.5232 4917.048,-75.7554\"/>\n</g>\n<!-- 49 -->\n<g id=\"node50\" class=\"node\">\n<title>49</title>\n<path fill=\"#f7c2eb\" stroke=\"#000000\" d=\"M5578,-306C5578,-306 5390,-306 5390,-306 5384,-306 5378,-300 5378,-294 5378,-294 5378,-235 5378,-235 5378,-229 5384,-223 5390,-223 5390,-223 5578,-223 5578,-223 5584,-223 5590,-229 5590,-235 5590,-235 5590,-294 5590,-294 5590,-300 5584,-306 5578,-306\"/>\n<text text-anchor=\"start\" x=\"5390.5\" y=\"-290.8\" font-family=\"Helvetica,sans-Serif\" font-size=\"14.00\" fill=\"#000000\">fuzz_token_set_ratio ≤ 0.955</text>\n<text text-anchor=\"start\" x=\"5446\" y=\"-275.8\" font-family=\"Helvetica,sans-Serif\" font-size=\"14.00\" fill=\"#000000\">gini = 0.687</text>\n<text text-anchor=\"start\" x=\"5436\" y=\"-260.8\" font-family=\"Helvetica,sans-Serif\" font-size=\"14.00\" fill=\"#000000\">samples = 660</text>\n<text text-anchor=\"start\" x=\"5386\" y=\"-245.8\" font-family=\"Helvetica,sans-Serif\" font-size=\"14.00\" fill=\"#000000\">value = [12, 61, 139, 144, 304]</text>\n<text text-anchor=\"start\" x=\"5455\" y=\"-230.8\" font-family=\"Helvetica,sans-Serif\" font-size=\"14.00\" fill=\"#000000\">class = 4</text>\n</g>\n<!-- 48&#45;&gt;49 -->\n<g id=\"edge49\" class=\"edge\">\n<title>48&#45;&gt;49</title>\n<path fill=\"none\" stroke=\"#000000\" d=\"M5484,-341.8796C5484,-333.6838 5484,-324.9891 5484,-316.5013\"/>\n<polygon fill=\"#000000\" stroke=\"#000000\" points=\"5487.5001,-316.298 5484,-306.2981 5480.5001,-316.2981 5487.5001,-316.298\"/>\n</g>\n<!-- 56 -->\n<g id=\"node57\" class=\"node\">\n<title>56</title>\n<path fill=\"#e643c3\" stroke=\"#000000\" d=\"M6095.5,-306C6095.5,-306 5940.5,-306 5940.5,-306 5934.5,-306 5928.5,-300 5928.5,-294 5928.5,-294 5928.5,-235 5928.5,-235 5928.5,-229 5934.5,-223 5940.5,-223 5940.5,-223 6095.5,-223 6095.5,-223 6101.5,-223 6107.5,-229 6107.5,-235 6107.5,-235 6107.5,-294 6107.5,-294 6107.5,-300 6101.5,-306 6095.5,-306\"/>\n<text text-anchor=\"start\" x=\"5960.5\" y=\"-290.8\" font-family=\"Helvetica,sans-Serif\" font-size=\"14.00\" fill=\"#000000\">fuzz_ratio ≤ 0.955</text>\n<text text-anchor=\"start\" x=\"5980\" y=\"-275.8\" font-family=\"Helvetica,sans-Serif\" font-size=\"14.00\" fill=\"#000000\">gini = 0.093</text>\n<text text-anchor=\"start\" x=\"5970\" y=\"-260.8\" font-family=\"Helvetica,sans-Serif\" font-size=\"14.00\" fill=\"#000000\">samples = 579</text>\n<text text-anchor=\"start\" x=\"5936.5\" y=\"-245.8\" font-family=\"Helvetica,sans-Serif\" font-size=\"14.00\" fill=\"#000000\">value = [1, 2, 10, 15, 551]</text>\n<text text-anchor=\"start\" x=\"5989\" y=\"-230.8\" font-family=\"Helvetica,sans-Serif\" font-size=\"14.00\" fill=\"#000000\">class = 4</text>\n</g>\n<!-- 48&#45;&gt;56 -->\n<g id=\"edge56\" class=\"edge\">\n<title>48&#45;&gt;56</title>\n<path fill=\"none\" stroke=\"#000000\" d=\"M5590.1397,-359.8472C5685.6635,-338.56 5824.9825,-307.5133 5918.4287,-286.6891\"/>\n<polygon fill=\"#000000\" stroke=\"#000000\" points=\"5919.4572,-290.0459 5928.4564,-284.4545 5917.9345,-283.2134 5919.4572,-290.0459\"/>\n</g>\n<!-- 50 -->\n<g id=\"node51\" class=\"node\">\n<title>50</title>\n<path fill=\"#f3a1e1\" stroke=\"#000000\" d=\"M5465,-187C5465,-187 5301,-187 5301,-187 5295,-187 5289,-181 5289,-175 5289,-175 5289,-116 5289,-116 5289,-110 5295,-104 5301,-104 5301,-104 5465,-104 5465,-104 5471,-104 5477,-110 5477,-116 5477,-116 5477,-175 5477,-175 5477,-181 5471,-187 5465,-187\"/>\n<text text-anchor=\"start\" x=\"5309\" y=\"-171.8\" font-family=\"Helvetica,sans-Serif\" font-size=\"14.00\" fill=\"#000000\">context_group_C ≤ 0.5</text>\n<text text-anchor=\"start\" x=\"5345\" y=\"-156.8\" font-family=\"Helvetica,sans-Serif\" font-size=\"14.00\" fill=\"#000000\">gini = 0.618</text>\n<text text-anchor=\"start\" x=\"5335\" y=\"-141.8\" font-family=\"Helvetica,sans-Serif\" font-size=\"14.00\" fill=\"#000000\">samples = 384</text>\n<text text-anchor=\"start\" x=\"5297\" y=\"-126.8\" font-family=\"Helvetica,sans-Serif\" font-size=\"14.00\" fill=\"#000000\">value = [8, 38, 52, 68, 218]</text>\n<text text-anchor=\"start\" x=\"5354\" y=\"-111.8\" font-family=\"Helvetica,sans-Serif\" font-size=\"14.00\" fill=\"#000000\">class = 4</text>\n</g>\n<!-- 49&#45;&gt;50 -->\n<g id=\"edge50\" class=\"edge\">\n<title>49&#45;&gt;50</title>\n<path fill=\"none\" stroke=\"#000000\" d=\"M5448.6751,-222.8796C5441.0311,-213.8733 5432.8757,-204.2644 5425.0039,-194.9897\"/>\n<polygon fill=\"#000000\" stroke=\"#000000\" points=\"5427.6151,-192.6574 5418.4757,-187.2981 5422.2782,-197.1871 5427.6151,-192.6574\"/>\n</g>\n<!-- 53 -->\n<g id=\"node54\" class=\"node\">\n<title>53</title>\n<path fill=\"#feffff\" stroke=\"#000000\" d=\"M5662.5,-187C5662.5,-187 5507.5,-187 5507.5,-187 5501.5,-187 5495.5,-181 5495.5,-175 5495.5,-175 5495.5,-116 5495.5,-116 5495.5,-110 5501.5,-104 5507.5,-104 5507.5,-104 5662.5,-104 5662.5,-104 5668.5,-104 5674.5,-110 5674.5,-116 5674.5,-116 5674.5,-175 5674.5,-175 5674.5,-181 5668.5,-187 5662.5,-187\"/>\n<text text-anchor=\"start\" x=\"5503.5\" y=\"-171.8\" font-family=\"Helvetica,sans-Serif\" font-size=\"14.00\" fill=\"#000000\">fuzz_partial_ratio ≤ 0.855</text>\n<text text-anchor=\"start\" x=\"5547\" y=\"-156.8\" font-family=\"Helvetica,sans-Serif\" font-size=\"14.00\" fill=\"#000000\">gini = 0.721</text>\n<text text-anchor=\"start\" x=\"5537\" y=\"-141.8\" font-family=\"Helvetica,sans-Serif\" font-size=\"14.00\" fill=\"#000000\">samples = 276</text>\n<text text-anchor=\"start\" x=\"5503.5\" y=\"-126.8\" font-family=\"Helvetica,sans-Serif\" font-size=\"14.00\" fill=\"#000000\">value = [4, 23, 87, 76, 86]</text>\n<text text-anchor=\"start\" x=\"5556\" y=\"-111.8\" font-family=\"Helvetica,sans-Serif\" font-size=\"14.00\" fill=\"#000000\">class = 1</text>\n</g>\n<!-- 49&#45;&gt;53 -->\n<g id=\"edge53\" class=\"edge\">\n<title>49&#45;&gt;53</title>\n<path fill=\"none\" stroke=\"#000000\" d=\"M5519.3249,-222.8796C5526.9689,-213.8733 5535.1243,-204.2644 5542.9961,-194.9897\"/>\n<polygon fill=\"#000000\" stroke=\"#000000\" points=\"5545.7218,-197.1871 5549.5243,-187.2981 5540.3849,-192.6574 5545.7218,-197.1871\"/>\n</g>\n<!-- 51 -->\n<g id=\"node52\" class=\"node\">\n<title>51</title>\n<path fill=\"#f197de\" stroke=\"#000000\" d=\"M5279,-68C5279,-68 5115,-68 5115,-68 5109,-68 5103,-62 5103,-56 5103,-56 5103,-12 5103,-12 5103,-6 5109,0 5115,0 5115,0 5279,0 5279,0 5285,0 5291,-6 5291,-12 5291,-12 5291,-56 5291,-56 5291,-62 5285,-68 5279,-68\"/>\n<text text-anchor=\"start\" x=\"5159\" y=\"-52.8\" font-family=\"Helvetica,sans-Serif\" font-size=\"14.00\" fill=\"#000000\">gini = 0.586</text>\n<text text-anchor=\"start\" x=\"5149\" y=\"-37.8\" font-family=\"Helvetica,sans-Serif\" font-size=\"14.00\" fill=\"#000000\">samples = 348</text>\n<text text-anchor=\"start\" x=\"5111\" y=\"-22.8\" font-family=\"Helvetica,sans-Serif\" font-size=\"14.00\" fill=\"#000000\">value = [7, 36, 39, 56, 210]</text>\n<text text-anchor=\"start\" x=\"5168\" y=\"-7.8\" font-family=\"Helvetica,sans-Serif\" font-size=\"14.00\" fill=\"#000000\">class = 4</text>\n</g>\n<!-- 50&#45;&gt;51 -->\n<g id=\"edge51\" class=\"edge\">\n<title>50&#45;&gt;51</title>\n<path fill=\"none\" stroke=\"#000000\" d=\"M5313.7405,-103.9815C5297.0953,-94.0034 5279.3627,-83.3733 5262.8764,-73.4904\"/>\n<polygon fill=\"#000000\" stroke=\"#000000\" points=\"5264.2369,-70.2253 5253.8603,-68.0856 5260.6377,-76.2292 5264.2369,-70.2253\"/>\n</g>\n<!-- 52 -->\n<g id=\"node53\" class=\"node\">\n<title>52</title>\n<path fill=\"#f7fefd\" stroke=\"#000000\" d=\"M5460.5,-68C5460.5,-68 5321.5,-68 5321.5,-68 5315.5,-68 5309.5,-62 5309.5,-56 5309.5,-56 5309.5,-12 5309.5,-12 5309.5,-6 5315.5,0 5321.5,0 5321.5,0 5460.5,0 5460.5,0 5466.5,0 5472.5,-6 5472.5,-12 5472.5,-12 5472.5,-56 5472.5,-56 5472.5,-62 5466.5,-68 5460.5,-68\"/>\n<text text-anchor=\"start\" x=\"5353\" y=\"-52.8\" font-family=\"Helvetica,sans-Serif\" font-size=\"14.00\" fill=\"#000000\">gini = 0.705</text>\n<text text-anchor=\"start\" x=\"5347\" y=\"-37.8\" font-family=\"Helvetica,sans-Serif\" font-size=\"14.00\" fill=\"#000000\">samples = 36</text>\n<text text-anchor=\"start\" x=\"5317.5\" y=\"-22.8\" font-family=\"Helvetica,sans-Serif\" font-size=\"14.00\" fill=\"#000000\">value = [1, 2, 13, 12, 8]</text>\n<text text-anchor=\"start\" x=\"5362\" y=\"-7.8\" font-family=\"Helvetica,sans-Serif\" font-size=\"14.00\" fill=\"#000000\">class = 1</text>\n</g>\n<!-- 50&#45;&gt;52 -->\n<g id=\"edge52\" class=\"edge\">\n<title>50&#45;&gt;52</title>\n<path fill=\"none\" stroke=\"#000000\" d=\"M5385.9789,-103.9815C5386.579,-95.618 5387.2119,-86.7965 5387.8186,-78.3409\"/>\n<polygon fill=\"#000000\" stroke=\"#000000\" points=\"5391.3169,-78.4885 5388.5416,-68.2637 5384.3349,-77.9875 5391.3169,-78.4885\"/>\n</g>\n<!-- 54 -->\n<g id=\"node55\" class=\"node\">\n<title>54</title>\n<path fill=\"#fadaf3\" stroke=\"#000000\" d=\"M5649.5,-68C5649.5,-68 5502.5,-68 5502.5,-68 5496.5,-68 5490.5,-62 5490.5,-56 5490.5,-56 5490.5,-12 5490.5,-12 5490.5,-6 5496.5,0 5502.5,0 5502.5,0 5649.5,0 5649.5,0 5655.5,0 5661.5,-6 5661.5,-12 5661.5,-12 5661.5,-56 5661.5,-56 5661.5,-62 5655.5,-68 5649.5,-68\"/>\n<text text-anchor=\"start\" x=\"5538\" y=\"-52.8\" font-family=\"Helvetica,sans-Serif\" font-size=\"14.00\" fill=\"#000000\">gini = 0.688</text>\n<text text-anchor=\"start\" x=\"5528\" y=\"-37.8\" font-family=\"Helvetica,sans-Serif\" font-size=\"14.00\" fill=\"#000000\">samples = 201</text>\n<text text-anchor=\"start\" x=\"5498.5\" y=\"-22.8\" font-family=\"Helvetica,sans-Serif\" font-size=\"14.00\" fill=\"#000000\">value = [4, 8, 50, 56, 83]</text>\n<text text-anchor=\"start\" x=\"5547\" y=\"-7.8\" font-family=\"Helvetica,sans-Serif\" font-size=\"14.00\" fill=\"#000000\">class = 4</text>\n</g>\n<!-- 53&#45;&gt;54 -->\n<g id=\"edge54\" class=\"edge\">\n<title>53&#45;&gt;54</title>\n<path fill=\"none\" stroke=\"#000000\" d=\"M5581.6487,-103.9815C5580.9737,-95.618 5580.2616,-86.7965 5579.5791,-78.3409\"/>\n<polygon fill=\"#000000\" stroke=\"#000000\" points=\"5583.059,-77.9496 5578.7657,-68.2637 5576.0817,-78.5129 5583.059,-77.9496\"/>\n</g>\n<!-- 55 -->\n<g id=\"node56\" class=\"node\">\n<title>55</title>\n<path fill=\"#c2f7ed\" stroke=\"#000000\" d=\"M5838.5,-68C5838.5,-68 5691.5,-68 5691.5,-68 5685.5,-68 5679.5,-62 5679.5,-56 5679.5,-56 5679.5,-12 5679.5,-12 5679.5,-6 5685.5,0 5691.5,0 5691.5,0 5838.5,0 5838.5,0 5844.5,0 5850.5,-6 5850.5,-12 5850.5,-12 5850.5,-56 5850.5,-56 5850.5,-62 5844.5,-68 5838.5,-68\"/>\n<text text-anchor=\"start\" x=\"5727\" y=\"-52.8\" font-family=\"Helvetica,sans-Serif\" font-size=\"14.00\" fill=\"#000000\">gini = 0.644</text>\n<text text-anchor=\"start\" x=\"5721\" y=\"-37.8\" font-family=\"Helvetica,sans-Serif\" font-size=\"14.00\" fill=\"#000000\">samples = 75</text>\n<text text-anchor=\"start\" x=\"5687.5\" y=\"-22.8\" font-family=\"Helvetica,sans-Serif\" font-size=\"14.00\" fill=\"#000000\">value = [0, 15, 37, 20, 3]</text>\n<text text-anchor=\"start\" x=\"5736\" y=\"-7.8\" font-family=\"Helvetica,sans-Serif\" font-size=\"14.00\" fill=\"#000000\">class = 1</text>\n</g>\n<!-- 53&#45;&gt;55 -->\n<g id=\"edge55\" class=\"edge\">\n<title>53&#45;&gt;55</title>\n<path fill=\"none\" stroke=\"#000000\" d=\"M5652.0254,-103.9815C5668.1336,-94.0034 5685.2941,-83.3733 5701.2487,-73.4904\"/>\n<polygon fill=\"#000000\" stroke=\"#000000\" points=\"5703.3158,-76.3271 5709.9739,-68.0856 5699.6296,-70.3763 5703.3158,-76.3271\"/>\n</g>\n<!-- 57 -->\n<g id=\"node58\" class=\"node\">\n<title>57</title>\n<path fill=\"#ec6fd1\" stroke=\"#000000\" d=\"M6087.5,-187C6087.5,-187 5948.5,-187 5948.5,-187 5942.5,-187 5936.5,-181 5936.5,-175 5936.5,-175 5936.5,-116 5936.5,-116 5936.5,-110 5942.5,-104 5948.5,-104 5948.5,-104 6087.5,-104 6087.5,-104 6093.5,-104 6099.5,-110 6099.5,-116 6099.5,-116 6099.5,-175 6099.5,-175 6099.5,-181 6093.5,-187 6087.5,-187\"/>\n<text text-anchor=\"start\" x=\"5946.5\" y=\"-171.8\" font-family=\"Helvetica,sans-Serif\" font-size=\"14.00\" fill=\"#000000\">jaccard_index ≤ 0.417</text>\n<text text-anchor=\"start\" x=\"5980\" y=\"-156.8\" font-family=\"Helvetica,sans-Serif\" font-size=\"14.00\" fill=\"#000000\">gini = 0.393</text>\n<text text-anchor=\"start\" x=\"5974\" y=\"-141.8\" font-family=\"Helvetica,sans-Serif\" font-size=\"14.00\" fill=\"#000000\">samples = 76</text>\n<text text-anchor=\"start\" x=\"5944.5\" y=\"-126.8\" font-family=\"Helvetica,sans-Serif\" font-size=\"14.00\" fill=\"#000000\">value = [0, 2, 6, 10, 58]</text>\n<text text-anchor=\"start\" x=\"5989\" y=\"-111.8\" font-family=\"Helvetica,sans-Serif\" font-size=\"14.00\" fill=\"#000000\">class = 4</text>\n</g>\n<!-- 56&#45;&gt;57 -->\n<g id=\"edge57\" class=\"edge\">\n<title>56&#45;&gt;57</title>\n<path fill=\"none\" stroke=\"#000000\" d=\"M6018,-222.8796C6018,-214.6838 6018,-205.9891 6018,-197.5013\"/>\n<polygon fill=\"#000000\" stroke=\"#000000\" points=\"6021.5001,-197.298 6018,-187.2981 6014.5001,-197.2981 6021.5001,-197.298\"/>\n</g>\n<!-- 60 -->\n<g id=\"node61\" class=\"node\">\n<title>60</title>\n<path fill=\"#e63dc1\" stroke=\"#000000\" d=\"M6356.5,-187C6356.5,-187 6201.5,-187 6201.5,-187 6195.5,-187 6189.5,-181 6189.5,-175 6189.5,-175 6189.5,-116 6189.5,-116 6189.5,-110 6195.5,-104 6201.5,-104 6201.5,-104 6356.5,-104 6356.5,-104 6362.5,-104 6368.5,-110 6368.5,-116 6368.5,-116 6368.5,-175 6368.5,-175 6368.5,-181 6362.5,-187 6356.5,-187\"/>\n<text text-anchor=\"start\" x=\"6197.5\" y=\"-171.8\" font-family=\"Helvetica,sans-Serif\" font-size=\"14.00\" fill=\"#000000\">fuzz_partial_ratio ≤ 0.915</text>\n<text text-anchor=\"start\" x=\"6241\" y=\"-156.8\" font-family=\"Helvetica,sans-Serif\" font-size=\"14.00\" fill=\"#000000\">gini = 0.039</text>\n<text text-anchor=\"start\" x=\"6231\" y=\"-141.8\" font-family=\"Helvetica,sans-Serif\" font-size=\"14.00\" fill=\"#000000\">samples = 503</text>\n<text text-anchor=\"start\" x=\"6205.5\" y=\"-126.8\" font-family=\"Helvetica,sans-Serif\" font-size=\"14.00\" fill=\"#000000\">value = [1, 0, 4, 5, 493]</text>\n<text text-anchor=\"start\" x=\"6250\" y=\"-111.8\" font-family=\"Helvetica,sans-Serif\" font-size=\"14.00\" fill=\"#000000\">class = 4</text>\n</g>\n<!-- 56&#45;&gt;60 -->\n<g id=\"edge60\" class=\"edge\">\n<title>56&#45;&gt;60</title>\n<path fill=\"none\" stroke=\"#000000\" d=\"M6107.8214,-223.547C6131.1231,-212.9228 6156.3473,-201.4221 6180.0876,-190.598\"/>\n<polygon fill=\"#000000\" stroke=\"#000000\" points=\"6181.8085,-193.6601 6189.4554,-186.3269 6178.9045,-187.2908 6181.8085,-193.6601\"/>\n</g>\n<!-- 58 -->\n<g id=\"node59\" class=\"node\">\n<title>58</title>\n<path fill=\"#e95bcb\" stroke=\"#000000\" d=\"M6011.5,-68C6011.5,-68 5880.5,-68 5880.5,-68 5874.5,-68 5868.5,-62 5868.5,-56 5868.5,-56 5868.5,-12 5868.5,-12 5868.5,-6 5874.5,0 5880.5,0 5880.5,0 6011.5,0 6011.5,0 6017.5,0 6023.5,-6 6023.5,-12 6023.5,-12 6023.5,-56 6023.5,-56 6023.5,-62 6017.5,-68 6011.5,-68\"/>\n<text text-anchor=\"start\" x=\"5908\" y=\"-52.8\" font-family=\"Helvetica,sans-Serif\" font-size=\"14.00\" fill=\"#000000\">gini = 0.282</text>\n<text text-anchor=\"start\" x=\"5902\" y=\"-37.8\" font-family=\"Helvetica,sans-Serif\" font-size=\"14.00\" fill=\"#000000\">samples = 63</text>\n<text text-anchor=\"start\" x=\"5876.5\" y=\"-22.8\" font-family=\"Helvetica,sans-Serif\" font-size=\"14.00\" fill=\"#000000\">value = [0, 1, 4, 5, 53]</text>\n<text text-anchor=\"start\" x=\"5917\" y=\"-7.8\" font-family=\"Helvetica,sans-Serif\" font-size=\"14.00\" fill=\"#000000\">class = 4</text>\n</g>\n<!-- 57&#45;&gt;58 -->\n<g id=\"edge58\" class=\"edge\">\n<title>57&#45;&gt;58</title>\n<path fill=\"none\" stroke=\"#000000\" d=\"M5991.1899,-103.9815C5985.4331,-95.0666 5979.3404,-85.6313 5973.5559,-76.6734\"/>\n<polygon fill=\"#000000\" stroke=\"#000000\" points=\"5976.4904,-74.7658 5968.1254,-68.2637 5970.6099,-78.5631 5976.4904,-74.7658\"/>\n</g>\n<!-- 59 -->\n<g id=\"node60\" class=\"node\">\n<title>59</title>\n<path fill=\"#ffffff\" stroke=\"#000000\" d=\"M6176,-68C6176,-68 6054,-68 6054,-68 6048,-68 6042,-62 6042,-56 6042,-56 6042,-12 6042,-12 6042,-6 6048,0 6054,0 6054,0 6176,0 6176,0 6182,0 6188,-6 6188,-12 6188,-12 6188,-56 6188,-56 6188,-62 6182,-68 6176,-68\"/>\n<text text-anchor=\"start\" x=\"6077\" y=\"-52.8\" font-family=\"Helvetica,sans-Serif\" font-size=\"14.00\" fill=\"#000000\">gini = 0.675</text>\n<text text-anchor=\"start\" x=\"6071\" y=\"-37.8\" font-family=\"Helvetica,sans-Serif\" font-size=\"14.00\" fill=\"#000000\">samples = 13</text>\n<text text-anchor=\"start\" x=\"6050\" y=\"-22.8\" font-family=\"Helvetica,sans-Serif\" font-size=\"14.00\" fill=\"#000000\">value = [0, 1, 2, 5, 5]</text>\n<text text-anchor=\"start\" x=\"6086\" y=\"-7.8\" font-family=\"Helvetica,sans-Serif\" font-size=\"14.00\" fill=\"#000000\">class = 0</text>\n</g>\n<!-- 57&#45;&gt;59 -->\n<g id=\"edge59\" class=\"edge\">\n<title>57&#45;&gt;59</title>\n<path fill=\"none\" stroke=\"#000000\" d=\"M6054.1192,-103.9815C6062.1147,-94.7908 6070.5913,-85.0472 6078.5979,-75.8436\"/>\n<polygon fill=\"#000000\" stroke=\"#000000\" points=\"6081.2693,-78.1055 6085.1921,-68.2637 6075.988,-73.5111 6081.2693,-78.1055\"/>\n</g>\n<!-- 61 -->\n<g id=\"node62\" class=\"node\">\n<title>61</title>\n<path fill=\"#ef88d9\" stroke=\"#000000\" d=\"M6340,-68C6340,-68 6218,-68 6218,-68 6212,-68 6206,-62 6206,-56 6206,-56 6206,-12 6206,-12 6206,-6 6212,0 6218,0 6218,0 6340,0 6340,0 6346,0 6352,-6 6352,-12 6352,-12 6352,-56 6352,-56 6352,-62 6346,-68 6340,-68\"/>\n<text text-anchor=\"start\" x=\"6249.5\" y=\"-52.8\" font-family=\"Helvetica,sans-Serif\" font-size=\"14.00\" fill=\"#000000\">gini = 0.5</text>\n<text text-anchor=\"start\" x=\"6239.5\" y=\"-37.8\" font-family=\"Helvetica,sans-Serif\" font-size=\"14.00\" fill=\"#000000\">samples = 6</text>\n<text text-anchor=\"start\" x=\"6214\" y=\"-22.8\" font-family=\"Helvetica,sans-Serif\" font-size=\"14.00\" fill=\"#000000\">value = [1, 0, 1, 0, 4]</text>\n<text text-anchor=\"start\" x=\"6250\" y=\"-7.8\" font-family=\"Helvetica,sans-Serif\" font-size=\"14.00\" fill=\"#000000\">class = 4</text>\n</g>\n<!-- 60&#45;&gt;61 -->\n<g id=\"edge61\" class=\"edge\">\n<title>60&#45;&gt;61</title>\n<path fill=\"none\" stroke=\"#000000\" d=\"M6279,-103.9815C6279,-95.618 6279,-86.7965 6279,-78.3409\"/>\n<polygon fill=\"#000000\" stroke=\"#000000\" points=\"6282.5001,-78.2636 6279,-68.2637 6275.5001,-78.2637 6282.5001,-78.2636\"/>\n</g>\n<!-- 62 -->\n<g id=\"node63\" class=\"node\">\n<title>62</title>\n<path fill=\"#e53cc1\" stroke=\"#000000\" d=\"M6521.5,-68C6521.5,-68 6382.5,-68 6382.5,-68 6376.5,-68 6370.5,-62 6370.5,-56 6370.5,-56 6370.5,-12 6370.5,-12 6370.5,-6 6376.5,0 6382.5,0 6382.5,0 6521.5,0 6521.5,0 6527.5,0 6533.5,-6 6533.5,-12 6533.5,-12 6533.5,-56 6533.5,-56 6533.5,-62 6527.5,-68 6521.5,-68\"/>\n<text text-anchor=\"start\" x=\"6414\" y=\"-52.8\" font-family=\"Helvetica,sans-Serif\" font-size=\"14.00\" fill=\"#000000\">gini = 0.032</text>\n<text text-anchor=\"start\" x=\"6404\" y=\"-37.8\" font-family=\"Helvetica,sans-Serif\" font-size=\"14.00\" fill=\"#000000\">samples = 497</text>\n<text text-anchor=\"start\" x=\"6378.5\" y=\"-22.8\" font-family=\"Helvetica,sans-Serif\" font-size=\"14.00\" fill=\"#000000\">value = [0, 0, 3, 5, 489]</text>\n<text text-anchor=\"start\" x=\"6423\" y=\"-7.8\" font-family=\"Helvetica,sans-Serif\" font-size=\"14.00\" fill=\"#000000\">class = 4</text>\n</g>\n<!-- 60&#45;&gt;62 -->\n<g id=\"edge62\" class=\"edge\">\n<title>60&#45;&gt;62</title>\n<path fill=\"none\" stroke=\"#000000\" d=\"M6343.4188,-103.9815C6358.7573,-94.0957 6375.0885,-83.5701 6390.3016,-73.7651\"/>\n<polygon fill=\"#000000\" stroke=\"#000000\" points=\"6392.6044,-76.445 6399.1138,-68.0856 6388.8122,-70.5611 6392.6044,-76.445\"/>\n</g>\n</g>\n</svg>\n"
          },
          "metadata": {},
          "execution_count": 153
        }
      ]
    },
    {
      "cell_type": "code",
      "source": [
        ""
      ],
      "metadata": {
        "id": "NRaN_2NEEYpg"
      },
      "execution_count": 153,
      "outputs": []
    },
    {
      "cell_type": "code",
      "source": [
        ""
      ],
      "metadata": {
        "id": "BzhYfenkEYr0"
      },
      "execution_count": null,
      "outputs": []
    },
    {
      "cell_type": "code",
      "source": [
        ""
      ],
      "metadata": {
        "id": "pVVxFV__EYvn"
      },
      "execution_count": null,
      "outputs": []
    }
  ]
}